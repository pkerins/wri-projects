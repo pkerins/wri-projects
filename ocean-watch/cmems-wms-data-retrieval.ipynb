{
 "cells": [
  {
   "cell_type": "markdown",
   "id": "06812357",
   "metadata": {},
   "source": [
    "# CMEMS WMS Data Retrieval\n",
    "Construction and application of queries to retrieve data directly from Copernicus Marine Service products\n",
    "\n",
    "_Author: Peter Kerins_  \n",
    "_Created: 9 Jul 2021_  \n",
    "_Environment: jupyterlab_  "
   ]
  },
  {
   "cell_type": "markdown",
   "id": "01497956",
   "metadata": {},
   "source": [
    "Ocean Watch seeks to feature several biogeochemical parameters from the [Global Ocean Biogeochemistry Analysis and Forecast (GLOBAL_ANALYSIS_FORECAST_BIO_001_028) product](https://resources.marine.copernicus.eu/?option=com_csw&view=details&product_id=GLOBAL_ANALYSIS_FORECAST_BIO_001_028) of the [Copernicus Marine Service](https://marine.copernicus.eu/). The data will be mapped via Resource Watch. OW will also show time series of the parameters at various locations (representing outlets of rivers to the ocean).  \n",
    "\n",
    "Presenting that time series data would typically require harvesting the information from the historical product rasters. However, the CMEMS [Pretty View](https://view-cmems.mercator-ocean.fr/GLOBAL_ANALYSIS_FORECAST_BIO_001_028) WebGIS tool displays just such time series (via the `Tools`). Furthermore, these are generated using the public-facing [WMS](https://www.ogc.org/standards/wms). The Copernicus Marine User Support Expert indicated [the relevant documentation](https://docs.geoserver.org/master/en/user/services/wms/reference.html#getfeatureinfo)."
   ]
  },
  {
   "cell_type": "markdown",
   "id": "66c7c46d",
   "metadata": {},
   "source": [
    "Constructing a properly formatted `GetFeatureInfo` request from scratch without examples was unsuccessful. However, spying on the Pretty View tool while making a time series request revealed [just such an example](https://nrt.cmems-du.eu/thredds/wms/global-analysis-forecast-bio-001-028-daily?SERVICE=WMS&VERSION=1.1.1&REQUEST=GetFeatureInfo&QUERY_LAYERS=chl&BBOX=53.26,14.26,53.2600001,14.2600001&HEIGHT=1&WIDTH=1&INFO_FORMAT=text/xml&SRS=EPSG:4326&X=0&Y=0&elevation=-0.49402499198913574&time=2020-07-16T12:00:00.000Z/2021-07-16T12:00:00.000Z):\n",
    "\n",
    "```html\n",
    "https://nrt.cmems-du.eu/thredds/wms/global-analysis-forecast-bio-001-028-daily?\n",
    "SERVICE=WMS\n",
    "&VERSION=1.1.1\n",
    "&REQUEST=GetFeatureInfo\n",
    "&QUERY_LAYERS=chl\n",
    "&BBOX=53.26,14.26,53.2600001,14.2600001\n",
    "&HEIGHT=1\n",
    "&WIDTH=1\n",
    "&INFO_FORMAT=text/xml\n",
    "&SRS=EPSG:4326\n",
    "&X=0\n",
    "&Y=0\n",
    "&elevation=-0.49402499198913574\n",
    "&time=2020-07-16T12:00:00.000Z/2021-07-16T12:00:00.000Z\n",
    "```\n",
    "\n",
    "This query returns daily readings of `mass_concentration_of_chlorophyll_a_in_sea_water` at a depth of about half a meter for approximately the preceding year, at a location between Socotra and Yemen. "
   ]
  },
  {
   "cell_type": "markdown",
   "id": "f01ca1d6",
   "metadata": {},
   "source": [
    "A similar example closer to OW's needs can also be generated. [The query](https://nrt.cmems-du.eu/thredds/wms/global-analysis-forecast-bio-001-028-monthly?SERVICE=WMS&VERSION=1.1.1&REQUEST=GetFeatureInfo&QUERY_LAYERS=o2&BBOX=31.01,31.74,31.010000100000003,31.7400001&HEIGHT=1&WIDTH=1&INFO_FORMAT=text/xml&SRS=EPSG:4326&X=0&Y=0&elevation=-0.49402499198913574&time=2019-01-16T12:00:00.000Z/2021-05-16T12:00:00.000Z) for the full times series of monthly `mole_concentration_of_dissolved_molecular_oxygen_in_sea_water` values at a half-meter of depth at a pixel near the mouth of the Nile:\n",
    "```html\n",
    "https://nrt.cmems-du.eu/thredds/wms/global-analysis-forecast-bio-001-028-monthly?\n",
    "SERVICE=WMS\n",
    "&VERSION=1.1.1\n",
    "&REQUEST=GetFeatureInfo\n",
    "&QUERY_LAYERS=o2\n",
    "&BBOX=31.01,31.74,31.010000100000003,31.7400001\n",
    "&HEIGHT=1\n",
    "&WIDTH=1\n",
    "&INFO_FORMAT=text/xml\n",
    "&SRS=EPSG:4326\n",
    "&X=0\n",
    "&Y=0\n",
    "&elevation=-0.49402499198913574\n",
    "&time=2019-01-16T12:00:00.000Z/2021-05-16T12:00:00.000Z\n",
    "```"
   ]
  },
  {
   "cell_type": "markdown",
   "id": "97250b67",
   "metadata": {},
   "source": [
    "This template can be modified to accommodate OW needs."
   ]
  },
  {
   "cell_type": "markdown",
   "id": "c4417470",
   "metadata": {},
   "source": [
    "# Service"
   ]
  },
  {
   "cell_type": "markdown",
   "id": "9571a639",
   "metadata": {},
   "source": [
    "Capabilities of service requested via:\n",
    "```html\n",
    "https://nrt.cmems-du.eu/thredds/wms/global-analysis-forecast-bio-001-028-monthly?\n",
    "SERVICE=WMS\n",
    "&VERSION=1.1.1\n",
    "&REQUEST=GetCapabilities\n",
    "```"
   ]
  },
  {
   "cell_type": "markdown",
   "id": "a817edee",
   "metadata": {},
   "source": [
    "Key excerpt from response:\n",
    "```xml\n",
    "            <GetFeatureInfo>\n",
    "                <Format>image/png</Format>\n",
    "                <Format>text/xml</Format>\n",
    "                <DCPType>\n",
    "                    <HTTP>\n",
    "                        <Get>\n",
    "                            <OnlineResource xlink:type=\"simple\" xlink:href=\"http://nrt.cmems-du.eu/thredds/wms/global-analysis-forecast-bio-001-028-monthly\" />\n",
    "                        </Get>\n",
    "                    </HTTP>\n",
    "                </DCPType>\n",
    "            </GetFeatureInfo>\n",
    "```\n",
    "Data can only be returned in `text/xml` format, not the preferred JSON (`application/json`)."
   ]
  },
  {
   "cell_type": "markdown",
   "id": "95cbd283",
   "metadata": {},
   "source": [
    "# Parameters"
   ]
  },
  {
   "cell_type": "markdown",
   "id": "c89daa9e",
   "metadata": {},
   "source": [
    "## Variable\n",
    "- _mole_concentration_of_dissolved_molecular_oxygen_in_sea_water (mmol m-3)_  \n",
    "  - `QUERY_LAYERS=o2`  \n",
    "- _mole_concentration_of_phosphate_in_sea_water (mmol m-3)_  \n",
    "  - `QUERY_LAYERS=no3`  \n",
    "- _mole_concentration_of_nitrate_in_sea_water (mmol m-3)_  \n",
    "  - `QUERY_LAYERS=po4`  \n",
    "  \n",
    "Note: providing a comma-separated list of valid layers (eg `QUERY_lAYERS=o2,no3`) returns an exception (`400` response)\n"
   ]
  },
  {
   "cell_type": "markdown",
   "id": "0a6eabcd",
   "metadata": {},
   "source": [
    "## Depth\n",
    "- `elevation=-0.49402499198913574`\n",
    "- `elevation=-1.5413750410079956`\n",
    "- `elevation=-2.6456689834594727`\n",
    "- `elevation=-3.8194949626922607`\n",
    "- `elevation=-5.078224182128906`"
   ]
  },
  {
   "cell_type": "markdown",
   "id": "f9d6b493",
   "metadata": {},
   "source": [
    "## Bounding Box\n",
    "`xmin`,`ymin` are just the point of selection; `xmax`, `ymax` are just minimum value plus 0.0000001"
   ]
  },
  {
   "cell_type": "markdown",
   "id": "4a2ceb38",
   "metadata": {},
   "source": [
    "# Example Request"
   ]
  },
  {
   "cell_type": "markdown",
   "id": "090f1c55",
   "metadata": {},
   "source": [
    "Oxygen\n",
    "```html\n",
    "https://nrt.cmems-du.eu/thredds/wms/global-analysis-forecast-bio-001-028-monthly?\n",
    "SERVICE=WMS\n",
    "&VERSION=1.1.1\n",
    "&REQUEST=GetFeatureInfo\n",
    "&QUERY_LAYERS=o2\n",
    "&BBOX=31.01,31.74,31.010000100000003,31.7400001\n",
    "&HEIGHT=1\n",
    "&WIDTH=1\n",
    "&INFO_FORMAT=info_format=text/xml\n",
    "&SRS=EPSG:4326\n",
    "&X=0\n",
    "&Y=0\n",
    "&elevation=-0.49402499198913574\n",
    "&time=2019-01-16T12:00:00.000Z/2021-05-16T12:00:00.000Z\n",
    "```"
   ]
  },
  {
   "cell_type": "markdown",
   "id": "a41d7324",
   "metadata": {},
   "source": [
    " # Workflow\n",
    " \n",
    " - Cycle through preexisting list of coordinates representing river mouths. For each coordinate pair:\n",
    " - "
   ]
  },
  {
   "cell_type": "markdown",
   "id": "1ba13254",
   "metadata": {},
   "source": []
  },
  {
   "cell_type": "code",
   "execution_count": null,
   "id": "a7a4359a",
   "metadata": {},
   "outputs": [],
   "source": [
    "# preexisting:\n",
    "# set of points representing river mouths\n",
    "# table for data\n",
    "\n",
    "# cycle\n",
    "# for each point:\n",
    "# for each chemical & depth:\n",
    "# construct query\n",
    "# pull data from wms\n",
    "# hold xml response\n",
    "# convert to something, probably dataframe\n",
    "# (may choose to parallelize this process)\n",
    "# append to larger existing dataframe\n",
    "\n",
    "# at end: \n",
    "# clean existing persistent table\n",
    "# dump new dataframe into table"
   ]
  }
 ],
 "metadata": {
  "kernelspec": {
   "display_name": "rw",
   "language": "python",
   "name": "rw"
  },
  "language_info": {
   "codemirror_mode": {
    "name": "ipython",
    "version": 3
   },
   "file_extension": ".py",
   "mimetype": "text/x-python",
   "name": "python",
   "nbconvert_exporter": "python",
   "pygments_lexer": "ipython3",
   "version": "3.7.10"
  }
 },
 "nbformat": 4,
 "nbformat_minor": 5
}
