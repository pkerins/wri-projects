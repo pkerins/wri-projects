{
 "cells": [
  {
   "cell_type": "markdown",
   "metadata": {},
   "source": [
    "# Local Threats\n",
    "Percentage of total reef area where threats from various sources are low, medium, high, or very high.\n",
    "\n",
    "_Author: Peter Kerins_  \n",
    "_Created: 6 May 2021_  \n",
    "_Environment: jupyterlab_  "
   ]
  },
  {
   "cell_type": "markdown",
   "metadata": {},
   "source": [
    "## Style\n",
    "- Vega chart\n",
    "- Vertical bar chart\n",
    "- Value is fraction at each threat level\n",
    "- Single stacked, normalized bar per category"
   ]
  },
  {
   "cell_type": "markdown",
   "metadata": {},
   "source": [
    "## Data\n",
    "[ocn.calcs.007 Coral Reef Local Threats](https://resourcewatch.carto.com/u/wri-rw/dataset/ocn_calcs_007_local_threats)  \n",
    "\n",
    "Figures from [Reefs at Risk Revisited](https://www.wri.org/research/reefs-risk-revisited)  "
   ]
  },
  {
   "cell_type": "markdown",
   "metadata": {},
   "source": [
    "## Preparation"
   ]
  },
  {
   "cell_type": "code",
   "execution_count": 1,
   "metadata": {
    "tags": []
   },
   "outputs": [],
   "source": [
    "import json\n",
    "from vega import Vega\n",
    "from IPython.display import display"
   ]
  },
  {
   "cell_type": "code",
   "execution_count": 2,
   "metadata": {
    "tags": []
   },
   "outputs": [],
   "source": [
    "def Vega(spec):\n",
    "    bundle = {}\n",
    "    bundle['application/vnd.vega.v5+json'] = spec\n",
    "    display(bundle, raw=True)"
   ]
  },
  {
   "cell_type": "code",
   "execution_count": 3,
   "metadata": {
    "tags": []
   },
   "outputs": [],
   "source": [
    "widget_width = 400\n",
    "widget_height = 300"
   ]
  },
  {
   "cell_type": "markdown",
   "metadata": {},
   "source": [
    "# Visualizations"
   ]
  },
  {
   "cell_type": "markdown",
   "metadata": {},
   "source": [
    "## ~Global~\n",
    "Global version of \"local threats\" probably does not make sense.  "
   ]
  },
  {
   "cell_type": "markdown",
   "metadata": {},
   "source": [
    "## Regional"
   ]
  },
  {
   "cell_type": "markdown",
   "metadata": {},
   "source": [
    "### Query\n",
    "Note that regional filtering happens within widget via transform"
   ]
  },
  {
   "cell_type": "markdown",
   "metadata": {},
   "source": [
    "```sql\n",
    "SELECT * FROM ocn_calcs_007_local_threats\n",
    "```"
   ]
  },
  {
   "cell_type": "markdown",
   "metadata": {},
   "source": [
    "### Specification"
   ]
  },
  {
   "cell_type": "code",
   "execution_count": 4,
   "metadata": {
    "tags": []
   },
   "outputs": [
    {
     "data": {
      "application/vnd.vega.v5+json": {
       "autosize": {
        "contains": "padding",
        "resize": true,
        "type": "pad"
       },
       "axes": [
        {
         "format": "%",
         "labelAlign": "right",
         "labelBaseline": "middle",
         "labelPadding": 5,
         "orient": "left",
         "scale": "yscale",
         "title": "Percentage of coral reefs"
        },
        {
         "encode": {
          "labels": {
           "hover": {
            "fill": {
             "value": "firebrick"
            }
           },
           "interactive": true,
           "update": {
            "align": {
             "value": "center"
            },
            "angle": {
             "value": 0
            },
            "baseline": {
             "value": "middle"
            },
            "dx": {
             "value": 0
            },
            "dy": {
             "value": 5
            },
            "fill": {
             "value": "black"
            },
            "fontSize": {
             "value": 10
            },
            "lineBreak": {
             "value": " "
            },
            "text": {
             "signal": "datum.value"
            }
           }
          }
         },
         "labelPadding": 4,
         "orient": "bottom",
         "scale": "xscale",
         "tickSize": 0,
         "zindex": 1
        }
       ],
       "data": [
        {
         "format": {
          "property": "rows",
          "type": "json"
         },
         "name": "table",
         "transform": [
          {
           "expr": "datum.gcrmn_reg == region_name",
           "type": "filter"
          },
          {
           "as": "fraction_low",
           "expr": "datum.area_low/datum.area_total",
           "type": "formula"
          },
          {
           "as": "fraction_medium",
           "expr": "datum.area_medium/datum.area_total",
           "type": "formula"
          },
          {
           "as": "fraction_high",
           "expr": "datum.area_high/datum.area_total",
           "type": "formula"
          },
          {
           "as": "fraction_veryhigh",
           "expr": "datum.area_veryhigh/datum.area_total",
           "type": "formula"
          },
          {
           "as": "sum_low-medium",
           "expr": "datum.fraction_low+datum.fraction_medium",
           "type": "formula"
          },
          {
           "as": "sum_low-medium-high",
           "expr": "datum.fraction_low+datum.fraction_medium+datum.fraction_high",
           "type": "formula"
          },
          {
           "as": "sum_veryhigh-high",
           "expr": "datum.fraction_veryhigh+datum.fraction_high",
           "type": "formula"
          },
          {
           "as": "sum_veryhigh-high-medium",
           "expr": "datum.fraction_veryhigh+datum.fraction_high+datum.fraction_medium",
           "type": "formula"
          }
         ],
         "url": "https://wri-rw.carto.com/api/v2/sql?q=SELECT * FROM ocn_calcs_007_local_threats&env=production"
        }
       ],
       "description": "Proportion of coral reef area under various magnitudes of local threat, separated by type of threat",
       "height": 300,
       "legends": [
        {
         "fill": "color",
         "orient": "right",
         "title": [
          "Threat level"
         ]
        }
       ],
       "marks": [
        {
         "encode": {
          "enter": {
           "fill": {
            "scale": "color",
            "value": "Very High"
           },
           "tooltip": {
            "signal": "{'Type':datum.threat, 'Threat level':'Very High', 'Percentage of reef area':format(datum.fraction_veryhigh,'.1%')}"
           },
           "width": {
            "band": 1,
            "scale": "xscale"
           },
           "x": {
            "field": "threat",
            "scale": "xscale"
           },
           "y": {
            "scale": "yscale",
            "value": "0"
           },
           "y2": {
            "field": "fraction_veryhigh",
            "scale": "yscale"
           }
          },
          "hover": {
           "fillOpacity": {
            "value": 0.5
           }
          },
          "update": {
           "fillOpacity": {
            "value": 1
           }
          }
         },
         "from": {
          "data": "table"
         },
         "name": "bars_veryhigh",
         "type": "rect"
        },
        {
         "encode": {
          "enter": {
           "fill": {
            "scale": "color",
            "value": "High"
           },
           "tooltip": {
            "signal": "{'Type':datum.threat, 'Threat level':'High', 'Percentage of reef area':format(datum.fraction_high,'.1%')}"
           },
           "width": {
            "band": 1,
            "scale": "xscale"
           },
           "x": {
            "field": "threat",
            "scale": "xscale"
           },
           "y": {
            "field": "fraction_veryhigh",
            "scale": "yscale"
           },
           "y2": {
            "field": "sum_veryhigh-high",
            "scale": "yscale"
           }
          },
          "hover": {
           "fillOpacity": {
            "value": 0.5
           }
          },
          "update": {
           "fillOpacity": {
            "value": 1
           }
          }
         },
         "from": {
          "data": "table"
         },
         "name": "bars_high",
         "type": "rect"
        },
        {
         "encode": {
          "enter": {
           "fill": {
            "scale": "color",
            "value": "Medium"
           },
           "tooltip": {
            "signal": "{'Type':datum.threat, 'Threat level':'Medium', 'Percentage of reef area':format(datum.fraction_medium,'.1%')}"
           },
           "width": {
            "band": 1,
            "scale": "xscale"
           },
           "x": {
            "field": "threat",
            "scale": "xscale"
           },
           "y": {
            "field": "sum_veryhigh-high",
            "scale": "yscale"
           },
           "y2": {
            "field": "sum_veryhigh-high-medium",
            "scale": "yscale"
           }
          },
          "hover": {
           "fillOpacity": {
            "value": 0.5
           }
          },
          "update": {
           "fillOpacity": {
            "value": 1
           }
          }
         },
         "from": {
          "data": "table"
         },
         "name": "bars_medium",
         "type": "rect"
        },
        {
         "encode": {
          "enter": {
           "fill": {
            "scale": "color",
            "value": "Low"
           },
           "tooltip": {
            "signal": "{'Type':datum.threat, 'Threat level':'Low', 'Percentage of reef area':format(datum.fraction_low,'.1%')}"
           },
           "width": {
            "band": 1,
            "scale": "xscale"
           },
           "x": {
            "field": "threat",
            "scale": "xscale"
           },
           "y": {
            "field": "sum_veryhigh-high-medium",
            "scale": "yscale"
           },
           "y2": {
            "scale": "yscale",
            "value": 1
           }
          },
          "hover": {
           "fillOpacity": {
            "value": 0.5
           }
          },
          "update": {
           "fillOpacity": {
            "value": 1
           }
          }
         },
         "from": {
          "data": "table"
         },
         "name": "bars_low",
         "type": "rect"
        }
       ],
       "padding": {
        "bottom": 5,
        "left": 0,
        "right": 0,
        "top": 0
       },
       "scales": [
        {
         "domain": {
          "data": "table",
          "field": "threat"
         },
         "name": "xscale",
         "padding": 0.2,
         "range": "width",
         "type": "band"
        },
        {
         "domain": [
          0,
          1
         ],
         "name": "yscale",
         "nice": true,
         "range": "height",
         "round": true,
         "type": "linear",
         "zero": true
        },
        {
         "domain": [
          "Low",
          "Medium",
          "High",
          "Very High"
         ],
         "name": "color",
         "range": [
          "#999DFB",
          "#FFC000",
          "#FF250B",
          "#953735"
         ],
         "type": "ordinal"
        }
       ],
       "schema": "https://vega.github.io/schema/vega/v5.json",
       "signals": [
        {
         "name": "hover",
         "on": [
          {
           "events": "@cell:mouseover",
           "update": "datum"
          },
          {
           "events": "@cell:mouseout",
           "update": "null"
          }
         ],
         "value": null
        },
        {
         "bind": {
          "input": "select",
          "name": "GCRMN Region ",
          "options": [
           "Australia",
           "Brazil",
           "Caribbean",
           "East Asia",
           "ETP",
           "Pacific",
           "PERSGA",
           "ROPME",
           "South Asia",
           "WIO"
          ]
         },
         "description": "Name of GCRMN region",
         "name": "region_name",
         "value": "Caribbean"
        }
       ],
       "width": 400
      },
      "image/png": "[encoded data removed]"
     },
     "metadata": {},
     "output_type": "display_data"
    }
   ],
   "source": [
    "spec=json.loads(\"\"\"\n",
    "{\n",
    "  \"schema\": \"https://vega.github.io/schema/vega/v5.json\",\n",
    "  \"description\": \"Proportion of coral reef area under various magnitudes of local threat, separated by type of threat\",\n",
    "  \"width\": 300,\n",
    "  \"height\": 250,\n",
    "  \"padding\": {\n",
    "    \"left\": 0,\n",
    "    \"top\": 0,\n",
    "    \"right\": 0,\n",
    "    \"bottom\": 5\n",
    "  },\n",
    "  \"autosize\": {\n",
    "    \"type\": \"pad\",\n",
    "    \"resize\": true,\n",
    "    \"contains\": \"padding\"\n",
    "  },\n",
    "  \"signals\": [\n",
    "    {\n",
    "      \"name\": \"hover\",\n",
    "      \"value\": null,\n",
    "      \"on\": [\n",
    "        {\n",
    "          \"events\": \"@cell:mouseover\",\n",
    "          \"update\": \"datum\"\n",
    "        },\n",
    "        {\n",
    "          \"events\": \"@cell:mouseout\",\n",
    "          \"update\": \"null\"\n",
    "        }\n",
    "      ]\n",
    "    },\n",
    "    {\n",
    "      \"name\": \"region_name\",\n",
    "      \"description\": \"Name of GCRMN region\",\n",
    "      \"bind\": {\n",
    "        \"input\": \"select\",\n",
    "        \"options\": [\n",
    "          \"Australia\",\n",
    "          \"Brazil\",\n",
    "          \"Caribbean\",\n",
    "          \"East Asia\",\n",
    "          \"ETP\",\n",
    "          \"Pacific\",\n",
    "          \"PERSGA\",\n",
    "          \"ROPME\",\n",
    "          \"South Asia\",\n",
    "          \"WIO\"\n",
    "        ],\n",
    "        \"name\": \"GCRMN Region \"\n",
    "      },\n",
    "      \"value\": \"Caribbean\"\n",
    "    }\n",
    "  ],\n",
    "  \"data\": [\n",
    "    {\n",
    "      \"name\": \"table\",\n",
    "      \"url\": \"https://wri-rw.carto.com/api/v2/sql?q=SELECT * FROM ocn_calcs_007_local_threats&env=production\",\n",
    "      \"format\": {\n",
    "        \"type\": \"json\",\n",
    "        \"property\": \"rows\"\n",
    "      },\n",
    "      \"transform\": [\n",
    "        {\n",
    "          \"type\": \"filter\",\n",
    "          \"expr\": \"datum.gcrmn_reg == region_name\"\n",
    "        },\n",
    "        {\n",
    "          \"type\": \"formula\",\n",
    "          \"expr\": \"datum.area_low/datum.area_total\",\n",
    "          \"as\": \"fraction_low\"\n",
    "        },\n",
    "        {\n",
    "          \"type\": \"formula\",\n",
    "          \"expr\": \"datum.area_medium/datum.area_total\",\n",
    "          \"as\": \"fraction_medium\"\n",
    "        },\n",
    "        {\n",
    "          \"type\": \"formula\",\n",
    "          \"expr\": \"datum.area_high/datum.area_total\",\n",
    "          \"as\": \"fraction_high\"\n",
    "        },\n",
    "        {\n",
    "          \"type\": \"formula\",\n",
    "          \"expr\": \"datum.area_veryhigh/datum.area_total\",\n",
    "          \"as\": \"fraction_veryhigh\"\n",
    "        },\n",
    "        {\n",
    "          \"type\": \"formula\",\n",
    "          \"expr\": \"datum.fraction_low+datum.fraction_medium\",\n",
    "          \"as\": \"sum_low-medium\"\n",
    "        },\n",
    "        {\n",
    "          \"type\": \"formula\",\n",
    "          \"expr\": \"datum.fraction_low+datum.fraction_medium+datum.fraction_high\",\n",
    "          \"as\": \"sum_low-medium-high\"\n",
    "        },\n",
    "        {\n",
    "          \"type\": \"formula\",\n",
    "          \"expr\": \"datum.fraction_veryhigh+datum.fraction_high\",\n",
    "          \"as\": \"sum_veryhigh-high\"\n",
    "        },\n",
    "        {\n",
    "          \"type\": \"formula\",\n",
    "          \"expr\": \"datum.fraction_veryhigh+datum.fraction_high+datum.fraction_medium\",\n",
    "          \"as\": \"sum_veryhigh-high-medium\"\n",
    "        }\n",
    "      ]\n",
    "    }\n",
    "  ],\n",
    "  \"scales\": [\n",
    "    {\n",
    "      \"name\": \"xscale\",\n",
    "      \"type\": \"band\",\n",
    "      \"domain\": {\n",
    "        \"data\": \"table\",\n",
    "        \"field\": \"threat\"\n",
    "      },\n",
    "      \"range\": \"width\",\n",
    "      \"padding\": 0.2\n",
    "    },\n",
    "    {\n",
    "      \"name\": \"yscale\",\n",
    "      \"type\": \"linear\",\n",
    "      \"domain\": [\n",
    "        0,\n",
    "        1\n",
    "      ],\n",
    "      \"range\": \"height\",\n",
    "      \"round\": true,\n",
    "      \"zero\": true,\n",
    "      \"nice\": true\n",
    "    },\n",
    "    {\n",
    "      \"name\": \"color\",\n",
    "      \"type\": \"ordinal\",\n",
    "      \"domain\": [\n",
    "        \"Low\",\n",
    "        \"Medium\",\n",
    "        \"High\",\n",
    "        \"Very High\"\n",
    "      ],\n",
    "      \"range\": [\n",
    "        \"#999DFB\",\n",
    "        \"#FFC000\",\n",
    "        \"#FF250B\",\n",
    "        \"#953735\"\n",
    "      ]\n",
    "    }\n",
    "  ],\n",
    "  \"axes\": [\n",
    "    {\n",
    "      \"orient\": \"left\",\n",
    "      \"scale\": \"yscale\",\n",
    "      \"title\": \"Percentage of coral reefs\",\n",
    "      \"labelAlign\": \"right\",\n",
    "      \"labelBaseline\": \"middle\",\n",
    "      \"labelPadding\": 5,\n",
    "      \"format\": \"%\"\n",
    "    },\n",
    "    {\n",
    "      \"orient\": \"bottom\",\n",
    "      \"scale\": \"xscale\",\n",
    "      \"tickSize\": 0,\n",
    "      \"labelPadding\": 4,\n",
    "      \"zindex\": 1,\n",
    "      \"encode\": {\n",
    "        \"labels\": {\n",
    "          \"interactive\": true,\n",
    "          \"update\": {\n",
    "            \"text\": {\n",
    "              \"signal\": \"datum.value\"\n",
    "            },\n",
    "            \"fill\": {\n",
    "              \"value\": \"black\"\n",
    "            },\n",
    "            \"angle\": {\n",
    "              \"value\": 0\n",
    "            },\n",
    "            \"fontSize\": {\n",
    "              \"value\": 10\n",
    "            },\n",
    "            \"align\": {\n",
    "              \"value\": \"center\"\n",
    "            },\n",
    "            \"baseline\": {\n",
    "              \"value\": \"middle\"\n",
    "            },\n",
    "            \"dy\": {\n",
    "              \"value\": 5\n",
    "            },\n",
    "            \"dx\": {\n",
    "              \"value\": 0\n",
    "            },\n",
    "            \"lineBreak\": {\n",
    "              \"value\": \" \"\n",
    "            }\n",
    "          },\n",
    "          \"hover\": {\n",
    "            \"fill\": {\n",
    "              \"value\": \"firebrick\"\n",
    "            }\n",
    "          }\n",
    "        }\n",
    "      }\n",
    "    }\n",
    "  ],\n",
    "  \"marks\": [\n",
    "    {\n",
    "      \"name\": \"bars_veryhigh\",\n",
    "      \"from\": {\n",
    "        \"data\": \"table\"\n",
    "      },\n",
    "      \"type\": \"rect\",\n",
    "      \"encode\": {\n",
    "        \"enter\": {\n",
    "          \"x\": {\n",
    "            \"scale\": \"xscale\",\n",
    "            \"field\": \"threat\"\n",
    "          },\n",
    "          \"width\": {\n",
    "            \"scale\": \"xscale\",\n",
    "            \"band\": 1\n",
    "          },\n",
    "          \"y\": {\n",
    "            \"scale\": \"yscale\",\n",
    "            \"value\": \"0\"\n",
    "          },\n",
    "          \"y2\": {\n",
    "            \"scale\": \"yscale\",\n",
    "            \"field\": \"fraction_veryhigh\"\n",
    "          },\n",
    "          \"fill\": {\n",
    "            \"scale\": \"color\",\n",
    "            \"value\": \"Very High\"\n",
    "          },\n",
    "          \"tooltip\": {\n",
    "            \"signal\": \"{'Type':datum.threat, 'Threat level':'Very High', 'Percentage of reef area':format(datum.fraction_veryhigh,'.1%')}\"\n",
    "          }\n",
    "        },\n",
    "        \"hover\": {\n",
    "          \"fillOpacity\": {\n",
    "            \"value\": 0.5\n",
    "          }\n",
    "        },\n",
    "        \"update\": {\n",
    "          \"fillOpacity\": {\n",
    "            \"value\": 1\n",
    "          }\n",
    "        }\n",
    "      }\n",
    "    },\n",
    "    {\n",
    "      \"name\": \"bars_high\",\n",
    "      \"from\": {\n",
    "        \"data\": \"table\"\n",
    "      },\n",
    "      \"type\": \"rect\",\n",
    "      \"encode\": {\n",
    "        \"enter\": {\n",
    "          \"x\": {\n",
    "            \"scale\": \"xscale\",\n",
    "            \"field\": \"threat\"\n",
    "          },\n",
    "          \"width\": {\n",
    "            \"scale\": \"xscale\",\n",
    "            \"band\": 1\n",
    "          },\n",
    "          \"y\": {\n",
    "            \"scale\": \"yscale\",\n",
    "            \"field\": \"fraction_veryhigh\"\n",
    "          },\n",
    "          \"y2\": {\n",
    "            \"scale\": \"yscale\",\n",
    "            \"field\": \"sum_veryhigh-high\"\n",
    "          },\n",
    "          \"fill\": {\n",
    "            \"scale\": \"color\",\n",
    "            \"value\": \"High\"\n",
    "          },\n",
    "          \"tooltip\": {\n",
    "            \"signal\": \"{'Type':datum.threat, 'Threat level':'High', 'Percentage of reef area':format(datum.fraction_high,'.1%')}\"\n",
    "          }\n",
    "        },\n",
    "        \"hover\": {\n",
    "          \"fillOpacity\": {\n",
    "            \"value\": 0.5\n",
    "          }\n",
    "        },\n",
    "        \"update\": {\n",
    "          \"fillOpacity\": {\n",
    "            \"value\": 1\n",
    "          }\n",
    "        }\n",
    "      }\n",
    "    },\n",
    "    {\n",
    "      \"name\": \"bars_medium\",\n",
    "      \"from\": {\n",
    "        \"data\": \"table\"\n",
    "      },\n",
    "      \"type\": \"rect\",\n",
    "      \"encode\": {\n",
    "        \"enter\": {\n",
    "          \"x\": {\n",
    "            \"scale\": \"xscale\",\n",
    "            \"field\": \"threat\"\n",
    "          },\n",
    "          \"width\": {\n",
    "            \"scale\": \"xscale\",\n",
    "            \"band\": 1\n",
    "          },\n",
    "          \"y\": {\n",
    "            \"scale\": \"yscale\",\n",
    "            \"field\": \"sum_veryhigh-high\"\n",
    "          },\n",
    "          \"y2\": {\n",
    "            \"scale\": \"yscale\",\n",
    "            \"field\": \"sum_veryhigh-high-medium\"\n",
    "          },\n",
    "          \"fill\": {\n",
    "            \"scale\": \"color\",\n",
    "            \"value\": \"Medium\"\n",
    "          },\n",
    "          \"tooltip\": {\n",
    "            \"signal\": \"{'Type':datum.threat, 'Threat level':'Medium', 'Percentage of reef area':format(datum.fraction_medium,'.1%')}\"\n",
    "          }\n",
    "        },\n",
    "        \"hover\": {\n",
    "          \"fillOpacity\": {\n",
    "            \"value\": 0.5\n",
    "          }\n",
    "        },\n",
    "        \"update\": {\n",
    "          \"fillOpacity\": {\n",
    "            \"value\": 1\n",
    "          }\n",
    "        }\n",
    "      }\n",
    "    },\n",
    "    {\n",
    "      \"name\": \"bars_low\",\n",
    "      \"from\": {\n",
    "        \"data\": \"table\"\n",
    "      },\n",
    "      \"type\": \"rect\",\n",
    "      \"encode\": {\n",
    "        \"enter\": {\n",
    "          \"x\": {\n",
    "            \"scale\": \"xscale\",\n",
    "            \"field\": \"threat\"\n",
    "          },\n",
    "          \"width\": {\n",
    "            \"scale\": \"xscale\",\n",
    "            \"band\": 1\n",
    "          },\n",
    "          \"y\": {\n",
    "            \"scale\": \"yscale\",\n",
    "            \"field\": \"sum_veryhigh-high-medium\"\n",
    "          },\n",
    "          \"y2\": {\n",
    "            \"scale\": \"yscale\",\n",
    "            \"value\": 1\n",
    "          },\n",
    "          \"fill\": {\n",
    "            \"scale\": \"color\",\n",
    "            \"value\": \"Low\"\n",
    "          },\n",
    "          \"tooltip\": {\n",
    "            \"signal\": \"{'Type':datum.threat, 'Threat level':'Low', 'Percentage of reef area':format(datum.fraction_low,'.1%')}\"\n",
    "          }\n",
    "        },\n",
    "        \"hover\": {\n",
    "          \"fillOpacity\": {\n",
    "            \"value\": 0.5\n",
    "          }\n",
    "        },\n",
    "        \"update\": {\n",
    "          \"fillOpacity\": {\n",
    "            \"value\": 1\n",
    "          }\n",
    "        }\n",
    "      }\n",
    "    }\n",
    "  ],\n",
    "  \"legends\": [\n",
    "    {\n",
    "      \"title\": [\n",
    "        \"Threat level\"\n",
    "      ],\n",
    "      \"fill\": \"color\",\n",
    "      \"orient\": \"right\"\n",
    "    }\n",
    "  ]\n",
    "}\n",
    "\"\"\")\n",
    "vega_view=dict(spec)\n",
    "vega_view['width']=widget_width\n",
    "vega_view['height']=widget_height\n",
    "Vega(vega_view)"
   ]
  },
  {
   "cell_type": "markdown",
   "metadata": {},
   "source": [
    "### RW API\n",
    "Parent dataset [bio.024.rw0 Local Threats to Coral Reefs](https://resourcewatch.org/data/explore/bio024-try-2) ([Admin](https://resourcewatch.org/admin/data/datasets/d553a58a-faa2-480d-b137-c96d76d5ccab/edit))    \n",
    "API ID [`d553a58a-faa2-480d-b137-c96d76d5ccab`](https://api.resourcewatch.org/v1/dataset/d553a58a-faa2-480d-b137-c96d76d5ccab/)  \n",
    "[Widgets](https://api.resourcewatch.org/v1/dataset/d553a58a-faa2-480d-b137-c96d76d5ccab/widget)"
   ]
  },
  {
   "cell_type": "markdown",
   "metadata": {},
   "source": [
    "Lightly modified version of widget passed to API via [widget scripts](https://github.com/resource-watch/data-team-tools/tree/master/advanced_widget_writer). Key variables to modify in script, besides specification itself:"
   ]
  },
  {
   "cell_type": "code",
   "execution_count": 2,
   "metadata": {},
   "outputs": [],
   "source": [
    "dataset_id = 'd553a58a-faa2-480d-b137-c96d76d5ccab'\n",
    "name = 'Local Threats to Coral Reefs in <GCRMN Region>'\n",
    "description = 'Proportion of coral reef area under various magnitudes of local threat, separated by type of threat'"
   ]
  },
  {
   "cell_type": "markdown",
   "metadata": {},
   "source": [
    "    \"info\": {\n",
    "      \"widgetLinks\": [\n",
    "        {\n",
    "          \"link\": \"https://www.wri.org/publication/reefs-risk-revisited\",\n",
    "          \"name\": \"\\\"Reefs at Risk Revisited\\\" by WRI\"\n",
    "        },\n",
    "        {\n",
    "          \"link\": \"https://wriorg.s3.amazonaws.com/s3fs-public/technical_notes.pdf\",\n",
    "          \"name\": \"\\\"Reefs at Risk Revisited: Technical Notes on Modeling Threats to the World’s Coral Reefs\\\"\"\n",
    "        },\n",
    "        {\n",
    "          \"link\": \"https://resourcewatch.org/data/explore/d553a58a-faa2-480d-b137-c96d76d5ccab\",\n",
    "          \"name\": \"Local Threats to Coral Reefs on Resource Watch\"\n",
    "        }\n",
    "      ],\n",
    "      \"caption\": \"Data: World Resources Institute\"\n",
    "    }"
   ]
  },
  {
   "cell_type": "markdown",
   "metadata": {},
   "source": [
    "- [Australia](https://api.resourcewatch.org/v1/widget/4bf526de-7ab5-49a0-a677-fb34fd84f880?env=production) `4bf526de-7ab5-49a0-a677-fb34fd84f880`  \n",
    "- [Brazil](https://api.resourcewatch.org/v1/widget/a76bedc7-ee0d-4970-9064-9c34bcb02b77?env=production) `a76bedc7-ee0d-4970-9064-9c34bcb02b77`  \n",
    "- [Caribbean](https://api.resourcewatch.org/v1/widget/b56bbb92-d8e1-4c03-ac46-1257fbfd1c41?env=production) `b56bbb92-d8e1-4c03-ac46-1257fbfd1c41`  \n",
    "- [East Asia](https://api.resourcewatch.org/v1/widget/1b22ddbc-9238-4d7b-bf8f-45218d3f8734?env=production) `1b22ddbc-9238-4d7b-bf8f-45218d3f8734`  \n",
    "- [ETP](https://api.resourcewatch.org/v1/widget/55608573-e220-402f-949a-e61f7e347be3?env=production) `55608573-e220-402f-949a-e61f7e347be3`  \n",
    "- [Pacific](https://api.resourcewatch.org/v1/widget/bbeb1350-9606-4ecb-a099-020e350a858b?env=production) `bbeb1350-9606-4ecb-a099-020e350a858b`  \n",
    "- [PERSGA](https://api.resourcewatch.org/v1/widget/7158a8f0-29a5-4ae8-a122-f8d1f515ee77?env=production) `7158a8f0-29a5-4ae8-a122-f8d1f515ee77`  \n",
    "- [ROPME](https://api.resourcewatch.org/v1/widget/e2339455-71ec-4479-bb42-c1b84315dfb9?env=production) `e2339455-71ec-4479-bb42-c1b84315dfb9`  \n",
    "- [South Asia](https://api.resourcewatch.org/v1/widget/9f855044-eb5c-46bf-9db9-512c9814f0d2?env=production) `9f855044-eb5c-46bf-9db9-512c9814f0d2`  \n",
    "- [WIO](https://api.resourcewatch.org/v1/widget/2453d1fd-a576-41f7-80b9-b3631837e83f?env=production) `2453d1fd-a576-41f7-80b9-b3631837e83f`  \n",
    "  \n",
    "- [Select Region](https://api.resourcewatch.org/v1/widget/d2735344-1f31-41e1-8764-8d943b668db2?env=production) `d2735344-1f31-41e1-8764-8d943b668db2`  "
   ]
  }
 ],
 "metadata": {
  "kernelspec": {
   "display_name": "rw",
   "language": "python",
   "name": "rw"
  },
  "language_info": {
   "codemirror_mode": {
    "name": "ipython",
    "version": 3
   },
   "file_extension": ".py",
   "mimetype": "text/x-python",
   "name": "python",
   "nbconvert_exporter": "python",
   "pygments_lexer": "ipython3",
   "version": "3.7.10"
  }
 },
 "nbformat": 4,
 "nbformat_minor": 4
}
