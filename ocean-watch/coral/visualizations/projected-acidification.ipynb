{
 "cells": [
  {
   "cell_type": "markdown",
   "metadata": {},
   "source": [
    "# Projected Suitability of Coral Reef Habitat (Acidification)\n",
    "Percentage of total reef area situated in waters where aragonite saturation state projected to fall below a threshold for suitability, aggregated by decade.\n",
    "\n",
    "_Author: Peter Kerins_  \n",
    "_Created: 28 Jan 2021_  \n",
    "_Updated: 21 Apr 2021_  \n",
    "_Environment: jupyterlab_  "
   ]
  },
  {
   "cell_type": "markdown",
   "metadata": {},
   "source": [
    "## Style\n",
    "- Original\n",
    "    - [Vega chart](https://vega.github.io/editor/#/)\n",
    "    - Time series\n",
    "    - Vertical bar chart\n",
    "    - Value showing fraction of reef area beyond threshold\n",
    "    - Double bars, one for each aragonite threshold\n",
    "- Revision\n",
    "    - Vega chart\n",
    "    - Time series\n",
    "    - Vertical bar chart\n",
    "    - Value is fraction beyond each threshold, for each threshold\n",
    "    - Single stacked, normalized bar per decade"
   ]
  },
  {
   "cell_type": "markdown",
   "metadata": {},
   "source": [
    "## Data\n",
    "[ocn.calcs.004 Coral Reef Projected Acidification Areas by MEOW per Decade](https://resourcewatch.carto.com/u/wri-rw/dataset/ocn_calcs_004_reef_projected_acidification_areas_by_meow_per_de)  \n",
    "from [GEE asset](https://code.earthengine.google.com/?asset=projects/resource-watch-gee/ocean-watch/calcs_reef-acidification_areas-100m)  \n",
    "\n",
    "Calculations based on:  \n",
    "- [bio.004.rw2 Coral Reef Locations](https://resourcewatch.carto.com/u/wri-rw/tables/bio_004a_coral_reef_locations_edit/)  \n",
    "- [ocn.006a.rw0 Projected Ocean Acidification](https://code.earthengine.google.com/?asset=projects/resource-watch-gee/ocn_006_projected_ocean_acidification)\n",
    "\n",
    "[Google Earth Engine calculation script](https://code.earthengine.google.com/e4b67038983d7eec477578a91d764b16?noload=true)\n"
   ]
  },
  {
   "cell_type": "markdown",
   "metadata": {},
   "source": [
    "## Preparation"
   ]
  },
  {
   "cell_type": "code",
   "execution_count": 2,
   "metadata": {},
   "outputs": [],
   "source": [
    "import json\n",
    "from vega import Vega\n",
    "from IPython.display import display"
   ]
  },
  {
   "cell_type": "code",
   "execution_count": 3,
   "metadata": {},
   "outputs": [],
   "source": [
    "def Vega(spec):\n",
    "    bundle = {}\n",
    "    bundle['application/vnd.vega.v5+json'] = spec\n",
    "    display(bundle, raw=True)"
   ]
  },
  {
   "cell_type": "code",
   "execution_count": 4,
   "metadata": {},
   "outputs": [],
   "source": [
    "widget_width = 400\n",
    "widget_height = 300"
   ]
  },
  {
   "cell_type": "markdown",
   "metadata": {},
   "source": [
    "# Original version\n",
    "Side-by-side double bars for each decade, corresponding to the two aragonite saturation state thresholds"
   ]
  },
  {
   "cell_type": "markdown",
   "metadata": {},
   "source": [
    "## Global specification"
   ]
  },
  {
   "cell_type": "code",
   "execution_count": 4,
   "metadata": {
    "tags": []
   },
   "outputs": [
    {
     "data": {
      "application/vnd.vega.v5+json": {
       "autosize": {
        "contains": "padding",
        "resize": true,
        "type": "pad"
       },
       "axes": [
        {
         "orient": "left",
         "scale": "yscale",
         "title": "Coral Reefs in Acidified Waters (%)"
        },
        {
         "encode": {
          "domain": {
           "update": {
            "stroke": {
             "value": "#333"
            },
            "strokeWidth": {
             "value": 1.5
            }
           }
          },
          "labels": {
           "hover": {
            "fill": {
             "value": "firebrick"
            }
           },
           "interactive": true,
           "update": {
            "align": {
             "value": "left"
            },
            "angle": {
             "value": 45
            },
            "baseline": {
             "value": "middle"
            },
            "dx": {
             "value": 1
            },
            "dy": {
             "value": 2
            },
            "fill": {
             "value": "black"
            },
            "fontSize": {
             "value": 12
            },
            "text": {
             "signal": "datum.value + 's'"
            }
           }
          }
         },
         "labelPadding": 4,
         "orient": "bottom",
         "scale": "xscale",
         "tickSize": 0,
         "zindex": 1
        }
       ],
       "data": [
        {
         "format": {
          "property": "rows",
          "type": "json"
         },
         "name": "table",
         "transform": [
          {
           "as": "acid_percentage",
           "expr": "datum.acid_fraction * 100.0",
           "type": "formula"
          },
          {
           "as": "acid_percentage_running",
           "expr": "datum.acid_fraction_running * 100.0",
           "type": "formula"
          },
          {
           "expr": "datum.decade_start < 2100",
           "type": "filter"
          }
         ],
         "url": "https://wri-rw.carto.com/api/v2/sql?q=SELECT decade_start, ass_threshold, SUM(acid_area) AS acid_area, SUM(total_area) AS total_area, SUM(acid_area)/SUM(total_area) AS acid_fraction, SUM(SUM(acid_area)/SUM(total_area)) OVER (ORDER BY decade_start) AS acid_fraction_running FROM (SELECT cartodb_id, '3.5 (marginal)' AS ass_threshold, unnest(array[2000, 2010, 2020, 2030, 2040, 2050, 2060, 2070, 2080, 2090]) AS decade_start, unnest(array[_2000s_35, _2010s_35, _2020s_35, _2030s_35, _2040s_35, _2050s_35, _2060s_35, _2070s_35, _2080s_35, _2090s_35]) AS acid_area, reefarea AS total_area FROM ocn_calcs_004_reef_projected_acidification_areas_by_meow_per_decade) AS decadal_data GROUP BY decade_start, ass_threshold UNION ALL SELECT decade_start, ass_threshold, SUM(acid_area) AS acid_area, SUM(total_area) AS total_area, SUM(acid_area)/SUM(total_area) AS acid_fraction, SUM(SUM(acid_area)/SUM(total_area)) OVER (ORDER BY decade_start) AS acid_fraction_running FROM (SELECT cartodb_id, '3.0 (poor)' AS ass_threshold, unnest(array[2000, 2010, 2020, 2030, 2040, 2050, 2060, 2070, 2080, 2090]) AS decade_start, unnest(array[_2000s_30, _2010s_30, _2020s_30, _2030s_30, _2040s_30, _2050s_30, _2060s_30, _2070s_30, _2080s_30, _2090s_30]) AS acid_area, reefarea AS total_area FROM ocn_calcs_004_reef_projected_acidification_areas_by_meow_per_decade) AS decadal_data GROUP BY decade_start, ass_threshold ORDER BY decade_start ASC, ass_threshold DESC"
        }
       ],
       "height": 300,
       "legends": [
        {
         "fill": "color",
         "orient": "right",
         "title": [
          "Aragonite",
          "Saturation",
          "State below:"
         ]
        }
       ],
       "marks": [
        {
         "encode": {
          "enter": {
           "x": {
            "field": "decade_start",
            "scale": "xscale"
           }
          }
         },
         "from": {
          "facet": {
           "data": "table",
           "groupby": "decade_start",
           "name": "facet"
          }
         },
         "marks": [
          {
           "encode": {
            "enter": {
             "fill": {
              "field": "ass_threshold",
              "scale": "color"
             },
             "tooltip": {
              "signal": "{title:'Coral in waters with aragonite saturation state below ' + datum.ass_threshold + ' in ' + datum.decade_start + 's', 'Fraction of global reef area':format(datum.acid_fraction_running,'.1%')}"
             },
             "width": {
              "band": 1,
              "scale": "pos"
             },
             "x": {
              "field": "ass_threshold",
              "scale": "pos"
             },
             "y": {
              "field": "acid_percentage_running",
              "scale": "yscale"
             },
             "y2": {
              "scale": "yscale",
              "value": 0
             }
            },
            "hover": {
             "fillOpacity": {
              "value": 0.5
             }
            },
            "update": {
             "fillOpacity": {
              "value": 1
             }
            }
           },
           "from": {
            "data": "facet"
           },
           "name": "bars",
           "type": "rect"
          }
         ],
         "scales": [
          {
           "domain": {
            "data": "facet",
            "field": "ass_threshold"
           },
           "name": "pos",
           "range": "width",
           "type": "band"
          }
         ],
         "signals": [
          {
           "name": "width",
           "update": "bandwidth('xscale')"
          }
         ],
         "type": "group"
        }
       ],
       "scales": [
        {
         "domain": {
          "data": "table",
          "field": "decade_start"
         },
         "name": "xscale",
         "padding": 0.2,
         "range": "width",
         "type": "band"
        },
        {
         "domain": {
          "data": "table",
          "field": "acid_percentage_running"
         },
         "name": "yscale",
         "nice": true,
         "range": "height",
         "round": true,
         "type": "linear",
         "zero": true
        },
        {
         "domain": {
          "data": "table",
          "field": "ass_threshold"
         },
         "name": "color",
         "range": [
          "#942B7F",
          "#FA8866"
         ],
         "type": "ordinal"
        }
       ],
       "signals": [
        {
         "name": "hover",
         "on": [
          {
           "events": "@cell:mouseover",
           "update": "datum"
          },
          {
           "events": "@cell:mouseout",
           "update": "null"
          }
         ],
         "value": null
        }
       ],
       "title": "Projected Ocean Acidification: Suitability for Coral Reefs",
       "width": 400
      },
      "image/png": "[encoded data removed]"
     },
     "metadata": {},
     "output_type": "display_data"
    }
   ],
   "source": [
    "spec=json.loads(\"\"\"\n",
    "{\n",
    "  \"width\": 300,\n",
    "  \"height\": 300,\n",
    "  \"autosize\": {\"type\": \"pad\", \"resize\": true, \"contains\": \"padding\"},\n",
    "  \"signals\": [\n",
    "    {\n",
    "      \"name\": \"hover\",\n",
    "      \"value\": null,\n",
    "      \"on\": [\n",
    "        {\"events\": \"@cell:mouseover\", \"update\": \"datum\"},\n",
    "        {\"events\": \"@cell:mouseout\", \"update\": \"null\"}\n",
    "      ]\n",
    "    }\n",
    "  ],\n",
    "  \"data\": [\n",
    "    {\n",
    "      \"name\": \"table\",\n",
    "      \"url\": \"https://wri-rw.carto.com/api/v2/sql?q=SELECT decade_start, ass_threshold, SUM(acid_area) AS acid_area, SUM(total_area) AS total_area, SUM(acid_area)/SUM(total_area) AS acid_fraction, SUM(SUM(acid_area)/SUM(total_area)) OVER (ORDER BY decade_start) AS acid_fraction_running FROM (SELECT cartodb_id, '3.5 (marginal)' AS ass_threshold, unnest(array[2000, 2010, 2020, 2030, 2040, 2050, 2060, 2070, 2080, 2090]) AS decade_start, unnest(array[_2000s_35, _2010s_35, _2020s_35, _2030s_35, _2040s_35, _2050s_35, _2060s_35, _2070s_35, _2080s_35, _2090s_35]) AS acid_area, reefarea AS total_area FROM ocn_calcs_004_reef_projected_acidification_areas_by_meow_per_decade) AS decadal_data GROUP BY decade_start, ass_threshold UNION ALL SELECT decade_start, ass_threshold, SUM(acid_area) AS acid_area, SUM(total_area) AS total_area, SUM(acid_area)/SUM(total_area) AS acid_fraction, SUM(SUM(acid_area)/SUM(total_area)) OVER (ORDER BY decade_start) AS acid_fraction_running FROM (SELECT cartodb_id, '3.0 (poor)' AS ass_threshold, unnest(array[2000, 2010, 2020, 2030, 2040, 2050, 2060, 2070, 2080, 2090]) AS decade_start, unnest(array[_2000s_30, _2010s_30, _2020s_30, _2030s_30, _2040s_30, _2050s_30, _2060s_30, _2070s_30, _2080s_30, _2090s_30]) AS acid_area, reefarea AS total_area FROM ocn_calcs_004_reef_projected_acidification_areas_by_meow_per_decade) AS decadal_data GROUP BY decade_start, ass_threshold ORDER BY decade_start ASC, ass_threshold DESC\",\n",
    "      \"format\": {\"type\": \"json\", \"property\": \"rows\"},\n",
    "      \"transform\": [\n",
    "        {\n",
    "          \"type\": \"formula\",\n",
    "          \"as\": \"acid_percentage\",\n",
    "          \"expr\": \"datum.acid_fraction * 100.0\"\n",
    "        },\n",
    "        {\n",
    "          \"type\": \"formula\",\n",
    "          \"as\": \"acid_percentage_running\",\n",
    "          \"expr\": \"datum.acid_fraction_running * 100.0\"\n",
    "        },\n",
    "        {\"type\": \"filter\", \"expr\": \"datum.decade_start < 2100\"}\n",
    "      ]\n",
    "    }\n",
    "  ],\n",
    "  \"title\": \"Projected Ocean Acidification: Suitability for Coral Reefs\",\n",
    "  \"scales\": [\n",
    "    {\n",
    "      \"name\": \"xscale\",\n",
    "      \"type\": \"band\",\n",
    "      \"domain\": {\"data\": \"table\", \"field\": \"decade_start\"},\n",
    "      \"range\": \"width\",\n",
    "      \"padding\": 0.2\n",
    "    },\n",
    "    {\n",
    "      \"name\": \"yscale\",\n",
    "      \"type\": \"linear\",\n",
    "      \"domain\": {\"data\": \"table\", \"field\": \"acid_percentage_running\"},\n",
    "      \"range\": \"height\",\n",
    "      \"round\": true,\n",
    "      \"zero\": true,\n",
    "      \"nice\": true\n",
    "    },\n",
    "    {\n",
    "      \"name\": \"color\",\n",
    "      \"type\": \"ordinal\",\n",
    "      \"domain\": {\"data\": \"table\", \"field\": \"ass_threshold\"},\n",
    "      \"range\": [\n",
    "        \"#942B7F\",\n",
    "        \"#FA8866\"\n",
    "      ]\n",
    "    }\n",
    "  ],\n",
    "  \"axes\": [\n",
    "    {\n",
    "      \"orient\": \"left\",\n",
    "      \"scale\": \"yscale\",\n",
    "      \"title\": \"Coral Reefs in Acidified Waters (%)\"\n",
    "    },\n",
    "    {\n",
    "      \"orient\": \"bottom\",\n",
    "      \"scale\": \"xscale\",\n",
    "      \"tickSize\": 0,\n",
    "      \"labelPadding\": 4,\n",
    "      \"zindex\": 1,\n",
    "      \"encode\": {\n",
    "        \"labels\": {\n",
    "          \"interactive\": true,\n",
    "          \"update\": {\n",
    "            \"text\": {\"signal\": \"datum.value + 's'\"},\n",
    "            \"fill\": {\"value\": \"black\"},\n",
    "            \"angle\": {\"value\": 45},\n",
    "            \"fontSize\": {\"value\": 12},\n",
    "            \"align\": {\"value\": \"left\"},\n",
    "            \"baseline\": {\"value\": \"middle\"},\n",
    "            \"dy\": {\"value\": 2},\n",
    "            \"dx\": {\"value\": 1}\n",
    "          },\n",
    "          \"hover\": {\"fill\": {\"value\": \"firebrick\"}}\n",
    "        },\n",
    "        \"domain\": {\n",
    "          \"update\": {\"stroke\": {\"value\": \"#333\"}, \"strokeWidth\": {\"value\": 1.5}}\n",
    "        }\n",
    "      }\n",
    "    }\n",
    "  ],\n",
    "  \"marks\": [\n",
    "    {\n",
    "      \"type\": \"group\",\n",
    "      \"from\": {\n",
    "        \"facet\": {\"data\": \"table\", \"name\": \"facet\", \"groupby\": \"decade_start\"}\n",
    "      },\n",
    "      \"encode\": {\"enter\": {\"x\": {\"scale\": \"xscale\", \"field\": \"decade_start\"}}},\n",
    "      \"signals\": [{\"name\": \"width\", \"update\": \"bandwidth('xscale')\"}],\n",
    "      \"scales\": [\n",
    "        {\n",
    "          \"name\": \"pos\",\n",
    "          \"type\": \"band\",\n",
    "          \"range\": \"width\",\n",
    "          \"domain\": {\"data\": \"facet\", \"field\": \"ass_threshold\"}\n",
    "        }\n",
    "      ],\n",
    "      \"marks\": [\n",
    "        {\n",
    "          \"name\": \"bars\",\n",
    "          \"from\": {\"data\": \"facet\"},\n",
    "          \"type\": \"rect\",\n",
    "          \"encode\": {\n",
    "            \"enter\": {\n",
    "              \"x\": {\"scale\": \"pos\", \"field\": \"ass_threshold\"},\n",
    "              \"width\": {\"scale\": \"pos\", \"band\": 1},\n",
    "              \"y\": {\"scale\": \"yscale\", \"field\": \"acid_percentage_running\"},\n",
    "              \"y2\": {\"scale\": \"yscale\", \"value\": 0},\n",
    "              \"fill\": {\"scale\": \"color\", \"field\": \"ass_threshold\"},\n",
    "              \"tooltip\": {\n",
    "                \"signal\": \"{title:'Coral in waters with aragonite saturation state below ' + datum.ass_threshold + ' in ' + datum.decade_start + 's', 'Fraction of global reef area':format(datum.acid_fraction_running,'.1%')}\"\n",
    "              }\n",
    "            },\n",
    "            \"hover\": {\"fillOpacity\": {\"value\": 0.5}},\n",
    "            \"update\": {\"fillOpacity\": {\"value\": 1}}\n",
    "          }\n",
    "        }\n",
    "      ]\n",
    "    }\n",
    "  ],\n",
    "  \"legends\": [\n",
    "    {\n",
    "      \"title\": [\"Aragonite\", \"Saturation\", \"State below:\"],\n",
    "      \"fill\": \"color\",\n",
    "      \"orient\": \"right\"\n",
    "    }\n",
    "  ]\n",
    "}\n",
    "\"\"\")\n",
    "vega_view=dict(spec)\n",
    "vega_view['width']=widget_width\n",
    "vega_view['height']=widget_height\n",
    "Vega(vega_view)"
   ]
  },
  {
   "cell_type": "markdown",
   "metadata": {},
   "source": [
    "### Resource Watch specification\n",
    "API ID: 8669c45d-0950-4d53-96b2-ebdaf128c520  \n",
    "https://resourcewatch.org/embed/widget/8669c45d-0950-4d53-96b2-ebdaf128c520"
   ]
  },
  {
   "cell_type": "markdown",
   "metadata": {},
   "source": [
    "### Script to pass modified specification to RW via API\n",
    "Based on [template in data-team-tool](https://github.com/resource-watch/data-team-tools/blob/6bf21e42d724b5f72060dd2f833864df8acad09e/map_embed_widget/embed_widget.py)"
   ]
  },
  {
   "cell_type": "code",
   "execution_count": 5,
   "metadata": {
    "tags": []
   },
   "outputs": [
    {
     "data": {
      "text/plain": [
       "True"
      ]
     },
     "execution_count": 5,
     "metadata": {},
     "output_type": "execute_result"
    }
   ],
   "source": [
    "# import LMIPy as lmi\n",
    "import os\n",
    "import json\n",
    "import requests\n",
    "import dotenv\n",
    "dotenv.load_dotenv(os.path.abspath(os.getenv('RW_ENV')))"
   ]
  },
  {
   "cell_type": "code",
   "execution_count": 6,
   "metadata": {
    "tags": []
   },
   "outputs": [
    {
     "name": "stdout",
     "output_type": "stream",
     "text": [
      "<Response [200]>\n"
     ]
    }
   ],
   "source": [
    "# input widget API ID for the empty advanced widget you have created and want to overwrite\n",
    "dataset_id = 'cb4db45c-e1e8-44a4-837a-e513d3c9d9fe'\n",
    "widget_to_overwrite = '8669c45d-0950-4d53-96b2-ebdaf128c520'\n",
    "\n",
    "# replace the empty dictionary with the code from the vega editor\n",
    "# replace true with True and null with None\n",
    "vega = {\n",
    "  \"width\": 300,\n",
    "  \"height\": 300,\n",
    "  \"autosize\": {\"type\": \"pad\", \"resize\": True, \"contains\": \"padding\"},\n",
    "  \"signals\": [\n",
    "    {\n",
    "      \"name\": \"hover\",\n",
    "      \"value\": None,\n",
    "      \"on\": [\n",
    "        {\"events\": \"@cell:mouseover\", \"update\": \"datum\"},\n",
    "        {\"events\": \"@cell:mouseout\", \"update\": \"null\"}\n",
    "      ]\n",
    "    }\n",
    "  ],\n",
    "  \"data\": [\n",
    "    {\n",
    "      \"name\": \"table\",\n",
    "      \"url\": \"https://wri-rw.carto.com/api/v2/sql?q=SELECT decade_start, ass_threshold, SUM(acid_area) AS acid_area, SUM(total_area) AS total_area, SUM(acid_area)/SUM(total_area) AS acid_fraction, SUM(SUM(acid_area)/SUM(total_area)) OVER (ORDER BY decade_start) AS acid_fraction_running FROM (SELECT cartodb_id, '3.5 (marginal)' AS ass_threshold, unnest(array[2000, 2010, 2020, 2030, 2040, 2050, 2060, 2070, 2080, 2090]) AS decade_start, unnest(array[_2000s_35, _2010s_35, _2020s_35, _2030s_35, _2040s_35, _2050s_35, _2060s_35, _2070s_35, _2080s_35, _2090s_35]) AS acid_area, reefarea AS total_area FROM ocn_calcs_004_reef_projected_acidification_areas_by_meow_per_decade) AS decadal_data GROUP BY decade_start, ass_threshold UNION ALL SELECT decade_start, ass_threshold, SUM(acid_area) AS acid_area, SUM(total_area) AS total_area, SUM(acid_area)/SUM(total_area) AS acid_fraction, SUM(SUM(acid_area)/SUM(total_area)) OVER (ORDER BY decade_start) AS acid_fraction_running FROM (SELECT cartodb_id, '3.0 (poor)' AS ass_threshold, unnest(array[2000, 2010, 2020, 2030, 2040, 2050, 2060, 2070, 2080, 2090]) AS decade_start, unnest(array[_2000s_30, _2010s_30, _2020s_30, _2030s_30, _2040s_30, _2050s_30, _2060s_30, _2070s_30, _2080s_30, _2090s_30]) AS acid_area, reefarea AS total_area FROM ocn_calcs_004_reef_projected_acidification_areas_by_meow_per_decade) AS decadal_data GROUP BY decade_start, ass_threshold ORDER BY decade_start ASC, ass_threshold DESC\",\n",
    "      \"format\": {\"type\": \"json\", \"property\": \"rows\"},\n",
    "      \"transform\": [\n",
    "        {\n",
    "          \"type\": \"formula\",\n",
    "          \"as\": \"acid_percentage\",\n",
    "          \"expr\": \"datum.acid_fraction * 100.0\"\n",
    "        },\n",
    "        {\n",
    "          \"type\": \"formula\",\n",
    "          \"as\": \"acid_percentage_running\",\n",
    "          \"expr\": \"datum.acid_fraction_running * 100.0\"\n",
    "        },\n",
    "        {\"type\": \"filter\", \"expr\": \"datum.decade_start < 2100\"}\n",
    "      ]\n",
    "    }\n",
    "  ],\n",
    "  \"scales\": [\n",
    "    {\n",
    "      \"name\": \"xscale\",\n",
    "      \"type\": \"band\",\n",
    "      \"domain\": {\"data\": \"table\", \"field\": \"decade_start\"},\n",
    "      \"range\": \"width\",\n",
    "      \"padding\": 0.2\n",
    "    },\n",
    "    {\n",
    "      \"name\": \"yscale\",\n",
    "      \"type\": \"linear\",\n",
    "      \"domain\": {\"data\": \"table\", \"field\": \"acid_percentage_running\"},\n",
    "      \"range\": \"height\",\n",
    "      \"round\": True,\n",
    "      \"zero\": True,\n",
    "      \"nice\": True\n",
    "    },\n",
    "    {\n",
    "      \"name\": \"color\",\n",
    "      \"type\": \"ordinal\",\n",
    "      \"domain\": {\"data\": \"table\", \"field\": \"ass_threshold\"},\n",
    "      \"range\": [\n",
    "        \"#942B7F\",\n",
    "        \"#FA8866\"\n",
    "      ]\n",
    "    }\n",
    "  ],\n",
    "  \"axes\": [\n",
    "    {\n",
    "      \"orient\": \"left\",\n",
    "      \"scale\": \"yscale\",\n",
    "      \"title\": \"Coral Reefs in Acidified Waters (%)\"\n",
    "    },\n",
    "    {\n",
    "      \"orient\": \"bottom\",\n",
    "      \"scale\": \"xscale\",\n",
    "      \"tickSize\": 0,\n",
    "      \"labelPadding\": 4,\n",
    "      \"zindex\": 1,\n",
    "      \"encode\": {\n",
    "        \"labels\": {\n",
    "          \"interactive\": True,\n",
    "          \"update\": {\n",
    "            \"text\": {\"signal\": \"datum.value + 's'\"},\n",
    "            \"fill\": {\"value\": \"black\"},\n",
    "            \"angle\": {\"value\": 45},\n",
    "            \"fontSize\": {\"value\": 12},\n",
    "            \"align\": {\"value\": \"left\"},\n",
    "            \"baseline\": {\"value\": \"middle\"},\n",
    "            \"dy\": {\"value\": 2},\n",
    "            \"dx\": {\"value\": 1}\n",
    "          },\n",
    "          \"hover\": {\"fill\": {\"value\": \"firebrick\"}}\n",
    "        },\n",
    "        \"domain\": {\n",
    "          \"update\": {\"stroke\": {\"value\": \"#333\"}, \"strokeWidth\": {\"value\": 1.5}}\n",
    "        }\n",
    "      }\n",
    "    }\n",
    "  ],\n",
    "  \"marks\": [\n",
    "    {\n",
    "      \"type\": \"group\",\n",
    "      \"from\": {\n",
    "        \"facet\": {\"data\": \"table\", \"name\": \"facet\", \"groupby\": \"decade_start\"}\n",
    "      },\n",
    "      \"encode\": {\"enter\": {\"x\": {\"scale\": \"xscale\", \"field\": \"decade_start\"}}},\n",
    "      \"signals\": [{\"name\": \"width\", \"update\": \"bandwidth('xscale')\"}],\n",
    "      \"scales\": [\n",
    "        {\n",
    "          \"name\": \"pos\",\n",
    "          \"type\": \"band\",\n",
    "          \"range\": \"width\",\n",
    "          \"domain\": {\"data\": \"facet\", \"field\": \"ass_threshold\"}\n",
    "        }\n",
    "      ],\n",
    "      \"marks\": [\n",
    "        {\n",
    "          \"name\": \"bars\",\n",
    "          \"from\": {\"data\": \"facet\"},\n",
    "          \"type\": \"rect\",\n",
    "          \"encode\": {\n",
    "            \"enter\": {\n",
    "              \"x\": {\"scale\": \"pos\", \"field\": \"ass_threshold\"},\n",
    "              \"width\": {\"scale\": \"pos\", \"band\": 1},\n",
    "              \"y\": {\"scale\": \"yscale\", \"field\": \"acid_percentage_running\"},\n",
    "              \"y2\": {\"scale\": \"yscale\", \"value\": 0},\n",
    "              \"fill\": {\"scale\": \"color\", \"field\": \"ass_threshold\"},\n",
    "              \"tooltip\": {\n",
    "                \"signal\": \"{'Decade':datum.decade_start + 's','ASS below':datum.ass_threshold,'Reefs':format(datum.acid_fraction_running,'.1%')}\"\n",
    "              }\n",
    "            },\n",
    "            \"hover\": {\"fillOpacity\": {\"value\": 0.5}},\n",
    "            \"update\": {\"fillOpacity\": {\"value\": 1}}\n",
    "          }\n",
    "        }\n",
    "      ]\n",
    "    }\n",
    "  ],\n",
    "  \"legends\": [\n",
    "    {\n",
    "      \"title\": [\"Aragonite\", \"Saturation\", \"State below:\"],\n",
    "      \"fill\": \"color\",\n",
    "      \"orient\": \"right\"\n",
    "    }\n",
    "  ]\n",
    "}\n",
    "\n",
    "# create payload to send to API\n",
    "# you must edit the interaction_config\n",
    "payload = {\n",
    "    \"widgetConfig\": {\n",
    "        \"schema\": \"https://vega.github.io/schema/vega/v5.json\",\n",
    "        **vega,\n",
    "        \"interaction_config\": [\n",
    "          {\n",
    "          }\n",
    "        ],\n",
    "      }\n",
    "    }\n",
    "\n",
    "# load in API credentials\n",
    "API_TOKEN = os.getenv('RW_API_KEY')\n",
    "headers = {\n",
    "'Content-Type': 'application/json',\n",
    "'Authorization': 'Bearer '+API_TOKEN, \n",
    "}\n",
    "\n",
    "# load the widget we are going to overwrite\n",
    "# option 1: LMIPY\n",
    "#widget = lmi.Widget(widget_to_overwrite)\n",
    "# option 2: requests\n",
    "url = f'http://api.resourcewatch.org/v1/dataset/{dataset_id}/widget/{widget_to_overwrite}'\n",
    "\n",
    "# Update the widget\n",
    "# option 1: LMIPY\n",
    "#widget = widget.update(update_params=payload, token=API_TOKEN)\n",
    "# option 2: requests\n",
    "r = requests.patch(url = url, json = payload, headers = headers)\n",
    "print(r)"
   ]
  },
  {
   "cell_type": "markdown",
   "metadata": {},
   "source": [
    "## Regional Specification\n",
    "Data aggregated by GCRMN region"
   ]
  },
  {
   "cell_type": "code",
   "execution_count": 7,
   "metadata": {
    "tags": []
   },
   "outputs": [
    {
     "data": {
      "application/vnd.vega.v5+json": {
       "autosize": {
        "contains": "padding",
        "resize": true,
        "type": "pad"
       },
       "axes": [
        {
         "orient": "left",
         "scale": "yscale",
         "title": "Coral Reefs in Acidified Waters (%)"
        },
        {
         "encode": {
          "domain": {
           "update": {
            "stroke": {
             "value": "#333"
            },
            "strokeWidth": {
             "value": 1.5
            }
           }
          },
          "labels": {
           "hover": {
            "fill": {
             "value": "firebrick"
            }
           },
           "interactive": true,
           "update": {
            "align": {
             "value": "left"
            },
            "angle": {
             "value": 45
            },
            "baseline": {
             "value": "middle"
            },
            "dx": {
             "value": 1
            },
            "dy": {
             "value": 2
            },
            "fill": {
             "value": "black"
            },
            "fontSize": {
             "value": 12
            },
            "text": {
             "signal": "datum.value + 's'"
            }
           }
          }
         },
         "labelPadding": 4,
         "orient": "bottom",
         "scale": "xscale",
         "tickSize": 0,
         "zindex": 1
        }
       ],
       "data": [
        {
         "format": {
          "property": "rows",
          "type": "json"
         },
         "name": "table",
         "transform": [
          {
           "as": "acid_percentage",
           "expr": "datum.acid_fraction * 100.0",
           "type": "formula"
          },
          {
           "as": "acid_percentage_running",
           "expr": "datum.acid_fraction_running * 100.0",
           "type": "formula"
          },
          {
           "expr": "datum.decade_start < 2100",
           "type": "filter"
          },
          {
           "field": "y",
           "groupby": [
            "decade_start, ass_threshold"
           ],
           "sort": {
            "field": "c"
           },
           "type": "stack"
          }
         ],
         "url": {
          "signal": "url_param"
         }
        }
       ],
       "height": 300,
       "legends": [
        {
         "fill": "color",
         "orient": "right",
         "title": [
          "Aragonite",
          "Saturation",
          "State below:"
         ]
        }
       ],
       "marks": [
        {
         "encode": {
          "enter": {
           "x": {
            "field": "decade_start",
            "scale": "xscale"
           }
          }
         },
         "from": {
          "facet": {
           "data": "table",
           "groupby": "decade_start",
           "name": "facet"
          }
         },
         "marks": [
          {
           "encode": {
            "enter": {
             "fill": {
              "field": "ass_threshold",
              "scale": "color"
             },
             "tooltip": {
              "signal": "{title:'Coral in waters with aragonite saturation state below ' + datum.ass_threshold + ' in ' + datum.decade_start + 's', 'Fraction of regional reef area':format(datum.acid_fraction_running,'.1%')}"
             },
             "width": {
              "band": 1,
              "scale": "pos"
             },
             "x": {
              "field": "ass_threshold",
              "scale": "pos"
             },
             "y": {
              "field": "acid_percentage_running",
              "scale": "yscale"
             },
             "y2": {
              "scale": "yscale",
              "value": 0
             }
            },
            "hover": {
             "fillOpacity": {
              "value": 0.5
             }
            },
            "update": {
             "fillOpacity": {
              "value": 1
             }
            }
           },
           "from": {
            "data": "facet"
           },
           "name": "bars",
           "type": "rect"
          }
         ],
         "scales": [
          {
           "domain": {
            "data": "facet",
            "field": "ass_threshold"
           },
           "name": "pos",
           "range": "width",
           "type": "band"
          }
         ],
         "signals": [
          {
           "name": "width",
           "update": "bandwidth('xscale')"
          }
         ],
         "type": "group"
        }
       ],
       "scales": [
        {
         "domain": {
          "data": "table",
          "field": "decade_start"
         },
         "name": "xscale",
         "padding": 0.2,
         "range": "width",
         "type": "band"
        },
        {
         "domain": {
          "data": "table",
          "field": "acid_percentage_running"
         },
         "name": "yscale",
         "nice": true,
         "range": "height",
         "round": true,
         "type": "linear",
         "zero": true
        },
        {
         "domain": {
          "data": "table",
          "field": "ass_threshold"
         },
         "name": "color",
         "range": [
          "#942B7F",
          "#FA8866"
         ],
         "type": "ordinal"
        }
       ],
       "signals": [
        {
         "name": "hover",
         "on": [
          {
           "events": "@cell:mouseover",
           "update": "datum"
          },
          {
           "events": "@cell:mouseout",
           "update": "null"
          }
         ],
         "value": null
        },
        {
         "bind": {
          "input": "select",
          "name": "GCRMN Region ",
          "options": [
           "Australia",
           "Brazil",
           "Caribbean",
           "East Asia",
           "ETP",
           "Pacific",
           "PERSGA",
           "ROPME",
           "South Asia",
           "WIO"
          ]
         },
         "description": "Name of GCRMN region",
         "name": "region_name",
         "value": "South Asia"
        },
        {
         "description": "Signal-based parameterized URL for pulling data based on GCRMN region",
         "name": "url_param",
         "update": "'https://wri-rw.carto.com/api/v2/sql?q=SELECT gcrmn_reg, decade_start, ass_threshold, SUM(acid_area) AS acid_area, SUM(total_area) AS total_area, SUM(acid_area)/SUM(total_area) AS acid_fraction, SUM(SUM(acid_area)/SUM(total_area)) OVER (ORDER BY decade_start) AS acid_fraction_running FROM (SELECT cartodb_id, gcrmn_reg, %273.5%27 AS ass_threshold, unnest(array[2000, 2010, 2020, 2030, 2040, 2050, 2060, 2070, 2080, 2090]) AS decade_start, unnest(array[_2000s_35, _2010s_35, _2020s_35, _2030s_35, _2040s_35, _2050s_35, _2060s_35, _2070s_35, _2080s_35, _2090s_35]) AS acid_area, reefarea AS total_area FROM ocn_calcs_004_reef_projected_acidification_areas_by_meow_per_decade WHERE gcrmn_reg = %27'+region_name+'%27) AS decadal_data GROUP BY decade_start, ass_threshold, gcrmn_reg UNION ALL SELECT gcrmn_reg, decade_start, ass_threshold, SUM(acid_area) AS acid_area, SUM(total_area) AS total_area, SUM(acid_area)/SUM(total_area) AS acid_fraction, SUM(SUM(acid_area)/SUM(total_area)) OVER (ORDER BY decade_start) AS acid_fraction_running FROM (SELECT cartodb_id, gcrmn_reg, %273.0%27 AS ass_threshold, unnest(array[2000, 2010, 2020, 2030, 2040, 2050, 2060, 2070, 2080, 2090]) AS decade_start, unnest(array[_2000s_30, _2010s_30, _2020s_30, _2030s_30, _2040s_30, _2050s_30, _2060s_30, _2070s_30, _2080s_30, _2090s_30]) AS acid_area, reefarea AS total_area FROM ocn_calcs_004_reef_projected_acidification_areas_by_meow_per_decade WHERE gcrmn_reg = %27'+region_name+'%27) AS decadal_data GROUP BY decade_start, ass_threshold, gcrmn_reg ORDER BY gcrmn_reg ASC, ass_threshold DESC, decade_start ASC'"
        }
       ],
       "title": {
        "text": {
         "signal": "'Projected Ocean Acidification: Suitability for Coral Reefs in '+region_name"
        }
       },
       "width": 400
      },
      "image/png": "[encoded data removed]"
     },
     "metadata": {},
     "output_type": "display_data"
    }
   ],
   "source": [
    "spec=json.loads(\"\"\"\n",
    "{\n",
    "  \"width\": 300,\n",
    "  \"height\": 250,\n",
    "  \"autosize\": {\"type\": \"pad\", \"resize\": true, \"contains\": \"padding\"},\n",
    "  \"signals\": [\n",
    "    {\n",
    "      \"name\": \"hover\",\n",
    "      \"value\": null,\n",
    "      \"on\": [\n",
    "        {\"events\": \"@cell:mouseover\", \"update\": \"datum\"},\n",
    "        {\"events\": \"@cell:mouseout\", \"update\": \"null\"}\n",
    "      ]\n",
    "    },\n",
    "    {\n",
    "      \"name\": \"region_name\",\n",
    "      \"description\": \"Name of GCRMN region\",\n",
    "      \"bind\": {\n",
    "        \"input\": \"select\",\n",
    "        \"options\": [\n",
    "          \"Australia\",\n",
    "          \"Brazil\",\n",
    "          \"Caribbean\",\n",
    "          \"East Asia\",\n",
    "          \"ETP\",\n",
    "          \"Pacific\",\n",
    "          \"PERSGA\",\n",
    "          \"ROPME\",\n",
    "          \"South Asia\",\n",
    "          \"WIO\"\n",
    "        ],\n",
    "        \"name\": \"GCRMN Region \"\n",
    "      },\n",
    "      \"value\": \"South Asia\"\n",
    "    },\n",
    "    {\n",
    "      \"name\": \"url_param\",\n",
    "      \"description\": \"Signal-based parameterized URL for pulling data based on GCRMN region\",\n",
    "      \"update\": \"'https://wri-rw.carto.com/api/v2/sql?q=SELECT gcrmn_reg, decade_start, ass_threshold, SUM(acid_area) AS acid_area, SUM(total_area) AS total_area, SUM(acid_area)/SUM(total_area) AS acid_fraction, SUM(SUM(acid_area)/SUM(total_area)) OVER (ORDER BY decade_start) AS acid_fraction_running FROM (SELECT cartodb_id, gcrmn_reg, %273.5%27 AS ass_threshold, unnest(array[2000, 2010, 2020, 2030, 2040, 2050, 2060, 2070, 2080, 2090]) AS decade_start, unnest(array[_2000s_35, _2010s_35, _2020s_35, _2030s_35, _2040s_35, _2050s_35, _2060s_35, _2070s_35, _2080s_35, _2090s_35]) AS acid_area, reefarea AS total_area FROM ocn_calcs_004_reef_projected_acidification_areas_by_meow_per_decade WHERE gcrmn_reg = %27'+region_name+'%27) AS decadal_data GROUP BY decade_start, ass_threshold, gcrmn_reg UNION ALL SELECT gcrmn_reg, decade_start, ass_threshold, SUM(acid_area) AS acid_area, SUM(total_area) AS total_area, SUM(acid_area)/SUM(total_area) AS acid_fraction, SUM(SUM(acid_area)/SUM(total_area)) OVER (ORDER BY decade_start) AS acid_fraction_running FROM (SELECT cartodb_id, gcrmn_reg, %273.0%27 AS ass_threshold, unnest(array[2000, 2010, 2020, 2030, 2040, 2050, 2060, 2070, 2080, 2090]) AS decade_start, unnest(array[_2000s_30, _2010s_30, _2020s_30, _2030s_30, _2040s_30, _2050s_30, _2060s_30, _2070s_30, _2080s_30, _2090s_30]) AS acid_area, reefarea AS total_area FROM ocn_calcs_004_reef_projected_acidification_areas_by_meow_per_decade WHERE gcrmn_reg = %27'+region_name+'%27) AS decadal_data GROUP BY decade_start, ass_threshold, gcrmn_reg ORDER BY gcrmn_reg ASC, ass_threshold DESC, decade_start ASC'\"\n",
    "    }\n",
    "  ],\n",
    "  \"data\": [\n",
    "    {\n",
    "      \"name\": \"table\",\n",
    "      \"url\": {\n",
    "        \"signal\": \"url_param\"\n",
    "      },\n",
    "      \"format\": {\"type\": \"json\", \"property\": \"rows\"},\n",
    "      \"transform\": [\n",
    "        {\n",
    "          \"type\": \"formula\",\n",
    "          \"as\": \"acid_percentage\",\n",
    "          \"expr\": \"datum.acid_fraction * 100.0\"\n",
    "        },\n",
    "        {\n",
    "          \"type\": \"formula\",\n",
    "          \"as\": \"acid_percentage_running\",\n",
    "          \"expr\": \"datum.acid_fraction_running * 100.0\"\n",
    "        },\n",
    "        {\n",
    "          \"type\": \"filter\", \n",
    "          \"expr\": \"datum.decade_start < 2100\"\n",
    "        },\n",
    "        {\n",
    "          \"type\": \"stack\",\n",
    "          \"groupby\": [\"decade_start, ass_threshold\"],\n",
    "          \"sort\": {\"field\": \"c\"},\n",
    "          \"field\": \"y\"\n",
    "        }\n",
    "      ]\n",
    "    }\n",
    "  ],\n",
    "  \"title\": {\n",
    "    \"text\": \n",
    "      {\"signal\": \"'Projected Ocean Acidification: Suitability for Coral Reefs in '+region_name\"}\n",
    "  },\n",
    "  \"scales\": [\n",
    "    {\n",
    "      \"name\": \"xscale\",\n",
    "      \"type\": \"band\",\n",
    "      \"domain\": {\"data\": \"table\", \"field\": \"decade_start\"},\n",
    "      \"range\": \"width\",\n",
    "      \"padding\": 0.2\n",
    "    },\n",
    "    {\n",
    "      \"name\": \"yscale\",\n",
    "      \"type\": \"linear\",\n",
    "      \"domain\": {\"data\": \"table\", \"field\": \"acid_percentage_running\"},\n",
    "      \"range\": \"height\",\n",
    "      \"round\": true,\n",
    "      \"zero\": true,\n",
    "      \"nice\": true\n",
    "    },\n",
    "    {\n",
    "      \"name\": \"color\",\n",
    "      \"type\": \"ordinal\",\n",
    "      \"domain\": {\"data\": \"table\", \"field\": \"ass_threshold\"},\n",
    "      \"range\": [\n",
    "        \"#942B7F\",\n",
    "        \"#FA8866\"\n",
    "      ]\n",
    "    }\n",
    "  ],\n",
    "  \"axes\": [\n",
    "    {\n",
    "      \"orient\": \"left\",\n",
    "      \"scale\": \"yscale\",\n",
    "      \"title\": \"Coral Reefs in Acidified Waters (%)\"\n",
    "    },\n",
    "    {\n",
    "      \"orient\": \"bottom\",\n",
    "      \"scale\": \"xscale\",\n",
    "      \"tickSize\": 0,\n",
    "      \"labelPadding\": 4,\n",
    "      \"zindex\": 1,\n",
    "      \"encode\": {\n",
    "        \"labels\": {\n",
    "          \"interactive\": true,\n",
    "          \"update\": {\n",
    "            \"text\": {\"signal\": \"datum.value + 's'\"},\n",
    "            \"fill\": {\"value\": \"black\"},\n",
    "            \"angle\": {\"value\": 45},\n",
    "            \"fontSize\": {\"value\": 12},\n",
    "            \"align\": {\"value\": \"left\"},\n",
    "            \"baseline\": {\"value\": \"middle\"},\n",
    "            \"dy\": {\"value\": 2},\n",
    "            \"dx\": {\"value\": 1}\n",
    "          },\n",
    "          \"hover\": {\"fill\": {\"value\": \"firebrick\"}}\n",
    "        },\n",
    "        \"domain\": {\n",
    "          \"update\": {\"stroke\": {\"value\": \"#333\"}, \"strokeWidth\": {\"value\": 1.5}}\n",
    "        }\n",
    "      }\n",
    "    }\n",
    "  ],\n",
    "  \"marks\": [\n",
    "    {\n",
    "      \"type\": \"group\",\n",
    "      \"from\": {\n",
    "        \"facet\": {\"data\": \"table\", \"name\": \"facet\", \"groupby\": \"decade_start\"}\n",
    "      },\n",
    "      \"encode\": {\"enter\": {\"x\": {\"scale\": \"xscale\", \"field\": \"decade_start\"}}},\n",
    "      \"signals\": [{\"name\": \"width\", \"update\": \"bandwidth('xscale')\"}],\n",
    "      \"scales\": [\n",
    "        {\n",
    "          \"name\": \"pos\",\n",
    "          \"type\": \"band\",\n",
    "          \"range\": \"width\",\n",
    "          \"domain\": {\"data\": \"facet\", \"field\": \"ass_threshold\"}\n",
    "        }\n",
    "      ],\n",
    "      \"marks\": [\n",
    "        {\n",
    "          \"name\": \"bars\",\n",
    "          \"from\": {\"data\": \"facet\"},\n",
    "          \"type\": \"rect\",\n",
    "          \"encode\": {\n",
    "            \"enter\": {\n",
    "              \"x\": {\"scale\": \"pos\", \"field\": \"ass_threshold\"},\n",
    "              \"width\": {\"scale\": \"pos\", \"band\": 1},\n",
    "              \"y\": {\"scale\": \"yscale\", \"field\": \"acid_percentage_running\"},\n",
    "              \"y2\": {\"scale\": \"yscale\", \"value\": 0},\n",
    "              \"fill\": {\"scale\": \"color\", \"field\": \"ass_threshold\"},\n",
    "              \"tooltip\": {\n",
    "                \"signal\": \"{title:'Coral in waters with aragonite saturation state below ' + datum.ass_threshold + ' in ' + datum.decade_start + 's', 'Fraction of regional reef area':format(datum.acid_fraction_running,'.1%')}\"\n",
    "              }\n",
    "            },\n",
    "            \"hover\": {\"fillOpacity\": {\"value\": 0.5}},\n",
    "            \"update\": {\"fillOpacity\": {\"value\": 1}}\n",
    "          }\n",
    "        }\n",
    "      ]\n",
    "    }\n",
    "  ],\n",
    "  \"legends\": [\n",
    "    {\n",
    "      \"title\": [\"Aragonite\", \"Saturation\", \"State below:\"],\n",
    "      \"fill\": \"color\",\n",
    "      \"orient\": \"right\"\n",
    "    }\n",
    "  ]\n",
    "}\n",
    "\"\"\")\n",
    "vega_view=dict(spec)\n",
    "vega_view['width']=widget_width\n",
    "vega_view['height']=widget_height\n",
    "Vega(vega_view)"
   ]
  },
  {
   "cell_type": "markdown",
   "metadata": {},
   "source": [
    "---"
   ]
  },
  {
   "cell_type": "markdown",
   "metadata": {},
   "source": [
    "# Revised version\n",
    "Single stacked, normalized bar for each decade, with segments for area below both thresholds and below neither."
   ]
  },
  {
   "cell_type": "markdown",
   "metadata": {},
   "source": [
    "## Global"
   ]
  },
  {
   "cell_type": "markdown",
   "metadata": {},
   "source": [
    "### Query"
   ]
  },
  {
   "cell_type": "markdown",
   "metadata": {},
   "source": [
    "```sql\n",
    "SELECT lvl1.*,\n",
    "1-acid_fraction_35_running AS fraction_adequate,\n",
    "acid_fraction_35_running-acid_fraction_30_running AS fraction_marginal,\n",
    "acid_fraction_30_running AS fraction_poor\n",
    "FROM (\n",
    "  SELECT decade_start, SUM(total_area) AS total_area, SUM(acid_area_35) AS acid_area_35, SUM(acid_area_30) AS acid_area_30,\n",
    "  SUM(acid_area_35)/SUM(total_area) AS acid_fraction_35, SUM(acid_area_30)/SUM(total_area) AS acid_fraction_30,\n",
    "  SUM(SUM(acid_area_35)/SUM(total_area)) OVER (ORDER BY decade_start) AS acid_fraction_35_running,\n",
    "  SUM(SUM(acid_area_30)/SUM(total_area)) OVER (ORDER BY decade_start) AS acid_fraction_30_running\n",
    "  FROM (\n",
    "    SELECT cartodb_id, gcrmn_reg, ecoregion, \n",
    "    unnest(array[2000, 2010, 2020, 2030, 2040, 2050, 2060, 2070, 2080, 2090]) AS decade_start,\n",
    "    unnest(array[_2000s_35, _2010s_35, _2020s_35, _2030s_35, _2040s_35, _2050s_35, _2060s_35, _2070s_35, _2080s_35, _2090s_35]) AS acid_area_35,\n",
    "    unnest(array[_2000s_30, _2010s_30, _2020s_30, _2030s_30, _2040s_30, _2050s_30, _2060s_30, _2070s_30, _2080s_30, _2090s_30]) AS acid_area_30,\n",
    "    reefarea AS total_area\n",
    "    FROM ocn_calcs_004_reef_projected_acidification_areas_by_meow_per_decade) AS lvl0\n",
    "  GROUP BY decade_start\n",
    "  ORDER BY decade_start ASC) AS lvl1\n",
    "```"
   ]
  },
  {
   "cell_type": "markdown",
   "metadata": {},
   "source": [
    "### Specification"
   ]
  },
  {
   "cell_type": "code",
   "execution_count": 5,
   "metadata": {
    "tags": []
   },
   "outputs": [
    {
     "data": {
      "application/vnd.vega.v5+json": {
       "autosize": {
        "contains": "padding",
        "resize": true,
        "type": "pad"
       },
       "axes": [
        {
         "format": "%",
         "orient": "left",
         "scale": "yscale",
         "title": "Coral reef area"
        },
        {
         "encode": {
          "domain": {
           "update": {
            "stroke": {
             "value": "#333"
            },
            "strokeWidth": {
             "value": 1.5
            }
           }
          },
          "labels": {
           "hover": {
            "fill": {
             "value": "firebrick"
            }
           },
           "interactive": true,
           "update": {
            "align": {
             "value": "left"
            },
            "angle": {
             "value": 45
            },
            "baseline": {
             "value": "middle"
            },
            "dx": {
             "value": 1
            },
            "dy": {
             "value": 2
            },
            "fill": {
             "value": "black"
            },
            "fontSize": {
             "value": 12
            },
            "text": {
             "signal": "datum.value + 's'"
            }
           }
          }
         },
         "labelPadding": 4,
         "orient": "bottom",
         "scale": "xscale",
         "tickSize": 0,
         "zindex": 1
        }
       ],
       "data": [
        {
         "format": {
          "property": "rows",
          "type": "json"
         },
         "name": "table",
         "transform": [
          {
           "as": "sum_marginal",
           "expr": "datum.fraction_adequate+datum.fraction_marginal",
           "type": "formula"
          }
         ],
         "url": "https://wri-rw.carto.com/api/v2/sql?q=SELECT lvl1.*, 1-acid_fraction_35_running AS fraction_adequate, acid_fraction_35_running-acid_fraction_30_running AS fraction_marginal, acid_fraction_30_running AS fraction_poor FROM (SELECT decade_start, SUM(total_area) AS total_area, SUM(acid_area_35) AS acid_area_35, SUM(acid_area_30) AS acid_area_30, SUM(acid_area_35)/SUM(total_area) AS acid_fraction_35, SUM(acid_area_30)/SUM(total_area) AS acid_fraction_30, SUM(SUM(acid_area_35)/SUM(total_area)) OVER (ORDER BY decade_start) AS acid_fraction_35_running, SUM(SUM(acid_area_30)/SUM(total_area)) OVER (ORDER BY decade_start) AS acid_fraction_30_running FROM (SELECT cartodb_id, gcrmn_reg, ecoregion, unnest(array[2000, 2010, 2020, 2030, 2040, 2050, 2060, 2070, 2080, 2090]) AS decade_start, unnest(array[_2000s_35, _2010s_35, _2020s_35, _2030s_35, _2040s_35, _2050s_35, _2060s_35, _2070s_35, _2080s_35, _2090s_35]) AS acid_area_35, unnest(array[_2000s_30, _2010s_30, _2020s_30, _2030s_30, _2040s_30, _2050s_30, _2060s_30, _2070s_30, _2080s_30, _2090s_30]) AS acid_area_30, reefarea AS total_area FROM ocn_calcs_004_reef_projected_acidification_areas_by_meow_per_decade) AS lvl0 GROUP BY decade_start ORDER BY decade_start ASC) AS lvl1"
        }
       ],
       "description": "Projected suitability for coral reefs due to acidification",
       "height": 300,
       "legends": [
        {
         "fill": "color",
         "orient": "right",
         "title": [
          "Suitability",
          "in terms of",
          "acidity"
         ]
        }
       ],
       "marks": [
        {
         "encode": {
          "enter": {
           "fill": {
            "scale": "color",
            "value": "Adequate"
           },
           "tooltip": {
            "signal": "{title:'Adequate suitability for coral', 'Decade':datum.decade_start+'s', 'Aragonite saturation state':'Above 3.5', 'Fraction of global reef area':format(datum.fraction_adequate,'.1%')}"
           },
           "width": {
            "band": 1,
            "scale": "xscale"
           },
           "x": {
            "field": "decade_start",
            "scale": "xscale"
           },
           "y": {
            "scale": "yscale",
            "value": 0
           },
           "y2": {
            "field": "fraction_adequate",
            "scale": "yscale"
           }
          },
          "hover": {
           "fillOpacity": {
            "value": 0.5
           }
          },
          "update": {
           "fillOpacity": {
            "value": 1
           }
          }
         },
         "from": {
          "data": "table"
         },
         "name": "bars_adequate",
         "type": "rect"
        },
        {
         "encode": {
          "enter": {
           "fill": {
            "scale": "color",
            "value": "Marginal"
           },
           "tooltip": {
            "signal": "{title:'Marginal suitability for coral', 'Decade':datum.decade_start+'s', 'Aragonite saturation state':'Between 3.0 and 3.5', 'Fraction of global reef area':format(datum.fraction_marginal,'.1%')}"
           },
           "width": {
            "band": 1,
            "scale": "xscale"
           },
           "x": {
            "field": "decade_start",
            "scale": "xscale"
           },
           "y": {
            "field": "fraction_adequate",
            "scale": "yscale"
           },
           "y2": {
            "field": "sum_marginal",
            "scale": "yscale"
           }
          },
          "hover": {
           "fillOpacity": {
            "value": 0.5
           }
          },
          "update": {
           "fillOpacity": {
            "value": 1
           }
          }
         },
         "from": {
          "data": "table"
         },
         "name": "bars_marginal",
         "type": "rect"
        },
        {
         "encode": {
          "enter": {
           "fill": {
            "scale": "color",
            "value": "Poor"
           },
           "tooltip": {
            "signal": "{title:'Poor suitability for coral', 'Decade':datum.decade_start+'s', 'Aragonite saturation state':'Below 3.0', 'Fraction of global reef area':format(datum.fraction_poor,'.1%')}"
           },
           "width": {
            "band": 1,
            "scale": "xscale"
           },
           "x": {
            "field": "decade_start",
            "scale": "xscale"
           },
           "y": {
            "field": "sum_marginal",
            "scale": "yscale"
           },
           "y2": {
            "scale": "yscale",
            "value": 1
           }
          },
          "hover": {
           "fillOpacity": {
            "value": 0.5
           }
          },
          "update": {
           "fillOpacity": {
            "value": 1
           }
          }
         },
         "from": {
          "data": "table"
         },
         "name": "bars_poor",
         "type": "rect"
        }
       ],
       "padding": {
        "bottom": 5,
        "left": 0,
        "right": 0,
        "top": 0
       },
       "scales": [
        {
         "domain": {
          "data": "table",
          "field": "decade_start"
         },
         "name": "xscale",
         "padding": 0.2,
         "range": "width",
         "type": "band"
        },
        {
         "domain": [
          0,
          1
         ],
         "name": "yscale",
         "nice": true,
         "range": "height",
         "round": true,
         "type": "linear",
         "zero": true
        },
        {
         "domain": [
          "Poor",
          "Marginal",
          "Adequate"
         ],
         "name": "color",
         "range": [
          "#fde0dd",
          "#f768a1",
          "#7a0177"
         ],
         "type": "ordinal"
        }
       ],
       "schema": "https://vega.github.io/schema/vega/v5.json",
       "signals": [
        {
         "name": "hover",
         "on": [
          {
           "events": "@cell:mouseover",
           "update": "datum"
          },
          {
           "events": "@cell:mouseout",
           "update": "null"
          }
         ],
         "value": null
        }
       ],
       "title": {
        "text": {
         "signal": "'Projected Suitability of Coral Reef Habitat Globally'"
        }
       },
       "width": 400
      },
      "image/png": "[encoded data removed]"
     },
     "metadata": {},
     "output_type": "display_data"
    }
   ],
   "source": [
    "spec=json.loads(\"\"\"\n",
    "{\n",
    "  \"schema\": \"https://vega.github.io/schema/vega/v5.json\",\n",
    "  \"description\": \"Projected suitability for coral reefs due to acidification\",\n",
    "  \"width\": 300,\n",
    "  \"height\": 250,\n",
    "  \"padding\": {\n",
    "    \"left\": 0, \n",
    "    \"top\": 0, \n",
    "    \"right\": 0, \n",
    "    \"bottom\": 5\n",
    "  },\n",
    "  \"autosize\": {\"type\": \"pad\", \"resize\": true, \"contains\": \"padding\"},\n",
    "  \"signals\": [\n",
    "    {\n",
    "      \"name\": \"hover\",\n",
    "      \"value\": null,\n",
    "      \"on\": [\n",
    "        {\"events\": \"@cell:mouseover\", \"update\": \"datum\"},\n",
    "        {\"events\": \"@cell:mouseout\", \"update\": \"null\"}\n",
    "      ]\n",
    "    }\n",
    "  ],\n",
    "  \"data\": [\n",
    "    {\n",
    "      \"name\": \"table\",\n",
    "      \"url\": \"https://wri-rw.carto.com/api/v2/sql?q=SELECT lvl1.*, 1-acid_fraction_35_running AS fraction_adequate, acid_fraction_35_running-acid_fraction_30_running AS fraction_marginal, acid_fraction_30_running AS fraction_poor FROM (SELECT decade_start, SUM(total_area) AS total_area, SUM(acid_area_35) AS acid_area_35, SUM(acid_area_30) AS acid_area_30, SUM(acid_area_35)/SUM(total_area) AS acid_fraction_35, SUM(acid_area_30)/SUM(total_area) AS acid_fraction_30, SUM(SUM(acid_area_35)/SUM(total_area)) OVER (ORDER BY decade_start) AS acid_fraction_35_running, SUM(SUM(acid_area_30)/SUM(total_area)) OVER (ORDER BY decade_start) AS acid_fraction_30_running FROM (SELECT cartodb_id, gcrmn_reg, ecoregion, unnest(array[2000, 2010, 2020, 2030, 2040, 2050, 2060, 2070, 2080, 2090]) AS decade_start, unnest(array[_2000s_35, _2010s_35, _2020s_35, _2030s_35, _2040s_35, _2050s_35, _2060s_35, _2070s_35, _2080s_35, _2090s_35]) AS acid_area_35, unnest(array[_2000s_30, _2010s_30, _2020s_30, _2030s_30, _2040s_30, _2050s_30, _2060s_30, _2070s_30, _2080s_30, _2090s_30]) AS acid_area_30, reefarea AS total_area FROM ocn_calcs_004_reef_projected_acidification_areas_by_meow_per_decade) AS lvl0 GROUP BY decade_start ORDER BY decade_start ASC) AS lvl1\",\n",
    "      \"format\": {\"type\": \"json\", \"property\": \"rows\"},\n",
    "      \"transform\": [\n",
    "        {\n",
    "          \"type\": \"formula\",\n",
    "          \"expr\": \"datum.fraction_adequate+datum.fraction_marginal\",\n",
    "          \"as\": \"sum_marginal\"\n",
    "        }\n",
    "      ]\n",
    "    }\n",
    "  ],\n",
    "  \"scales\": [\n",
    "    {\n",
    "      \"name\": \"xscale\",\n",
    "      \"type\": \"band\",\n",
    "      \"domain\": {\"data\": \"table\", \"field\": \"decade_start\"},\n",
    "      \"range\": \"width\",\n",
    "      \"padding\": 0.2\n",
    "    },\n",
    "    {\n",
    "      \"name\": \"yscale\",\n",
    "      \"type\": \"linear\",\n",
    "      \"domain\": [0,1],\n",
    "      \"range\": \"height\",\n",
    "      \"round\": true,\n",
    "      \"zero\": true,\n",
    "      \"nice\": true\n",
    "    },\n",
    "    {\n",
    "      \"name\": \"color\",\n",
    "      \"type\": \"ordinal\",\n",
    "      \"domain\": [\n",
    "        \"Poor\",\n",
    "        \"Marginal\",\n",
    "        \"Adequate\"\n",
    "      ],\n",
    "      \"range\": [\n",
    "        \"#fde0dd\",\n",
    "        \"#f768a1\",\n",
    "        \"#7a0177\"\n",
    "      ]\n",
    "    }\n",
    "  ],\n",
    "  \"axes\": [\n",
    "    {\n",
    "      \"orient\": \"left\",\n",
    "      \"scale\": \"yscale\",\n",
    "      \"title\": \"Coral reef area\",\n",
    "      \"labelAlign\": \"right\",\n",
    "      \"labelBaseline\": \"middle\",\n",
    "      \"labelPadding\": 5,\n",
    "      \"format\": \"%\"\n",
    "    },\n",
    "    {\n",
    "      \"orient\": \"bottom\",\n",
    "      \"scale\": \"xscale\",\n",
    "      \"tickSize\": 0,\n",
    "      \"labelPadding\": 4,\n",
    "      \"zindex\": 1,\n",
    "      \"encode\": {\n",
    "        \"labels\": {\n",
    "          \"interactive\": true,\n",
    "          \"update\": {\n",
    "            \"text\": {\"signal\": \"datum.value + 's'\"},\n",
    "            \"fill\": {\"value\": \"black\"},\n",
    "            \"angle\": {\"value\": 45},\n",
    "            \"fontSize\": {\"value\": 12},\n",
    "            \"align\": {\"value\": \"left\"},\n",
    "            \"baseline\": {\"value\": \"middle\"},\n",
    "            \"dy\": {\"value\": 2},\n",
    "            \"dx\": {\"value\": 1}\n",
    "          },\n",
    "          \"hover\": {\"fill\": {\"value\": \"firebrick\"}}\n",
    "        },\n",
    "        \"domain\": {\n",
    "          \"update\": {\"stroke\": {\"value\": \"#333\"}, \"strokeWidth\": {\"value\": 1.5}}\n",
    "        }\n",
    "      }\n",
    "    }\n",
    "  ],\n",
    "  \"marks\": [\n",
    "    {\n",
    "      \"name\": \"bars_adequate\",\n",
    "      \"from\": {\"data\": \"table\"},\n",
    "      \"type\": \"rect\",\n",
    "      \"encode\": {\n",
    "        \"enter\": {\n",
    "          \"x\": {\"scale\": \"xscale\", \"field\": \"decade_start\"},\n",
    "          \"width\": {\"scale\": \"xscale\", \"band\": 1},\n",
    "          \"y\": {\"scale\": \"yscale\", \"value\": 0},\n",
    "          \"y2\": {\"scale\": \"yscale\", \"field\": \"fraction_adequate\"},\n",
    "          \"fill\": {\"scale\": \"color\", \"value\": \"Adequate\"},\n",
    "          \"tooltip\": {\n",
    "            \"signal\": \"{title:'Adequate suitability for coral', 'Decade':datum.decade_start+'s', 'Aragonite saturation state':'Above 3.5', 'Fraction of global reef area':format(datum.fraction_adequate,'.1%')}\"\n",
    "          }\n",
    "        },\n",
    "        \"hover\": {\"fillOpacity\": {\"value\": 0.5}},\n",
    "        \"update\": {\"fillOpacity\": {\"value\": 1}}\n",
    "      }\n",
    "    },\n",
    "    {\n",
    "      \"name\": \"bars_marginal\",\n",
    "      \"from\": {\"data\": \"table\"},\n",
    "      \"type\": \"rect\",\n",
    "      \"encode\": {\n",
    "        \"enter\": {\n",
    "          \"x\": {\"scale\": \"xscale\", \"field\": \"decade_start\"},\n",
    "          \"width\": {\"scale\": \"xscale\", \"band\": 1},\n",
    "          \"y\": {\"scale\": \"yscale\", \"field\": \"fraction_adequate\"},\n",
    "          \"y2\": {\n",
    "            \"scale\": \"yscale\", \n",
    "            \"field\": \"sum_marginal\"\n",
    "          },\n",
    "          \"fill\": {\"scale\": \"color\", \"value\": \"Marginal\"},\n",
    "          \"tooltip\": {\n",
    "            \"signal\": \"{title:'Marginal suitability for coral', 'Decade':datum.decade_start+'s', 'Aragonite saturation state':'Between 3.0 and 3.5', 'Fraction of global reef area':format(datum.fraction_marginal,'.1%')}\"\n",
    "          }\n",
    "        },\n",
    "        \"hover\": {\"fillOpacity\": {\"value\": 0.5}},\n",
    "        \"update\": {\"fillOpacity\": {\"value\": 1}}\n",
    "      }\n",
    "    },\n",
    "    {\n",
    "      \"name\": \"bars_poor\",\n",
    "      \"from\": {\"data\": \"table\"},\n",
    "      \"type\": \"rect\",\n",
    "      \"encode\": {\n",
    "        \"enter\": {\n",
    "          \"x\": {\"scale\": \"xscale\", \"field\": \"decade_start\"},\n",
    "          \"width\": {\"scale\": \"xscale\", \"band\": 1},\n",
    "          \"y\": {\"scale\": \"yscale\", \"field\": \"sum_marginal\"},\n",
    "          \"y2\": {\n",
    "            \"scale\": \"yscale\", \n",
    "            \"value\": 1\n",
    "          },\n",
    "          \"fill\": {\"scale\": \"color\", \"value\": \"Poor\"},\n",
    "          \"tooltip\": {\n",
    "            \"signal\": \"{title:'Poor suitability for coral', 'Decade':datum.decade_start+'s', 'Aragonite saturation state':'Below 3.0', 'Fraction of global reef area':format(datum.fraction_poor,'.1%')}\"\n",
    "          }\n",
    "        },\n",
    "        \"hover\": {\"fillOpacity\": {\"value\": 0.5}},\n",
    "        \"update\": {\"fillOpacity\": {\"value\": 1}}\n",
    "      }\n",
    "    }\n",
    "  ],\n",
    "  \"legends\": [\n",
    "    {\n",
    "      \"title\": [\"Suitability\", \"in terms of\", \"acidity\"],\n",
    "      \"fill\": \"color\",\n",
    "      \"orient\": \"right\"\n",
    "    }\n",
    "  ]\n",
    "}\n",
    "\"\"\")\n",
    "vega_view=dict(spec)\n",
    "vega_view['width']=widget_width\n",
    "vega_view['height']=widget_height\n",
    "Vega(vega_view)"
   ]
  },
  {
   "cell_type": "markdown",
   "metadata": {},
   "source": [
    "### RW API\n",
    "Parent dataset [ocn.006b.rw0 Projected Ocean Acidification: Suitability for Coral Reefs](https://resourcewatch.org/data/explore/cb4db45c-e1e8-44a4-837a-e513d3c9d9fe) ([Admin](https://resourcewatch.org/admin/data/datasets/cb4db45c-e1e8-44a4-837a-e513d3c9d9fe/edit))    \n",
    "[API ID](https://api.resourcewatch.org/v1/dataset/cb4db45c-e1e8-44a4-837a-e513d3c9d9fe/) `cb4db45c-e1e8-44a4-837a-e513d3c9d9fe`  \n",
    "[Widgets](https://api.resourcewatch.org/v1/dataset/cb4db45c-e1e8-44a4-837a-e513d3c9d9fe/widget?page[size]=100)"
   ]
  },
  {
   "cell_type": "markdown",
   "metadata": {},
   "source": [
    "Lightly modified version of widget passed to API via [widget script](https://github.com/resource-watch/data-team-tools/blob/master/advanced_widget_writer/advanced_chart_widget_create.py). Key variables to modify in script, besides specification itself:"
   ]
  },
  {
   "cell_type": "code",
   "execution_count": 21,
   "metadata": {},
   "outputs": [],
   "source": [
    "dataset_id = 'cb4db45c-e1e8-44a4-837a-e513d3c9d9fe'\n",
    "name = 'Projected Suitability of Coral Reef Habitat Globally'\n",
    "description = 'Projected suitability for coral reefs due to acidification'"
   ]
  },
  {
   "cell_type": "markdown",
   "metadata": {},
   "source": [
    "- [Global](https://api.resourcewatch.org/v1/widget/bde6ab7a-6022-413e-8af6-451ef0de19ac?env=production)  `bde6ab7a-6022-413e-8af6-451ef0de19ac`  "
   ]
  },
  {
   "cell_type": "markdown",
   "metadata": {},
   "source": [
    "## Regional"
   ]
  },
  {
   "cell_type": "markdown",
   "metadata": {},
   "source": [
    "### SQL"
   ]
  },
  {
   "cell_type": "markdown",
   "metadata": {},
   "source": [
    "```sql\n",
    "SELECT lvl1.*,\n",
    "1-acid_fraction_35_running AS fraction_adequate,\n",
    "acid_fraction_35_running-acid_fraction_30_running AS fraction_marginal,\n",
    "acid_fraction_30_running AS fraction_poor\n",
    "FROM (\n",
    "  SELECT gcrmn_reg, decade_start, SUM(total_area) AS total_area, SUM(acid_area_35) AS acid_area_35, SUM(acid_area_30) AS acid_area_30,\n",
    "  SUM(acid_area_35)/SUM(total_area) AS acid_fraction_35, SUM(acid_area_30)/SUM(total_area) AS acid_fraction_30,\n",
    "  SUM(SUM(acid_area_35)/SUM(total_area)) OVER (PARTITION BY gcrmn_reg ORDER BY decade_start) AS acid_fraction_35_running,\n",
    "  SUM(SUM(acid_area_30)/SUM(total_area)) OVER (PARTITION BY gcrmn_reg ORDER BY decade_start) AS acid_fraction_30_running\n",
    "  FROM (\n",
    "    SELECT cartodb_id, gcrmn_reg, ecoregion, \n",
    "    unnest(array[2000, 2010, 2020, 2030, 2040, 2050, 2060, 2070, 2080, 2090]) AS decade_start,\n",
    "    unnest(array[_2000s_35, _2010s_35, _2020s_35, _2030s_35, _2040s_35, _2050s_35, _2060s_35, _2070s_35, _2080s_35, _2090s_35]) AS acid_area_35,\n",
    "    unnest(array[_2000s_30, _2010s_30, _2020s_30, _2030s_30, _2040s_30, _2050s_30, _2060s_30, _2070s_30, _2080s_30, _2090s_30]) AS acid_area_30,\n",
    "    reefarea AS total_area\n",
    "    FROM ocn_calcs_004_reef_projected_acidification_areas_by_meow_per_decade ) AS lvl0\n",
    "  GROUP BY gcrmn_reg, decade_start\n",
    "  ORDER BY gcrmn_reg ASC, decade_start ASC) AS lvl1\n",
    "```"
   ]
  },
  {
   "cell_type": "markdown",
   "metadata": {},
   "source": [
    "### Specification"
   ]
  },
  {
   "cell_type": "code",
   "execution_count": 10,
   "metadata": {
    "tags": []
   },
   "outputs": [
    {
     "data": {
      "application/vnd.vega.v5+json": {
       "$schema": "https://vega.github.io/schema/vega/v5.json",
       "autosize": {
        "contains": "padding",
        "resize": true,
        "type": "pad"
       },
       "axes": [
        {
         "format": "%",
         "orient": "left",
         "scale": "yscale",
         "title": "Coral reef area"
        },
        {
         "encode": {
          "domain": {
           "update": {
            "stroke": {
             "value": "#333"
            },
            "strokeWidth": {
             "value": 1.5
            }
           }
          },
          "labels": {
           "hover": {
            "fill": {
             "value": "firebrick"
            }
           },
           "interactive": true,
           "update": {
            "align": {
             "value": "left"
            },
            "angle": {
             "value": 45
            },
            "baseline": {
             "value": "middle"
            },
            "dx": {
             "value": 1
            },
            "dy": {
             "value": 2
            },
            "fill": {
             "value": "black"
            },
            "fontSize": {
             "value": 12
            },
            "text": {
             "signal": "datum.value + 's'"
            }
           }
          }
         },
         "labelPadding": 4,
         "orient": "bottom",
         "scale": "xscale",
         "tickSize": 0,
         "zindex": 1
        }
       ],
       "data": [
        {
         "format": {
          "property": "rows",
          "type": "json"
         },
         "name": "table",
         "transform": [
          {
           "expr": "datum.gcrmn_reg == region_name",
           "type": "filter"
          },
          {
           "as": "sum_marginal",
           "expr": "datum.fraction_adequate+datum.fraction_marginal",
           "type": "formula"
          }
         ],
         "url": "https://wri-rw.carto.com/api/v2/sql?q=SELECT lvl1.*, 1 - acid_fraction_35_running AS fraction_adequate,acid_fraction_35_running - acid_fraction_30_running AS fraction_marginal, acid_fraction_30_running AS fraction_poor FROM (SELECT gcrmn_reg, decade_start, SUM(total_area) AS total_area, SUM(acid_area_35) AS acid_area_35, SUM(acid_area_30) AS acid_area_30, SUM(acid_area_35)/SUM(total_area) AS acid_fraction_35, SUM(acid_area_30)/SUM(total_area) AS acid_fraction_30, SUM(SUM(acid_area_35)/SUM(total_area)) OVER (PARTITION BY gcrmn_reg ORDER BY decade_start) AS acid_fraction_35_running, SUM(SUM(acid_area_30)/SUM(total_area)) OVER (PARTITION BY gcrmn_reg ORDER BY decade_start) AS acid_fraction_30_running FROM (SELECT cartodb_id, gcrmn_reg, ecoregion, unnest(array[2000, 2010, 2020, 2030, 2040, 2050, 2060, 2070, 2080, 2090]) AS decade_start, unnest(array[_2000s_35, _2010s_35, _2020s_35, _2030s_35, _2040s_35, _2050s_35, _2060s_35, _2070s_35, _2080s_35, _2090s_35]) AS acid_area_35, unnest(array[_2000s_30, _2010s_30, _2020s_30, _2030s_30, _2040s_30, _2050s_30, _2060s_30, _2070s_30, _2080s_30, _2090s_30]) AS acid_area_30, reefarea AS total_area FROM ocn_calcs_004_reef_projected_acidification_areas_by_meow_per_decade ) AS lvl0 GROUP BY gcrmn_reg, decade_start ORDER BY gcrmn_reg ASC, decade_start ASC) AS lvl1"
        }
       ],
       "description": "Projected suitability for coral reefs due to acidification ",
       "height": 300,
       "legends": [
        {
         "fill": "color",
         "orient": "right",
         "title": [
          "Habitat",
          "suitability",
          "in terms of",
          "acidity"
         ]
        }
       ],
       "marks": [
        {
         "encode": {
          "enter": {
           "fill": {
            "scale": "color",
            "value": "Adequate"
           },
           "tooltip": {
            "signal": "{title:'Adequate suitability for coral', 'Decade':datum.decade_start+'s', 'Aragonite saturation state':'Above 3.5', 'Fraction of regional reef area':format(datum.fraction_adequate,'.1%')}"
           },
           "width": {
            "band": 1,
            "scale": "xscale"
           },
           "x": {
            "field": "decade_start",
            "scale": "xscale"
           },
           "y": {
            "scale": "yscale",
            "value": 0
           },
           "y2": {
            "field": "fraction_adequate",
            "scale": "yscale"
           }
          },
          "hover": {
           "fillOpacity": {
            "value": 0.5
           }
          },
          "update": {
           "fillOpacity": {
            "value": 1
           }
          }
         },
         "from": {
          "data": "table"
         },
         "name": "bars_adequate",
         "type": "rect"
        },
        {
         "encode": {
          "enter": {
           "fill": {
            "scale": "color",
            "value": "Marginal"
           },
           "tooltip": {
            "signal": "{title:'Marginal suitability for coral', 'Decade':datum.decade_start+'s', 'Aragonite saturation state':'Between 3.0 and 3.5', 'Fraction of regional reef area':format(datum.fraction_marginal,'.1%')}"
           },
           "width": {
            "band": 1,
            "scale": "xscale"
           },
           "x": {
            "field": "decade_start",
            "scale": "xscale"
           },
           "y": {
            "field": "fraction_adequate",
            "scale": "yscale"
           },
           "y2": {
            "field": "sum_marginal",
            "scale": "yscale"
           }
          },
          "hover": {
           "fillOpacity": {
            "value": 0.5
           }
          },
          "update": {
           "fillOpacity": {
            "value": 1
           }
          }
         },
         "from": {
          "data": "table"
         },
         "name": "bars_marginal",
         "type": "rect"
        },
        {
         "encode": {
          "enter": {
           "fill": {
            "scale": "color",
            "value": "Poor"
           },
           "tooltip": {
            "signal": "{title:'Poor suitability for coral', 'Decade':datum.decade_start+'s', 'Aragonite saturation state':'Below 3.0', 'Fraction of regional reef area':format(datum.fraction_poor,'.1%')}"
           },
           "width": {
            "band": 1,
            "scale": "xscale"
           },
           "x": {
            "field": "decade_start",
            "scale": "xscale"
           },
           "y": {
            "field": "sum_marginal",
            "scale": "yscale"
           },
           "y2": {
            "scale": "yscale",
            "value": 1
           }
          },
          "hover": {
           "fillOpacity": {
            "value": 0.5
           }
          },
          "update": {
           "fillOpacity": {
            "value": 1
           }
          }
         },
         "from": {
          "data": "table"
         },
         "name": "bars_poor",
         "type": "rect"
        }
       ],
       "padding": {
        "bottom": 5,
        "left": 0,
        "right": 0,
        "top": 0
       },
       "scales": [
        {
         "domain": {
          "data": "table",
          "field": "decade_start"
         },
         "name": "xscale",
         "padding": 0.2,
         "range": "width",
         "type": "band"
        },
        {
         "domain": [
          0,
          1
         ],
         "name": "yscale",
         "nice": true,
         "range": "height",
         "round": true,
         "type": "linear",
         "zero": true
        },
        {
         "domain": [
          "Poor",
          "Marginal",
          "Adequate"
         ],
         "name": "color",
         "range": [
          "#fde0dd",
          "#f768a1",
          "#7a0177"
         ],
         "type": "ordinal"
        }
       ],
       "signals": [
        {
         "name": "hover",
         "on": [
          {
           "events": "@cell:mouseover",
           "update": "datum"
          },
          {
           "events": "@cell:mouseout",
           "update": "null"
          }
         ],
         "value": null
        },
        {
         "bind": {
          "input": "select",
          "name": "GCRMN Region ",
          "options": [
           "Australia",
           "Brazil",
           "Caribbean",
           "East Asia",
           "ETP",
           "Pacific",
           "PERSGA",
           "ROPME",
           "South Asia",
           "WIO"
          ]
         },
         "description": "Name of GCRMN region",
         "name": "region_name",
         "value": "Caribbean"
        }
       ],
       "title": {
        "text": {
         "signal": "'Projected Suitability for Coral Reefs in '+region_name"
        }
       },
       "width": 400
      },
      "image/png": "[encoded data removed]"
     },
     "metadata": {},
     "output_type": "display_data"
    }
   ],
   "source": [
    "spec=json.loads(\"\"\"\n",
    "{\n",
    "  \"schema\": \"https://vega.github.io/schema/vega/v5.json\",\n",
    "  \"description\": \"Projected suitability for coral reefs due to acidification \",\n",
    "  \"width\": 300,\n",
    "  \"height\": 250,\n",
    "  \"padding\": {\n",
    "    \"left\": 0, \n",
    "    \"top\": 0, \n",
    "    \"right\": 0, \n",
    "    \"bottom\": 5\n",
    "  },\n",
    "  \"autosize\": {\"type\": \"pad\", \"resize\": true, \"contains\": \"padding\"},\n",
    "  \"signals\": [\n",
    "    {\n",
    "      \"name\": \"hover\",\n",
    "      \"value\": null,\n",
    "      \"on\": [\n",
    "        {\"events\": \"@cell:mouseover\", \"update\": \"datum\"},\n",
    "        {\"events\": \"@cell:mouseout\", \"update\": \"null\"}\n",
    "      ]\n",
    "    },\n",
    "    {\n",
    "      \"name\": \"region_name\",\n",
    "      \"description\": \"Name of GCRMN region\",\n",
    "      \"bind\": {\n",
    "        \"input\": \"select\",\n",
    "        \"options\": [\n",
    "          \"Australia\",\n",
    "          \"Brazil\",\n",
    "          \"Caribbean\",\n",
    "          \"East Asia\",\n",
    "          \"ETP\",\n",
    "          \"Pacific\",\n",
    "          \"PERSGA\",\n",
    "          \"ROPME\",\n",
    "          \"South Asia\",\n",
    "          \"WIO\"\n",
    "        ],\n",
    "        \"name\": \"GCRMN Region \"\n",
    "      },\n",
    "      \"value\": \"Caribbean\"\n",
    "    }\n",
    "  ],\n",
    "  \"data\": [\n",
    "    {\n",
    "      \"name\": \"table\",\n",
    "      \"url\": \"https://wri-rw.carto.com/api/v2/sql?q=SELECT lvl1.*, 1 - acid_fraction_35_running AS fraction_adequate,acid_fraction_35_running - acid_fraction_30_running AS fraction_marginal, acid_fraction_30_running AS fraction_poor FROM (SELECT gcrmn_reg, decade_start, SUM(total_area) AS total_area, SUM(acid_area_35) AS acid_area_35, SUM(acid_area_30) AS acid_area_30, SUM(acid_area_35)/SUM(total_area) AS acid_fraction_35, SUM(acid_area_30)/SUM(total_area) AS acid_fraction_30, SUM(SUM(acid_area_35)/SUM(total_area)) OVER (PARTITION BY gcrmn_reg ORDER BY decade_start) AS acid_fraction_35_running, SUM(SUM(acid_area_30)/SUM(total_area)) OVER (PARTITION BY gcrmn_reg ORDER BY decade_start) AS acid_fraction_30_running FROM (SELECT cartodb_id, gcrmn_reg, ecoregion, unnest(array[2000, 2010, 2020, 2030, 2040, 2050, 2060, 2070, 2080, 2090]) AS decade_start, unnest(array[_2000s_35, _2010s_35, _2020s_35, _2030s_35, _2040s_35, _2050s_35, _2060s_35, _2070s_35, _2080s_35, _2090s_35]) AS acid_area_35, unnest(array[_2000s_30, _2010s_30, _2020s_30, _2030s_30, _2040s_30, _2050s_30, _2060s_30, _2070s_30, _2080s_30, _2090s_30]) AS acid_area_30, reefarea AS total_area FROM ocn_calcs_004_reef_projected_acidification_areas_by_meow_per_decade ) AS lvl0 GROUP BY gcrmn_reg, decade_start ORDER BY gcrmn_reg ASC, decade_start ASC) AS lvl1\",\n",
    "      \"format\": {\"type\": \"json\", \"property\": \"rows\"},\n",
    "      \"transform\": [\n",
    "        {\n",
    "          \"type\": \"filter\",\n",
    "          \"expr\": \"datum.gcrmn_reg == region_name\"\n",
    "        },\n",
    "        {\n",
    "          \"type\": \"formula\",\n",
    "          \"expr\": \"datum.fraction_adequate+datum.fraction_marginal\",\n",
    "          \"as\": \"sum_marginal\"\n",
    "        }\n",
    "      ]\n",
    "    }\n",
    "  ],\n",
    "  \"scales\": [\n",
    "    {\n",
    "      \"name\": \"xscale\",\n",
    "      \"type\": \"band\",\n",
    "      \"domain\": {\"data\": \"table\", \"field\": \"decade_start\"},\n",
    "      \"range\": \"width\",\n",
    "      \"padding\": 0.2\n",
    "    },\n",
    "    {\n",
    "      \"name\": \"yscale\",\n",
    "      \"type\": \"linear\",\n",
    "      \"domain\": [0,1],\n",
    "      \"range\": \"height\",\n",
    "      \"round\": true,\n",
    "      \"zero\": true,\n",
    "      \"nice\": true\n",
    "    },\n",
    "    {\n",
    "      \"name\": \"color\",\n",
    "      \"type\": \"ordinal\",\n",
    "      \"domain\": [\n",
    "        \"Poor\",\n",
    "        \"Marginal\",\n",
    "        \"Adequate\"\n",
    "      ],\n",
    "      \"range\": [\n",
    "        \"#fde0dd\",\n",
    "        \"#f768a1\",\n",
    "        \"#7a0177\"\n",
    "      ]\n",
    "    }\n",
    "  ],\n",
    "  \"axes\": [\n",
    "    {\n",
    "      \"orient\": \"left\",\n",
    "      \"scale\": \"yscale\",\n",
    "      \"title\": \"Coral reef area\",\n",
    "      \"labelAlign\": \"right\",\n",
    "      \"labelBaseline\": \"middle\",\n",
    "      \"labelPadding\": 5,\n",
    "      \"format\": \"%\"\n",
    "    },\n",
    "    {\n",
    "      \"orient\": \"bottom\",\n",
    "      \"scale\": \"xscale\",\n",
    "      \"tickSize\": 0,\n",
    "      \"labelPadding\": 4,\n",
    "      \"zindex\": 1,\n",
    "      \"encode\": {\n",
    "        \"labels\": {\n",
    "          \"interactive\": true,\n",
    "          \"update\": {\n",
    "            \"text\": {\"signal\": \"datum.value + 's'\"},\n",
    "            \"fill\": {\"value\": \"black\"},\n",
    "            \"angle\": {\"value\": 45},\n",
    "            \"fontSize\": {\"value\": 12},\n",
    "            \"align\": {\"value\": \"left\"},\n",
    "            \"baseline\": {\"value\": \"middle\"},\n",
    "            \"dy\": {\"value\": 2},\n",
    "            \"dx\": {\"value\": 1}\n",
    "          },\n",
    "          \"hover\": {\"fill\": {\"value\": \"firebrick\"}}\n",
    "        },\n",
    "        \"domain\": {\n",
    "          \"update\": {\"stroke\": {\"value\": \"#333\"}, \"strokeWidth\": {\"value\": 1.5}}\n",
    "        }\n",
    "      }\n",
    "    }\n",
    "  ],\n",
    "  \"marks\": [\n",
    "    {\n",
    "      \"name\": \"bars_adequate\",\n",
    "      \"from\": {\"data\": \"table\"},\n",
    "      \"type\": \"rect\",\n",
    "      \"encode\": {\n",
    "        \"enter\": {\n",
    "          \"x\": {\"scale\": \"xscale\", \"field\": \"decade_start\"},\n",
    "          \"width\": {\"scale\": \"xscale\", \"band\": 1},\n",
    "          \"y\": {\"scale\": \"yscale\", \"value\": 0},\n",
    "          \"y2\": {\"scale\": \"yscale\", \"field\": \"fraction_adequate\"},\n",
    "          \"fill\": {\"scale\": \"color\", \"value\": \"Adequate\"},\n",
    "          \"tooltip\": {\n",
    "            \"signal\": \"{title:'Adequate suitability for coral', 'Decade':datum.decade_start+'s', 'Aragonite saturation state':'Above 3.5', 'Fraction of regional reef area':format(datum.fraction_adequate,'.1%')}\"\n",
    "          }\n",
    "        },\n",
    "        \"hover\": {\"fillOpacity\": {\"value\": 0.5}},\n",
    "        \"update\": {\"fillOpacity\": {\"value\": 1}}\n",
    "      }\n",
    "    },\n",
    "    {\n",
    "      \"name\": \"bars_marginal\",\n",
    "      \"from\": {\"data\": \"table\"},\n",
    "      \"type\": \"rect\",\n",
    "      \"encode\": {\n",
    "        \"enter\": {\n",
    "          \"x\": {\"scale\": \"xscale\", \"field\": \"decade_start\"},\n",
    "          \"width\": {\"scale\": \"xscale\", \"band\": 1},\n",
    "          \"y\": {\"scale\": \"yscale\", \"field\": \"fraction_adequate\"},\n",
    "          \"y2\": {\n",
    "            \"scale\": \"yscale\", \n",
    "            \"field\": \"sum_marginal\"\n",
    "          },\n",
    "          \"fill\": {\"scale\": \"color\", \"value\": \"Marginal\"},\n",
    "          \"tooltip\": {\n",
    "            \"signal\": \"{title:'Marginal suitability for coral', 'Decade':datum.decade_start+'s', 'Aragonite saturation state':'Between 3.0 and 3.5', 'Fraction of regional reef area':format(datum.fraction_marginal,'.1%')}\"\n",
    "          }\n",
    "        },\n",
    "        \"hover\": {\"fillOpacity\": {\"value\": 0.5}},\n",
    "        \"update\": {\"fillOpacity\": {\"value\": 1}}\n",
    "      }\n",
    "    },\n",
    "    {\n",
    "      \"name\": \"bars_poor\",\n",
    "      \"from\": {\"data\": \"table\"},\n",
    "      \"type\": \"rect\",\n",
    "      \"encode\": {\n",
    "        \"enter\": {\n",
    "          \"x\": {\"scale\": \"xscale\", \"field\": \"decade_start\"},\n",
    "          \"width\": {\"scale\": \"xscale\", \"band\": 1},\n",
    "          \"y\": {\"scale\": \"yscale\", \"field\": \"sum_marginal\"},\n",
    "          \"y2\": {\n",
    "            \"scale\": \"yscale\", \n",
    "            \"value\": 1\n",
    "          },\n",
    "          \"fill\": {\"scale\": \"color\", \"value\": \"Poor\"},\n",
    "          \"tooltip\": {\n",
    "            \"signal\": \"{title:'Poor suitability for coral', 'Decade':datum.decade_start+'s', 'Aragonite saturation state':'Below 3.0', 'Fraction of regional reef area':format(datum.fraction_poor,'.1%')}\"\n",
    "          }\n",
    "        },\n",
    "        \"hover\": {\"fillOpacity\": {\"value\": 0.5}},\n",
    "        \"update\": {\"fillOpacity\": {\"value\": 1}}\n",
    "      }\n",
    "    }\n",
    "  ],\n",
    "  \"legends\": [\n",
    "    {\n",
    "      \"title\": [\"Habitat\", \"suitability\", \"in terms of\", \"acidity\"],\n",
    "      \"fill\": \"color\",\n",
    "      \"orient\": \"right\"\n",
    "    }\n",
    "  ]\n",
    "}\n",
    "\"\"\")\n",
    "vega_view=dict(spec)\n",
    "vega_view['width']=widget_width\n",
    "vega_view['height']=widget_height\n",
    "Vega(vega_view)"
   ]
  },
  {
   "cell_type": "markdown",
   "metadata": {},
   "source": [
    "### RW API\n",
    "Parent dataset [ocn.006b.rw0 Projected Ocean Acidification: Suitability for Coral Reefs](https://resourcewatch.org/data/explore/cb4db45c-e1e8-44a4-837a-e513d3c9d9fe) ([Admin](https://resourcewatch.org/admin/data/datasets/cb4db45c-e1e8-44a4-837a-e513d3c9d9fe/edit))    \n",
    "[API ID](https://api.resourcewatch.org/v1/dataset/cb4db45c-e1e8-44a4-837a-e513d3c9d9fe/) `cb4db45c-e1e8-44a4-837a-e513d3c9d9fe`  \n",
    "[Widgets](https://api.resourcewatch.org/v1/dataset/cb4db45c-e1e8-44a4-837a-e513d3c9d9fe/widget?page[size]=100)"
   ]
  },
  {
   "cell_type": "markdown",
   "metadata": {},
   "source": [
    "Lightly modified version of widget passed to API via [widget script](https://github.com/resource-watch/data-team-tools/blob/master/advanced_widget_writer/advanced_chart_widget_create.py). Key variables to modify in script, besides specification itself:"
   ]
  },
  {
   "cell_type": "code",
   "execution_count": 21,
   "metadata": {},
   "outputs": [],
   "source": [
    "dataset_id = 'cb4db45c-e1e8-44a4-837a-e513d3c9d9fe'\n",
    "name = 'Projected Suitability of Coral Reef Habitat in <GCRMN Region>'\n",
    "description = 'Data are from NOAA Coral Reef Watch – Projections of Ocean Acidification for coral reef areas. This dataset shows projections of aragonite saturation in the world’s oceans from 2006–2099. The aragonite saturation state (Ωarag) is commonly used to track ocean acidification because it is a measure of carbonate ion concentration, which indicates the availability of the calcium carbonate that is widely used by marine calcifiers, such as shellfish and coral reefs. These projections are based on future greenhouse gas emission rates determined by the Intergovernmental Panel on Climate Change’s Representative Concentration Pathway (RCP) 8.5. The RCP 8.5 scenario presumes no decrease in greenhouse gas emission rates within the 21st century. An aragonite saturation level of 4.0 or greater is considered optimal for coral growth; above 3.5 is adequate; while a level of 3.0 or less is considered extremely marginal for supporting coral reefs. Thresholds for coral suitability come from \\\"Future coral reef habitat marginality: Temporal and spatial effects of climate change in the Pacific basin\\\" by Guinotte, Buddemeier, and Kleypas.'"
   ]
  },
  {
   "cell_type": "code",
   "execution_count": null,
   "metadata": {},
   "outputs": [],
   "source": [
    "    \"info\": {\n",
    "      \"widgetLinks\": [\n",
    "        {\n",
    "          \"link\": \"https://coralreefwatch.noaa.gov/climate/projections/piccc_oa_and_bleaching/index.php\",\n",
    "          \"name\": \"Projections of Coral Bleaching and Ocean Acidification for Coral Reef Areas on NOAA Coral Reef Watch\"\n",
    "        },\n",
    "        {\n",
    "          \"link\": \"https://onlinelibrary.wiley.com/doi/abs/10.1111/gcb.12394\",\n",
    "          \"name\": \"\\\"Opposite latitudinal gradients in projected ocean acidification and bleaching impacts on coral reefs\\\" in Global Change Biology\"\n",
    "        },\n",
    "        {\n",
    "          \"link\": \"https://resourcewatch.org/data/explore/cb4db45c-e1e8-44a4-837a-e513d3c9d9fe\",\n",
    "          \"name\": \"Projected Ocean Acidification for Coral Reefs on Resource Watch\"\n",
    "        },\n",
    "        {\n",
    "          \"link\": \"https://resourcewatch.org/data/explore/bio004a-Coral-Reef-Locations\",\n",
    "          \"name\": \"Coral Reef Locations on Resource Watch\"\n",
    "        },\n",
    "        {\n",
    "          \"link\": \"https://www.wri.org/publication/reefs-risk-revisited\",\n",
    "          \"name\": \"\\\"Reefs at Risk Revisited\\\" by WRI\"\n",
    "        },\n",
    "        {\n",
    "          \"link\": \"https://www.researchgate.net/publication/225129616_Future_coral_reef_habitat_marginality_Temporal_and_spatial_effects_of_climate_change_in_the_Pacific_basin\",\n",
    "          \"name\": \"\\\"Future coral reef habitat marginality: Temporal and spatial effects of climate change in the Pacific basin\\\" in Coral Reefs\"\n",
    "        }\n",
    "      ],\n",
    "      \"caption\": \"Data: Coral Reef Watch, World Resources Institute\"\n",
    "    }"
   ]
  },
  {
   "cell_type": "markdown",
   "metadata": {},
   "source": [
    "- [Australia](https://api.resourcewatch.org/v1/widget/b6e4a791-a69f-4c42-8714-3e85720b49c5?env=production) `b6e4a791-a69f-4c42-8714-3e85720b49c5`  \n",
    "- [Brazil](https://api.resourcewatch.org/v1/widget/4b868f55-f6f2-45e2-9119-1425deba2de7?env=production) `4b868f55-f6f2-45e2-9119-1425deba2de7`  \n",
    "- [Caribbean](https://api.resourcewatch.org/v1/widget/19048560-5af2-4bbd-82f9-11b55a145ea4?env=production)  `19048560-5af2-4bbd-82f9-11b55a145ea4`  \n",
    "- [East Asia](https://api.resourcewatch.org/v1/widget/aa6139a9-0aab-4141-9522-0cf4b1f9b6e4?env=production) `aa6139a9-0aab-4141-9522-0cf4b1f9b6e4`  \n",
    "- [ETP](https://api.resourcewatch.org/v1/widget/e90a21f6-4637-4772-a4a3-a65eeaee2c1d?env=production) `e90a21f6-4637-4772-a4a3-a65eeaee2c1d`  \n",
    "- [Pacific](https://api.resourcewatch.org/v1/widget/9e1d1861-882f-4b5d-b4a2-93ca94d51355?env=production) `9e1d1861-882f-4b5d-b4a2-93ca94d51355`  \n",
    "- [PERSGA](https://api.resourcewatch.org/v1/widget/7f445fb6-2648-4a63-b727-677a34a01808?env=production) `7f445fb6-2648-4a63-b727-677a34a01808`  \n",
    "- [ROPME](https://api.resourcewatch.org/v1/widget/ddefb8bc-9057-4f16-95cb-7bdfa4a5036b?env=production) `ddefb8bc-9057-4f16-95cb-7bdfa4a5036b`  \n",
    "- [South Asia](https://api.resourcewatch.org/v1/widget/51c09ed5-64be-426a-bf21-7c4c7f40ebcc?env=production) `51c09ed5-64be-426a-bf21-7c4c7f40ebcc`  \n",
    "- [WIO](https://api.resourcewatch.org/v1/widget/552e4c3b-be5d-4108-978c-9b57d9a9ad87?env=production) `552e4c3b-be5d-4108-978c-9b57d9a9ad87`  \n",
    "  \n",
    "- [Select Region](https://api.resourcewatch.org/v1/widget/3f5b843b-ba85-43da-8e59-ccf856675802?env=production) `3f5b843b-ba85-43da-8e59-ccf856675802`  "
   ]
  }
 ],
 "metadata": {
  "kernelspec": {
   "display_name": "rw",
   "language": "python",
   "name": "rw"
  },
  "language_info": {
   "codemirror_mode": {
    "name": "ipython",
    "version": 3
   },
   "file_extension": ".py",
   "mimetype": "text/x-python",
   "name": "python",
   "nbconvert_exporter": "python",
   "pygments_lexer": "ipython3",
   "version": "3.7.10"
  }
 },
 "nbformat": 4,
 "nbformat_minor": 4
}
