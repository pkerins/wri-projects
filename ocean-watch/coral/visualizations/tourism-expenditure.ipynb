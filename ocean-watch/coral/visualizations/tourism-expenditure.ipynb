{
 "cells": [
  {
   "cell_type": "markdown",
   "id": "943c433d",
   "metadata": {},
   "source": [
    "# Tourism Expenditure by Region\n",
    "Tourism expenditure of two types in each GCRMN region.  \n",
    "\n",
    "_Author: Peter Kerins_  \n",
    "_Created: 3 Nov 2021_  \n",
    "_Environment: jupyterlab_  "
   ]
  },
  {
   "cell_type": "markdown",
   "id": "95987e8a",
   "metadata": {},
   "source": [
    "## Style\n",
    "- Vega chart\n",
    "- Pie chart\n",
    "- Adapted from RW widget editor due to hard constraints"
   ]
  },
  {
   "cell_type": "markdown",
   "id": "9f2e6b7b",
   "metadata": {},
   "source": [
    "## Data\n",
    "Carto: [ocn_calcs_006_tourism_expenditure_by_region](https://resourcewatch.carto.com/u/wri-rw/dataset/ocn_calcs_006_tourism_expenditure_by_region)  "
   ]
  },
  {
   "cell_type": "markdown",
   "id": "53bea619",
   "metadata": {},
   "source": [
    "# Preparation"
   ]
  },
  {
   "cell_type": "code",
   "execution_count": 1,
   "id": "5603b916",
   "metadata": {},
   "outputs": [],
   "source": [
    "import json\n",
    "from vega import Vega\n",
    "from IPython.display import display"
   ]
  },
  {
   "cell_type": "code",
   "execution_count": 2,
   "id": "1e915c20",
   "metadata": {},
   "outputs": [],
   "source": [
    "def Vega(spec):\n",
    "    bundle = {}\n",
    "    bundle['application/vnd.vega.v5+json'] = spec\n",
    "    display(bundle, raw=True)"
   ]
  },
  {
   "cell_type": "code",
   "execution_count": 3,
   "id": "cbd210e1",
   "metadata": {},
   "outputs": [],
   "source": [
    "widget_width = 400\n",
    "widget_height = 300"
   ]
  },
  {
   "cell_type": "markdown",
   "id": "709138d8",
   "metadata": {},
   "source": [
    "# Widget"
   ]
  },
  {
   "cell_type": "markdown",
   "id": "ed1dd96d",
   "metadata": {},
   "source": [
    "## Query\n",
    "```sql\n",
    "SELECT exp_type AS type, exp_value AS value \n",
    "FROM ocn_calcs_006_tourism_expenditure_by_region \n",
    "WHERE exp_type NOT LIKE 'Total' \n",
    "AND gcrmn_reg LIKE 'Caribbean' \n",
    "ORDER BY exp_type DESC\n",
    "```"
   ]
  },
  {
   "cell_type": "markdown",
   "id": "f65874f3",
   "metadata": {},
   "source": [
    "## Specification"
   ]
  },
  {
   "cell_type": "code",
   "execution_count": 4,
   "id": "b49beca9",
   "metadata": {},
   "outputs": [
    {
     "data": {
      "application/vnd.vega.v5+json": {
       "autosize": {
        "contains": "padding",
        "type": "fit"
       },
       "axes": [],
       "data": [
        {
         "format": {
          "property": "rows",
          "type": "json"
         },
         "name": "table",
         "transform": [
          {
           "endAngle": {
            "signal": "2*PI"
           },
           "field": "value",
           "startAngle": 0,
           "type": "pie"
          }
         ],
         "url": "https://wri-rw.carto.com/api/v2/sql?q=SELECT exp_type AS type, exp_value AS value FROM ocn_calcs_006_tourism_expenditure_by_region WHERE exp_type NOT LIKE 'Total' AND gcrmn_reg LIKE 'Caribbean' ORDER BY exp_value DESC"
        }
       ],
       "description": "Algae cover with confidence intervals",
       "height": 300,
       "legends": [
        {
         "fill": "colorscale",
         "orient": "right",
         "title": ""
        }
       ],
       "marks": [
        {
         "encode": {
          "enter": {
           "fill": {
            "field": "type",
            "scale": "colorscale"
           },
           "x": {
            "signal": "width / 2"
           },
           "y": {
            "signal": "height / 2"
           }
          },
          "hover": {
           "opacity": {
            "value": 0.8
           }
          },
          "update": {
           "endAngle": {
            "field": "endAngle"
           },
           "innerRadius": {
            "signal": "0"
           },
           "opacity": {
            "value": 1
           },
           "outerRadius": {
            "signal": "width > height ? height / 2 : width / 2"
           },
           "startAngle": {
            "field": "startAngle"
           },
           "tooltip": {
            "signal": "{'Value':format(datum.value/1000000000,'$,.2f')+' billion','Type':datum.type}"
           }
          }
         },
         "from": {
          "data": "table"
         },
         "type": "arc"
        }
       ],
       "padding": 0,
       "scales": [
        {
         "domain": {
          "data": "table",
          "field": "type"
         },
         "name": "colorscale",
         "range": [
          "#40B2CE",
          "#2E75AD"
         ],
         "type": "ordinal"
        }
       ],
       "schema": "https://vega.github.io/schema/vega/v5.json",
       "signals": [],
       "width": 400
      },
      "image/png": "[encoded data removed]"
     },
     "metadata": {},
     "output_type": "display_data"
    }
   ],
   "source": [
    "spec=json.loads(\"\"\"\n",
    "{\n",
    "  \"schema\": \"https://vega.github.io/schema/vega/v5.json\",\n",
    "  \"description\": \"Algae cover with confidence intervals\",\n",
    "  \"width\": 400,\n",
    "  \"height\": 250,\n",
    "  \"padding\": 0,\n",
    "  \"autosize\": {\n",
    "    \"type\": \"fit\",\n",
    "    \"contains\": \"padding\"\n",
    "  },\n",
    "  \"signals\": [\n",
    "  ],\n",
    "  \"data\": [\n",
    "    {\n",
    "      \"name\": \"table\",\n",
    "      \"format\": {\n",
    "        \"type\": \"json\",\n",
    "        \"property\": \"rows\"\n",
    "      },\n",
    "      \"url\": \"https://wri-rw.carto.com/api/v2/sql?q=SELECT exp_type AS type, exp_value AS value FROM ocn_calcs_006_tourism_expenditure_by_region WHERE exp_type NOT LIKE 'Total' AND gcrmn_reg LIKE 'Caribbean' ORDER BY exp_type DESC\",\n",
    "      \"transform\": [\n",
    "        {\n",
    "          \"type\": \"pie\",\n",
    "          \"field\": \"value\",\n",
    "          \"startAngle\": 0,\n",
    "          \"endAngle\": {\"signal\": \"2*PI\"}\n",
    "        }\n",
    "      ]\n",
    "    }\n",
    "  ],\n",
    "  \"scales\": [\n",
    "    {\n",
    "      \"name\": \"colorscale\",\n",
    "      \"type\": \"ordinal\",\n",
    "      \"domain\": {\n",
    "        \"data\": \"table\",\n",
    "        \"field\": \"type\"\n",
    "      },\n",
    "      \"range\": [\n",
    "        \"#40B2CE\",\n",
    "        \"#2E75AD\"\n",
    "      ]\n",
    "    }\n",
    "  ],\n",
    "  \"axes\": [],\n",
    "  \"marks\": [\n",
    "    {\n",
    "      \"type\": \"arc\",\n",
    "      \"from\": {\n",
    "        \"data\": \"table\"\n",
    "      },\n",
    "      \"encode\": {\n",
    "        \"enter\": {\n",
    "          \"fill\": {\n",
    "            \"scale\": \"colorscale\",\n",
    "            \"field\": \"type\"\n",
    "          },\n",
    "          \"x\": {\n",
    "            \"signal\": \"width / 2\"\n",
    "          },\n",
    "          \"y\": {\n",
    "            \"signal\": \"height / 2\"\n",
    "          }\n",
    "        },\n",
    "        \"update\": {\n",
    "          \"startAngle\": {\n",
    "            \"field\": \"startAngle\"\n",
    "          },\n",
    "          \"endAngle\": {\n",
    "            \"field\": \"endAngle\"\n",
    "          },\n",
    "          \"innerRadius\": {\n",
    "            \"signal\": \"0\"\n",
    "          },\n",
    "          \"outerRadius\": {\n",
    "            \"signal\": \"width > height ? height / 2 : width / 2\"\n",
    "          },\n",
    "          \"opacity\": {\n",
    "            \"value\": 1\n",
    "          },\n",
    "          \"tooltip\": {\n",
    "            \"signal\": \"{'Value':format(datum.value/1000000000,'$,.2f')+' billion','Type':datum.type}\"\n",
    "          }\n",
    "        },\n",
    "        \"hover\": {\n",
    "          \"opacity\": {\n",
    "            \"value\": 0.8\n",
    "          }\n",
    "        }\n",
    "      }\n",
    "    }\n",
    "  ],\n",
    "  \"legends\": [\n",
    "    {\n",
    "      \"title\": \"\",\n",
    "      \"fill\": \"colorscale\",\n",
    "      \"orient\": \"right\"\n",
    "    }\n",
    "  ]\n",
    "}\n",
    "\"\"\")\n",
    "vega_view=dict(spec)\n",
    "vega_view['width']=widget_width\n",
    "vega_view['height']=widget_height\n",
    "Vega(vega_view)"
   ]
  },
  {
   "cell_type": "markdown",
   "id": "2ce1987b",
   "metadata": {},
   "source": [
    "# RW API\n",
    "Parent dataset [ocn.calcs.006 Tourism Expenditure by Region](https://resourcewatch.org/data/explore/deb6af7d-bf58-4320-b7cb-80403acfcef1) (no map) ([Admin](https://resourcewatch.org/admin/data/datasets/deb6af7d-bf58-4320-b7cb-80403acfcef1/edit))    \n",
    "[API ID](https://api.resourcewatch.org/v1/dataset/deb6af7d-bf58-4320-b7cb-80403acfcef1/) `deb6af7d-bf58-4320-b7cb-80403acfcef1`  \n",
    "[Widgets](https://api.resourcewatch.org/v1/dataset/deb6af7d-bf58-4320-b7cb-80403acfcef1/widget)"
   ]
  },
  {
   "cell_type": "markdown",
   "id": "9fcf802f",
   "metadata": {},
   "source": [
    "Lightly modified version of widget passed to API via [widget scripts](https://github.com/resource-watch/data-team-tools/tree/master/advanced_widget_writer). Key variables to modify in script, besides specification itself:"
   ]
  },
  {
   "cell_type": "code",
   "execution_count": 2,
   "id": "7dec1a08",
   "metadata": {},
   "outputs": [],
   "source": [
    "dataset_id = 'deb6af7d-bf58-4320-b7cb-80403acfcef1'\n",
    "name = 'Coral Tourism Expenditure in <region>'\n",
    "description = 'Coral reef tourism expenditure in dollars, broken into two types of spending'"
   ]
  },
  {
   "cell_type": "markdown",
   "id": "cd83e724",
   "metadata": {},
   "source": [
    "- [Australia](https://api.resourcewatch.org/v1/widget/test?env=production) `test`  \n",
    "- [Brazil](https://api.resourcewatch.org/v1/widget/test?env=production) `test`  \n",
    "- [Caribbean](https://api.resourcewatch.org/v1/widget/9b6b9ffb-2fec-4007-abba-1f6af6f7d0b0?env=production)  `9b6b9ffb-2fec-4007-abba-1f6af6f7d0b0`  \n",
    "- [East Asia](https://api.resourcewatch.org/v1/widget/test?env=production) `test`  \n",
    "- [ETP](https://api.resourcewatch.org/v1/widget/test?env=production) `test`  \n",
    "- [Pacific](https://api.resourcewatch.org/v1/widget/test?env=production) `test`  \n",
    "- [PERSGA](https://api.resourcewatch.org/v1/widget/test?env=production) `test`  \n",
    "- [ROPME](https://api.resourcewatch.org/v1/widget/test?env=production) `test`  \n",
    "- [South Asia](https://api.resourcewatch.org/v1/widget/test?env=production) `test`  \n",
    "- [WIO](https://api.resourcewatch.org/v1/widget/test?env=production) `test`  \n",
    "- [World](https://api.resourcewatch.org/v1/widget/test?env=production) `test`  \n",
    "  \n",
    "- [Select Region](https://api.resourcewatch.org/v1/widget/test?env=production) `test`  "
   ]
  }
 ],
 "metadata": {
  "kernelspec": {
   "display_name": "rw",
   "language": "python",
   "name": "rw"
  },
  "language_info": {
   "codemirror_mode": {
    "name": "ipython",
    "version": 3
   },
   "file_extension": ".py",
   "mimetype": "text/x-python",
   "name": "python",
   "nbconvert_exporter": "python",
   "pygments_lexer": "ipython3",
   "version": "3.7.10"
  }
 },
 "nbformat": 4,
 "nbformat_minor": 5
}
