{
 "cells": [
  {
   "cell_type": "markdown",
   "id": "75b4c4f3",
   "metadata": {},
   "source": [
    "# CMEMS WMS Data Retrieval\n",
    "Construction and application of queries to retrieve data directly from Copernicus Marine Service products\n",
    "\n",
    "_Author: Peter Kerins_  \n",
    "_Created: 9 Jul 2021_  \n",
    "_Environment: jupyterlab_  "
   ]
  },
  {
   "cell_type": "markdown",
   "id": "1a331fd8",
   "metadata": {},
   "source": [
    "Ocean Watch seeks to feature several biogeochemical parameters from the [Global Ocean Biogeochemistry Analysis and Forecast (GLOBAL_ANALYSIS_FORECAST_BIO_001_028) product](https://resources.marine.copernicus.eu/?option=com_csw&view=details&product_id=GLOBAL_ANALYSIS_FORECAST_BIO_001_028) of the [Copernicus Marine Service](https://marine.copernicus.eu/). The data will be mapped via Resource Watch. OW will also show time series of the parameters at various locations (representing outlets of rivers to the ocean).  \n",
    "\n",
    "Presenting that time series data would typically require harvesting the information from the historical product rasters. However, the CMEMS [Pretty View](https://view-cmems.mercator-ocean.fr/GLOBAL_ANALYSIS_FORECAST_BIO_001_028) WebGIS tool displays just such time series (via the `Tools`). Furthermore, these are generated using the public-facing [WMS](https://www.ogc.org/standards/wms). The Copernicus Marine User Support Expert indicated [the relevant documentation](https://docs.geoserver.org/master/en/user/services/wms/reference.html#getfeatureinfo)."
   ]
  },
  {
   "cell_type": "markdown",
   "id": "ce61498b",
   "metadata": {},
   "source": [
    "Constructing a properly formatted `GetFeatureInfo` request from scratch without examples was unsuccessful. However, spying on the Pretty View tool while making a time series request revealed [just such an example](https://nrt.cmems-du.eu/thredds/wms/global-analysis-forecast-bio-001-028-daily?SERVICE=WMS&VERSION=1.1.1&REQUEST=GetFeatureInfo&QUERY_LAYERS=chl&BBOX=53.26,14.26,53.2600001,14.2600001&HEIGHT=1&WIDTH=1&INFO_FORMAT=text/xml&SRS=EPSG:4326&X=0&Y=0&elevation=-0.49402499198913574&time=2020-07-16T12:00:00.000Z/2021-07-16T12:00:00.000Z):\n",
    "\n",
    "```html\n",
    "https://nrt.cmems-du.eu/thredds/wms/global-analysis-forecast-bio-001-028-daily?\n",
    "SERVICE=WMS\n",
    "&VERSION=1.1.1\n",
    "&REQUEST=GetFeatureInfo\n",
    "&QUERY_LAYERS=chl\n",
    "&BBOX=53.26,14.26,53.2600001,14.2600001\n",
    "&HEIGHT=1\n",
    "&WIDTH=1\n",
    "&INFO_FORMAT=text/xml\n",
    "&SRS=EPSG:4326\n",
    "&X=0\n",
    "&Y=0\n",
    "&elevation=-0.49402499198913574\n",
    "&time=2020-07-16T12:00:00.000Z/2021-07-16T12:00:00.000Z\n",
    "```\n",
    "\n",
    "This query returns daily readings of `mass_concentration_of_chlorophyll_a_in_sea_water` at a depth of about half a meter for approximately the preceding year, at a location between Socotra and Yemen. "
   ]
  },
  {
   "cell_type": "markdown",
   "id": "66c1e745",
   "metadata": {},
   "source": [
    "A similar example closer to OW's needs can also be generated. [The query](https://nrt.cmems-du.eu/thredds/wms/global-analysis-forecast-bio-001-028-monthly?SERVICE=WMS&VERSION=1.1.1&REQUEST=GetFeatureInfo&QUERY_LAYERS=o2&BBOX=31.01,31.74,31.010000100000003,31.7400001&HEIGHT=1&WIDTH=1&INFO_FORMAT=text/xml&SRS=EPSG:4326&X=0&Y=0&elevation=-0.49402499198913574&time=2019-01-16T12:00:00.000Z/2021-05-16T12:00:00.000Z) for the full times series of monthly `mole_concentration_of_dissolved_molecular_oxygen_in_sea_water` values at a half-meter of depth at a pixel near the mouth of the Nile:\n",
    "```html\n",
    "https://nrt.cmems-du.eu/thredds/wms/global-analysis-forecast-bio-001-028-monthly?\n",
    "SERVICE=WMS\n",
    "&VERSION=1.1.1\n",
    "&REQUEST=GetFeatureInfo\n",
    "&QUERY_LAYERS=o2\n",
    "&BBOX=31.01,31.74,31.010000100000003,31.7400001\n",
    "&HEIGHT=1\n",
    "&WIDTH=1\n",
    "&INFO_FORMAT=text/xml\n",
    "&SRS=EPSG:4326\n",
    "&X=0\n",
    "&Y=0\n",
    "&elevation=-0.49402499198913574\n",
    "&time=2019-01-16T12:00:00.000Z/2021-05-16T12:00:00.000Z\n",
    "```"
   ]
  },
  {
   "cell_type": "markdown",
   "id": "ffc5f9c2",
   "metadata": {},
   "source": [
    "This template can be modified to accommodate OW needs."
   ]
  },
  {
   "cell_type": "markdown",
   "id": "cec53006",
   "metadata": {},
   "source": [
    "# Service"
   ]
  },
  {
   "cell_type": "markdown",
   "id": "3196d2e3",
   "metadata": {},
   "source": [
    "Capabilities of service requested via:\n",
    "```html\n",
    "https://nrt.cmems-du.eu/thredds/wms/global-analysis-forecast-bio-001-028-monthly?\n",
    "SERVICE=WMS\n",
    "&VERSION=1.1.1\n",
    "&REQUEST=GetCapabilities\n",
    "```"
   ]
  },
  {
   "cell_type": "markdown",
   "id": "edf02dd5",
   "metadata": {},
   "source": [
    "Key excerpt from response:\n",
    "```xml\n",
    "            <GetFeatureInfo>\n",
    "                <Format>image/png</Format>\n",
    "                <Format>text/xml</Format>\n",
    "                <DCPType>\n",
    "                    <HTTP>\n",
    "                        <Get>\n",
    "                            <OnlineResource xlink:type=\"simple\" xlink:href=\"http://nrt.cmems-du.eu/thredds/wms/global-analysis-forecast-bio-001-028-monthly\" />\n",
    "                        </Get>\n",
    "                    </HTTP>\n",
    "                </DCPType>\n",
    "            </GetFeatureInfo>\n",
    "```\n",
    "Data can only be returned in `text/xml` format, not the preferred JSON (`application/json`)."
   ]
  },
  {
   "cell_type": "markdown",
   "id": "32c2927b",
   "metadata": {},
   "source": [
    "# Parameters"
   ]
  },
  {
   "cell_type": "markdown",
   "id": "3c81f9cf",
   "metadata": {},
   "source": [
    "## Variable\n",
    "- _mole_concentration_of_dissolved_molecular_oxygen_in_sea_water (mmol m-3)_  \n",
    "  - `QUERY_LAYERS=o2`  \n",
    "- _mole_concentration_of_phosphate_in_sea_water (mmol m-3)_  \n",
    "  - `QUERY_LAYERS=no3`  \n",
    "- _mole_concentration_of_nitrate_in_sea_water (mmol m-3)_  \n",
    "  - `QUERY_LAYERS=po4`  \n",
    "  \n",
    "Note: providing a comma-separated list of valid layers (eg `QUERY_lAYERS=o2,no3`) returns an exception (`400` response)\n"
   ]
  },
  {
   "cell_type": "markdown",
   "id": "ba08cb78",
   "metadata": {},
   "source": [
    "## Depth\n",
    "- `elevation=-0.49402499198913574`\n",
    "- `elevation=-1.5413750410079956`\n",
    "- `elevation=-2.6456689834594727`\n",
    "- `elevation=-3.8194949626922607`\n",
    "- `elevation=-5.078224182128906`"
   ]
  },
  {
   "cell_type": "markdown",
   "id": "f837dece",
   "metadata": {},
   "source": [
    "## Bounding Box\n",
    "`xmin`,`ymin` are just the point of selection; `xmax`, `ymax` are just minimum value plus 0.0000001"
   ]
  },
  {
   "cell_type": "markdown",
   "id": "adbc764b",
   "metadata": {},
   "source": [
    "# Example Request"
   ]
  },
  {
   "cell_type": "markdown",
   "id": "91868560",
   "metadata": {},
   "source": [
    "Oxygen\n",
    "```html\n",
    "https://nrt.cmems-du.eu/thredds/wms/global-analysis-forecast-bio-001-028-monthly?\n",
    "SERVICE=WMS\n",
    "&VERSION=1.1.1\n",
    "&REQUEST=GetFeatureInfo\n",
    "&QUERY_LAYERS=o2\n",
    "&BBOX=31.01,31.74,31.010000100000003,31.7400001\n",
    "&HEIGHT=1\n",
    "&WIDTH=1\n",
    "&INFO_FORMAT=info_format=text/xml\n",
    "&SRS=EPSG:4326\n",
    "&X=0\n",
    "&Y=0\n",
    "&elevation=-0.49402499198913574\n",
    "&time=2019-01-16T12:00:00.000Z/2021-05-16T12:00:00.000Z\n",
    "```"
   ]
  },
  {
   "cell_type": "markdown",
   "id": "2e932d6d",
   "metadata": {},
   "source": [
    " # Workflow\n",
    " Utilizing the CMEMS data entails two main steps:\n",
    " - Identify coordinates for each river mouth that overlap with the ocean water quality data products\n",
    "     - Script: [river-mouths_adjust-coordinates.py](./river-mouths_adjust-coordinates.py)\n",
    "     - This only needs to be executed once. The results are stored persistently \n",
    " - For every such location, use API calls to harvest and store all relevant time series data\n",
    "     - Script: [river-mouths_data-collection.py](./river-mouths_data-collection.py)"
   ]
  },
  {
   "cell_type": "markdown",
   "id": "b8f49973",
   "metadata": {},
   "source": [
    "# Results"
   ]
  },
  {
   "cell_type": "markdown",
   "id": "1925f1d6",
   "metadata": {},
   "source": [
    "## River Mouth Locations\n",
    "Original locations and effective (ie valid for WMS request) coordinates are stored in [the same table](https://resourcewatch.carto.com/u/wri-rw/dataset/ocn_calcs_010_target_river_mouths), with the initially calculated location represented by the geometry, and the validated coordinates stored in `x_valid` and `y_valid`. "
   ]
  },
  {
   "cell_type": "code",
   "execution_count": 3,
   "id": "3c7684bc",
   "metadata": {},
   "outputs": [],
   "source": [
    "import os\n",
    "from dotenv import dotenv_values\n",
    "env_vars = dotenv_values('/home/pkerins/code/.env')\n",
    "from cartoframes.auth import set_default_credentials\n",
    "from cartoframes import read_carto, to_carto\n",
    "import pandas as pd\n",
    "CARTO_USER = env_vars['CARTO_WRI_RW_USER']\n",
    "CARTO_KEY = env_vars['CARTO_WRI_RW_KEY']\n",
    "set_default_credentials(username=CARTO_USER,\n",
    "                        base_url=\"https://{user}.carto.com/\".format(user=CARTO_USER),\n",
    "                        api_key=CARTO_KEY)"
   ]
  },
  {
   "cell_type": "code",
   "execution_count": 4,
   "id": "7ec548f0",
   "metadata": {},
   "outputs": [
    {
     "data": {
      "text/html": [
       "<div>\n",
       "<style scoped>\n",
       "    .dataframe tbody tr th:only-of-type {\n",
       "        vertical-align: middle;\n",
       "    }\n",
       "\n",
       "    .dataframe tbody tr th {\n",
       "        vertical-align: top;\n",
       "    }\n",
       "\n",
       "    .dataframe thead th {\n",
       "        text-align: right;\n",
       "    }\n",
       "</style>\n",
       "<table border=\"1\" class=\"dataframe\">\n",
       "  <thead>\n",
       "    <tr style=\"text-align: right;\">\n",
       "      <th></th>\n",
       "      <th>cartodb_id</th>\n",
       "      <th>the_geom</th>\n",
       "      <th>main_riv</th>\n",
       "      <th>distance</th>\n",
       "      <th>upland_skm</th>\n",
       "      <th>ord_clas</th>\n",
       "      <th>ord_stra</th>\n",
       "      <th>catch_skm</th>\n",
       "      <th>length_km</th>\n",
       "      <th>dist_dn_km</th>\n",
       "      <th>ord_flow</th>\n",
       "      <th>dist_up_km</th>\n",
       "      <th>next_down</th>\n",
       "      <th>hyriv_id</th>\n",
       "      <th>dis_av_cms</th>\n",
       "      <th>endorheic</th>\n",
       "      <th>hybas_l12</th>\n",
       "      <th>x_valid</th>\n",
       "      <th>y_valid</th>\n",
       "    </tr>\n",
       "  </thead>\n",
       "  <tbody>\n",
       "    <tr>\n",
       "      <th>5724</th>\n",
       "      <td>5725</td>\n",
       "      <td>POINT (-72.97455 -43.77369)</td>\n",
       "      <td>61575734</td>\n",
       "      <td>850.486585</td>\n",
       "      <td>13161.8</td>\n",
       "      <td>1</td>\n",
       "      <td>7</td>\n",
       "      <td>6.35</td>\n",
       "      <td>4.49</td>\n",
       "      <td>0.0</td>\n",
       "      <td>4</td>\n",
       "      <td>331.7</td>\n",
       "      <td>0</td>\n",
       "      <td>61575734</td>\n",
       "      <td>985.256</td>\n",
       "      <td>0</td>\n",
       "      <td>6120025410</td>\n",
       "      <td>-73.1745487654631</td>\n",
       "      <td>-43.773688525069524</td>\n",
       "    </tr>\n",
       "    <tr>\n",
       "      <th>5725</th>\n",
       "      <td>5726</td>\n",
       "      <td>POINT (-68.55295 -49.93353)</td>\n",
       "      <td>61603671</td>\n",
       "      <td>1856.590403</td>\n",
       "      <td>18118.1</td>\n",
       "      <td>1</td>\n",
       "      <td>5</td>\n",
       "      <td>4.29</td>\n",
       "      <td>2.49</td>\n",
       "      <td>0.0</td>\n",
       "      <td>5</td>\n",
       "      <td>491.1</td>\n",
       "      <td>0</td>\n",
       "      <td>61603671</td>\n",
       "      <td>46.723</td>\n",
       "      <td>0</td>\n",
       "      <td>6120021180</td>\n",
       "      <td>-68.34082117662179</td>\n",
       "      <td>-50.145658427464056</td>\n",
       "    </tr>\n",
       "    <tr>\n",
       "      <th>5726</th>\n",
       "      <td>5727</td>\n",
       "      <td>POINT (-68.96083 -51.59819)</td>\n",
       "      <td>61608832</td>\n",
       "      <td>41578.196873</td>\n",
       "      <td>10478.0</td>\n",
       "      <td>1</td>\n",
       "      <td>5</td>\n",
       "      <td>34.91</td>\n",
       "      <td>5.60</td>\n",
       "      <td>0.0</td>\n",
       "      <td>5</td>\n",
       "      <td>302.8</td>\n",
       "      <td>0</td>\n",
       "      <td>61608832</td>\n",
       "      <td>80.302</td>\n",
       "      <td>0</td>\n",
       "      <td>6120021500</td>\n",
       "      <td>-68.9608316434375</td>\n",
       "      <td>-51.59819353927945</td>\n",
       "    </tr>\n",
       "    <tr>\n",
       "      <th>5727</th>\n",
       "      <td>5728</td>\n",
       "      <td>POINT (-68.57559 -49.95131)</td>\n",
       "      <td>61603772</td>\n",
       "      <td>3688.239087</td>\n",
       "      <td>26959.0</td>\n",
       "      <td>1</td>\n",
       "      <td>6</td>\n",
       "      <td>5.52</td>\n",
       "      <td>1.49</td>\n",
       "      <td>0.0</td>\n",
       "      <td>4</td>\n",
       "      <td>588.1</td>\n",
       "      <td>0</td>\n",
       "      <td>61603772</td>\n",
       "      <td>710.555</td>\n",
       "      <td>0</td>\n",
       "      <td>6120021210</td>\n",
       "      <td>-68.36345557356908</td>\n",
       "      <td>-50.163445781566246</td>\n",
       "    </tr>\n",
       "    <tr>\n",
       "      <th>5728</th>\n",
       "      <td>5729</td>\n",
       "      <td>POINT (-73.25994 -52.73331)</td>\n",
       "      <td>61614285</td>\n",
       "      <td>3057.544015</td>\n",
       "      <td>762.8</td>\n",
       "      <td>1</td>\n",
       "      <td>5</td>\n",
       "      <td>0.65</td>\n",
       "      <td>1.08</td>\n",
       "      <td>0.0</td>\n",
       "      <td>4</td>\n",
       "      <td>62.5</td>\n",
       "      <td>0</td>\n",
       "      <td>61614285</td>\n",
       "      <td>114.223</td>\n",
       "      <td>0</td>\n",
       "      <td>6120022650</td>\n",
       "      <td>-73.47207664454277</td>\n",
       "      <td>-52.94543879690165</td>\n",
       "    </tr>\n",
       "  </tbody>\n",
       "</table>\n",
       "</div>"
      ],
      "text/plain": [
       "      cartodb_id                     the_geom  main_riv      distance  \\\n",
       "5724        5725  POINT (-72.97455 -43.77369)  61575734    850.486585   \n",
       "5725        5726  POINT (-68.55295 -49.93353)  61603671   1856.590403   \n",
       "5726        5727  POINT (-68.96083 -51.59819)  61608832  41578.196873   \n",
       "5727        5728  POINT (-68.57559 -49.95131)  61603772   3688.239087   \n",
       "5728        5729  POINT (-73.25994 -52.73331)  61614285   3057.544015   \n",
       "\n",
       "      upland_skm  ord_clas  ord_stra  catch_skm  length_km  dist_dn_km  \\\n",
       "5724     13161.8         1         7       6.35       4.49         0.0   \n",
       "5725     18118.1         1         5       4.29       2.49         0.0   \n",
       "5726     10478.0         1         5      34.91       5.60         0.0   \n",
       "5727     26959.0         1         6       5.52       1.49         0.0   \n",
       "5728       762.8         1         5       0.65       1.08         0.0   \n",
       "\n",
       "      ord_flow  dist_up_km  next_down  hyriv_id  dis_av_cms  endorheic  \\\n",
       "5724         4       331.7          0  61575734     985.256          0   \n",
       "5725         5       491.1          0  61603671      46.723          0   \n",
       "5726         5       302.8          0  61608832      80.302          0   \n",
       "5727         4       588.1          0  61603772     710.555          0   \n",
       "5728         4        62.5          0  61614285     114.223          0   \n",
       "\n",
       "       hybas_l12             x_valid              y_valid  \n",
       "5724  6120025410   -73.1745487654631  -43.773688525069524  \n",
       "5725  6120021180  -68.34082117662179  -50.145658427464056  \n",
       "5726  6120021500   -68.9608316434375   -51.59819353927945  \n",
       "5727  6120021210  -68.36345557356908  -50.163445781566246  \n",
       "5728  6120022650  -73.47207664454277   -52.94543879690165  "
      ]
     },
     "execution_count": 4,
     "metadata": {},
     "output_type": "execute_result"
    }
   ],
   "source": [
    "read_carto('ocn_calcs_010test_target_river_mouths').tail()"
   ]
  },
  {
   "cell_type": "markdown",
   "id": "97a124e5",
   "metadata": {},
   "source": [
    "## Chemical Concentrations at River Mouths\n",
    "Corrected locations are used to retrieve longitudinal data for the concentration of various chemicals at a range of depths. The results for all locations, chemicals, and depths are stored in [a single table](https://resourcewatch.carto.com/u/wri-rw/dataset/ocn_calcs_011_river_mouth_chemical_concentrations).  "
   ]
  },
  {
   "cell_type": "code",
   "execution_count": null,
   "id": "f44962fc",
   "metadata": {},
   "outputs": [],
   "source": [
    "read_carto('ocn_calcs_011_river_mouth_chemical_concentrations').tail()"
   ]
  }
 ],
 "metadata": {
  "kernelspec": {
   "display_name": "rw",
   "language": "python",
   "name": "rw"
  },
  "language_info": {
   "codemirror_mode": {
    "name": "ipython",
    "version": 3
   },
   "file_extension": ".py",
   "mimetype": "text/x-python",
   "name": "python",
   "nbconvert_exporter": "python",
   "pygments_lexer": "ipython3",
   "version": "3.7.10"
  }
 },
 "nbformat": 4,
 "nbformat_minor": 5
}
