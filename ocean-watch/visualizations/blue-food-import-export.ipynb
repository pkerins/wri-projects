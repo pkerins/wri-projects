{
 "cells": [
  {
   "cell_type": "markdown",
   "id": "7c2d3b3c",
   "metadata": {},
   "source": [
    "# Blue Food: Export, Import, Production\n",
    "Export, import, and production of \"food from the sea\", by country and by year. Intention is to highlight proportions between domestic production and import/export of blue food.\n",
    "\n",
    "Note that this is a parameterized widget; the specification passed to the API will not be renderable without the geostore identifier being inserted.  \n",
    "\n",
    "_Author: Peter Kerins_  \n",
    "_Created: 18 Aug 2021_  \n",
    "_Environment: jupyterlab_  "
   ]
  },
  {
   "cell_type": "markdown",
   "id": "857d3640",
   "metadata": {},
   "source": [
    "## Style\n",
    "- Vega chart\n",
    "- Ocean Watch country page - parameterized chart\n",
    "- Time series\n",
    "- Vertical bar chart\n",
    "- Area chart"
   ]
  },
  {
   "cell_type": "markdown",
   "id": "80a93b86",
   "metadata": {},
   "source": [
    "## Data\n",
    "Underlying dataset: [foo.061 Food from the Sea](https://resourcewatch.carto.com/u/wri-rw/dataset/foo_061_rw0_blue_food_supply_edit)\n",
    "Widget data: [ow_widget_territory](https://resourcewatch.carto.com/u/wri-rw/dataset/ow_widget_territory) (master table for all territory-based widgets on Ocean Watch)  "
   ]
  },
  {
   "cell_type": "markdown",
   "id": "0a6a5664",
   "metadata": {},
   "source": [
    "## Preparation"
   ]
  },
  {
   "cell_type": "code",
   "execution_count": 1,
   "id": "11b304f6",
   "metadata": {
    "jupyter": {
     "source_hidden": true
    }
   },
   "outputs": [],
   "source": [
    "import json\n",
    "from vega import Vega\n",
    "from IPython.display import display"
   ]
  },
  {
   "cell_type": "code",
   "execution_count": 2,
   "id": "2c1a40f0",
   "metadata": {
    "jupyter": {
     "source_hidden": true
    }
   },
   "outputs": [],
   "source": [
    "def Vega(spec):\n",
    "    bundle = {}\n",
    "    bundle['application/vnd.vega.v5+json'] = spec\n",
    "    display(bundle, raw=True)"
   ]
  },
  {
   "cell_type": "code",
   "execution_count": 3,
   "id": "7881a5ba",
   "metadata": {
    "jupyter": {
     "source_hidden": true
    },
    "tags": []
   },
   "outputs": [],
   "source": [
    "widget_width = 400\n",
    "widget_height = 300"
   ]
  },
  {
   "cell_type": "markdown",
   "id": "a3d185b0",
   "metadata": {},
   "source": [
    "# Data Exploration"
   ]
  },
  {
   "cell_type": "markdown",
   "id": "b24eadf8",
   "metadata": {},
   "source": [
    "Pivot version for data inspection\n",
    "```sql\n",
    "SELECT gid_0, date,\n",
    "  SUM(CASE WHEN variable = 'Export Quantity' THEN value END) AS export,\n",
    "  SUM(CASE WHEN variable = 'Import Quantity' THEN value END) AS import,\n",
    "  SUM(CASE WHEN variable = 'Production' THEN value END) AS production\n",
    "FROM ow_widget_territory\n",
    "WHERE widget = 'net exports and imports' \n",
    "GROUP BY gid_0, date\n",
    "ORDER BY gid_0 ASC, date ASC\n",
    "```"
   ]
  },
  {
   "cell_type": "markdown",
   "id": "ae70d937",
   "metadata": {},
   "source": [
    "Note that there are many instances where export exceeds production. This implies the inclusion of value-added processes, eg canning, which precludes certain comparisons or conclusions.\n",
    "```sql\n",
    "SELECT * FROM (\n",
    "  SELECT gid_0, date,\n",
    "    SUM(CASE WHEN variable = 'Export Quantity' THEN value END) AS export,\n",
    "    SUM(CASE WHEN variable = 'Import Quantity' THEN value END) AS import,\n",
    "    SUM(CASE WHEN variable = 'Production' THEN value END) AS production\n",
    "  FROM ow_widget_territory\n",
    "  WHERE widget = 'net exports and imports' \n",
    "  GROUP BY gid_0, date\n",
    "  ORDER BY gid_0 ASC, date ASC) AS subq\n",
    "WHERE export > production\n",
    "```"
   ]
  },
  {
   "cell_type": "markdown",
   "id": "e11d8b6c",
   "metadata": {},
   "source": [
    "# Widget"
   ]
  },
  {
   "cell_type": "markdown",
   "id": "126b936e",
   "metadata": {},
   "source": [
    "## Demo Query\n",
    "`gid_0 = <territory>` used as stand-in for parameterized `geostore_prod={{geostore_id}}`\n",
    "```sql\n",
    "SELECT gid_0, date,\n",
    "  SUM(CASE WHEN variable = 'Export Quantity' THEN value END) AS export,\n",
    "  SUM(CASE WHEN variable = 'Import Quantity' THEN value END) AS import,\n",
    "  SUM(CASE WHEN variable = 'Production' THEN value END) AS production\n",
    "FROM ow_widget_territory\n",
    "WHERE widget = 'net exports and imports' \n",
    "AND gid_0 = 'BRA'\n",
    "GROUP BY gid_0, date\n",
    "ORDER BY gid_0 ASC, date ASC\n",
    "```"
   ]
  },
  {
   "cell_type": "markdown",
   "id": "c75095b5",
   "metadata": {},
   "source": [
    "## Parameterized Query\n",
    "```sql\n",
    "SELECT territory.gid_0, territory.date,\n",
    "  SUM(CASE WHEN territory.variable = 'Export Quantity' THEN value END) AS export,\n",
    "  SUM(CASE WHEN territory.variable = 'Import Quantity' THEN value END) AS import,\n",
    "  SUM(CASE WHEN territory.variable = 'Production' THEN value END) AS production\n",
    "FROM ow_widget_territory AS territory\n",
    "LEFT OUTER JOIN gadm36_0 AS gadm ON territory.gid_0 = gadm.gid_0\n",
    "WHERE territory.widget = 'net exports and imports' \n",
    "AND gadm.gid_0 ILIKE '{{geostore_id}}'\n",
    "GROUP BY territory.gid_0, territory.date\n",
    "ORDER BY territory.gid_0 ASC, territory.date ASC\n",
    "```"
   ]
  },
  {
   "cell_type": "markdown",
   "id": "38b89e79",
   "metadata": {},
   "source": [
    "## Specification\n",
    "Vega code presumes RW-style `config` element present"
   ]
  },
  {
   "cell_type": "code",
   "execution_count": 4,
   "id": "1364f48c",
   "metadata": {},
   "outputs": [
    {
     "data": {
      "application/vnd.vega.v5+json": {
       "autosize": {
        "contains": "padding",
        "type": "fit"
       },
       "axes": [
        {
         "domain": true,
         "grid": false,
         "labelBaseline": "middle",
         "labelFlush": true,
         "labelFont": "Arial",
         "labelFontSize": 10,
         "labelOverlap": true,
         "labelPadding": 7,
         "orient": "bottom",
         "scale": "datescale",
         "ticks": true
        },
        {
         "domain": true,
         "grid": true,
         "gridOpacity": 0.2,
         "labelAlign": "right",
         "labelBaseline": "middle",
         "labelFont": "Arial",
         "labelFontSize": 10,
         "labelPadding": 5,
         "orient": "left",
         "scale": "yscale",
         "title": "Marine food (thousands of tonnes)"
        }
       ],
       "data": [
        {
         "format": {
          "parse": {
           "date": "utc:'%Y'"
          },
          "property": "rows",
          "type": "json"
         },
         "name": "reshaped",
         "transform": [],
         "url": "https://wri-rw.carto.com/api/v2/sql?q=SELECT gid_0, date, SUM(CASE WHEN variable = 'Export Quantity' THEN value END) AS export, SUM(CASE WHEN variable = 'Import Quantity' THEN value END) AS import, SUM(CASE WHEN variable = 'Production' THEN value END) AS production FROM ow_widget_territory WHERE widget = 'net exports and imports' AND gid_0 = 'BRA' GROUP BY gid_0, date ORDER BY gid_0 ASC, date ASC"
        }
       ],
       "description": "Export, import, and production of food from the sea over time",
       "height": 300,
       "legends": [
        {
         "fill": "areascale",
         "orient": "right",
         "type": "symbol"
        },
        {
         "encode": {
          "symbols": {
           "update": {
            "shape": {
             "value": "stroke"
            },
            "size": {
             "value": 80
            }
           }
          }
         },
         "orient": "right",
         "stroke": "linescale",
         "symbol": "stroke",
         "type": "symbol"
        }
       ],
       "marks": [
        {
         "encode": {
          "enter": {
           "fill": {
            "value": "steelblue"
           },
           "tooltip": {
            "signal": "{'Year':utcyear(datum.date), 'Production':format(datum.production*1000,',')+' tonnes', 'Export':format(datum.export*1000,',')+' tonnes', 'Import':format(datum.import*1000,',')+' tonnes'}"
           },
           "x": {
            "field": "date",
            "scale": "datescale"
           },
           "y": {
            "field": "production",
            "scale": "yscale"
           },
           "y2": {
            "scale": "yscale",
            "value": 0
           }
          },
          "hover": {
           "fillOpacity": {
            "value": 0.5
           }
          },
          "update": {
           "fillOpacity": {
            "value": 1
           }
          }
         },
         "from": {
          "data": "reshaped"
         },
         "type": "area"
        },
        {
         "encode": {
          "enter": {
           "interpolate": {
            "value": "monotone"
           },
           "stroke": {
            "value": "orange"
           },
           "strokeWidth": {
            "value": 2
           },
           "x": {
            "field": "date",
            "scale": "datescale"
           },
           "y": {
            "field": "export",
            "scale": "yscale"
           }
          },
          "hover": {
           "strokeOpacity": {
            "value": 0.5
           }
          },
          "update": {
           "strokeOpacity": {
            "value": 1
           }
          }
         },
         "from": {
          "data": "reshaped"
         },
         "type": "line"
        },
        {
         "encode": {
          "enter": {
           "interpolate": {
            "value": "monotone"
           },
           "stroke": {
            "value": "green"
           },
           "strokeWidth": {
            "value": 2
           },
           "x": {
            "field": "date",
            "scale": "datescale"
           },
           "y": {
            "field": "import",
            "scale": "yscale"
           }
          },
          "hover": {
           "strokeOpacity": {
            "value": 0.5
           }
          },
          "update": {
           "strokeOpacity": {
            "value": 1
           }
          }
         },
         "from": {
          "data": "reshaped"
         },
         "type": "line"
        }
       ],
       "padding": 0,
       "scales": [
        {
         "domain": {
          "data": "reshaped",
          "field": "date"
         },
         "name": "datescale",
         "range": "width",
         "type": "time"
        },
        {
         "domain": {
          "data": "reshaped",
          "fields": [
           "import",
           "export",
           "production"
          ]
         },
         "name": "yscale",
         "padding": 0.1,
         "range": "height",
         "type": "linear"
        },
        {
         "domain": [
          "Production"
         ],
         "name": "areascale",
         "range": [
          "steelblue"
         ],
         "type": "ordinal"
        },
        {
         "domain": [
          "Export",
          "Import"
         ],
         "name": "linescale",
         "range": [
          "orange",
          "green"
         ],
         "type": "ordinal"
        }
       ],
       "schema": "https://vega.github.io/schema/vega/v5.json",
       "signals": [],
       "width": 400
      },
      "image/png": "[encoded data removed]"
     },
     "metadata": {},
     "output_type": "display_data"
    }
   ],
   "source": [
    "spec=json.loads(\"\"\"\n",
    "{\n",
    "  \"schema\": \"https://vega.github.io/schema/vega/v5.json\",\n",
    "  \"description\": \"Export, import, and production of food from the sea over time\",\n",
    "  \"width\": 400,\n",
    "  \"height\": 250,\n",
    "  \"padding\": 0,\n",
    "  \"autosize\": {\"type\": \"fit\", \"contains\": \"padding\"},\n",
    "  \"signals\": [],\n",
    "  \"data\": [\n",
    "    {\n",
    "      \"name\": \"reshaped\",\n",
    "      \"url\": \"https://wri-rw.carto.com/api/v2/sql?q=SELECT gid_0, date, SUM(CASE WHEN variable = 'Export Quantity' THEN value END) AS export, SUM(CASE WHEN variable = 'Import Quantity' THEN value END) AS import, SUM(CASE WHEN variable = 'Production' THEN value END) AS production FROM ow_widget_territory WHERE widget = 'net exports and imports' AND gid_0 = 'BRA' GROUP BY gid_0, date ORDER BY gid_0 ASC, date ASC\",\n",
    "      \"format\": {\n",
    "        \"type\": \"json\",\n",
    "        \"property\": \"rows\",\n",
    "        \"parse\": {\"date\": \"utc:'%Y'\"}\n",
    "      },\n",
    "      \"transform\": []\n",
    "    }\n",
    "  ],\n",
    "  \"scales\": [\n",
    "    {\n",
    "      \"name\": \"datescale\",\n",
    "      \"type\": \"time\",\n",
    "      \"domain\": {\"data\": \"reshaped\", \"field\": \"date\"},\n",
    "      \"range\": \"width\"\n",
    "    },\n",
    "    {\n",
    "      \"name\": \"yscale\",\n",
    "      \"type\": \"linear\",\n",
    "      \"domain\": {\n",
    "        \"data\": \"reshaped\", \n",
    "        \"fields\": [\"import\", \"export\", \"production\"]\n",
    "      },\n",
    "      \"range\": \"height\",\n",
    "      \"padding\": 0.1\n",
    "    },\n",
    "    {\n",
    "      \"name\": \"areascale\",\n",
    "      \"type\": \"ordinal\",\n",
    "      \"domain\": [\"Production\"],\n",
    "      \"range\": [\"steelblue\"]\n",
    "    },\n",
    "    {\n",
    "      \"name\": \"linescale\",\n",
    "      \"type\": \"ordinal\",\n",
    "      \"domain\": [\"Export\", \"Import\"],\n",
    "      \"range\": [\"orange\", \"green\"]\n",
    "    }\n",
    "  ],\n",
    "  \"axes\": [\n",
    "    {\n",
    "      \"orient\": \"bottom\",\n",
    "      \"scale\": \"datescale\",\n",
    "      \"domain\": true,\n",
    "      \"labelFlush\": true,\n",
    "      \"labelOverlap\": true,\n",
    "      \"labelBaseline\": \"middle\",\n",
    "      \"ticks\": true,\n",
    "      \"grid\": false,\n",
    "      \"labelFontSize\": 10,\n",
    "      \"labelFont\": \"Arial\",\n",
    "      \"labelPadding\": 7\n",
    "    },\n",
    "    {\n",
    "      \"orient\": \"left\",\n",
    "      \"scale\": \"yscale\",\n",
    "      \"domain\": true,\n",
    "      \"labelBaseline\": \"middle\",\n",
    "      \"labelAlign\": \"right\",\n",
    "      \"labelPadding\": 5,\n",
    "      \"grid\": true,\n",
    "      \"gridOpacity\": 0.2,\n",
    "      \"labelFontSize\": 10,\n",
    "      \"labelFont\": \"Arial\",\n",
    "      \"title\": \"Marine food (thousands of tonnes)\"\n",
    "    }\n",
    "  ],\n",
    "  \"marks\": [\n",
    "    {\n",
    "      \"type\": \"area\",\n",
    "      \"from\": {\n",
    "        \"data\": \"reshaped\"\n",
    "      },\n",
    "      \"encode\": {\n",
    "        \"enter\": {\n",
    "          \"x\": {\"scale\": \"datescale\", \"field\": \"date\"},\n",
    "          \"y\": {\"scale\": \"yscale\", \"field\": \"production\"},\n",
    "          \"y2\": {\"scale\": \"yscale\", \"value\": 0},\n",
    "          \"fill\": {\"value\": \"steelblue\"},\n",
    "          \"tooltip\": {\n",
    "            \"signal\": \"{'Year':utcyear(datum.date), 'Production':format(datum.production*1000,',')+' tonnes', 'Export':format(datum.export*1000,',')+' tonnes', 'Import':format(datum.import*1000,',')+' tonnes'}\"\n",
    "          }\n",
    "        },\n",
    "        \"update\": {\n",
    "          \"fillOpacity\": {\"value\": 1}\n",
    "        },\n",
    "        \"hover\": {\n",
    "          \"fillOpacity\": {\"value\": 0.5}\n",
    "        }\n",
    "      }\n",
    "    },\n",
    "    {\n",
    "      \"type\": \"line\",\n",
    "      \"from\": {\"data\": \"reshaped\"},\n",
    "      \"encode\": {\n",
    "        \"enter\": {\n",
    "          \"x\": {\"scale\": \"datescale\", \"field\": \"date\"},\n",
    "          \"y\": {\"scale\": \"yscale\", \"field\": \"export\"},\n",
    "          \"stroke\": {\"value\": \"orange\"},\n",
    "          \"strokeWidth\": {\"value\": 2},\n",
    "          \"interpolate\": {\"value\": \"monotone\"}\n",
    "        },\n",
    "        \"update\": {\n",
    "          \"strokeOpacity\": {\"value\": 1}\n",
    "        },\n",
    "        \"hover\": {\n",
    "          \"strokeOpacity\": {\"value\": 0.5}\n",
    "        }\n",
    "      }\n",
    "    },\n",
    "    {\n",
    "      \"type\": \"line\",\n",
    "      \"from\": {\"data\": \"reshaped\"},\n",
    "      \"encode\": {\n",
    "        \"enter\": {\n",
    "          \"x\": {\"scale\": \"datescale\", \"field\": \"date\"},\n",
    "          \"y\": {\"scale\": \"yscale\", \"field\": \"import\"},\n",
    "          \"stroke\": {\"value\": \"green\"},\n",
    "          \"strokeWidth\": {\"value\": 2},\n",
    "          \"interpolate\": {\"value\": \"monotone\"}\n",
    "        },\n",
    "        \"update\": {\n",
    "          \"strokeOpacity\": {\"value\": 1}\n",
    "        },\n",
    "        \"hover\": {\n",
    "          \"strokeOpacity\": {\"value\": 0.5}\n",
    "        }\n",
    "      }\n",
    "    }\n",
    "  ],\n",
    "  \"legends\": [\n",
    "    {\n",
    "      \"type\": \"symbol\",\n",
    "      \"orient\": \"right\",\n",
    "      \"fill\": \"areascale\"\n",
    "    },\n",
    "    {\n",
    "      \"type\": \"symbol\",\n",
    "      \"orient\": \"right\",\n",
    "      \"symbol\": \"stroke\",\n",
    "      \"stroke\": \"linescale\",\n",
    "      \"encode\": {\n",
    "        \"symbols\": {\n",
    "          \"update\": {\n",
    "            \"size\": {\"value\": 80},\n",
    "            \"shape\": {\"value\": \"stroke\"}\n",
    "          }\n",
    "        }\n",
    "      }\n",
    "    }\n",
    "  ]\n",
    "}\n",
    "\"\"\")\n",
    "vega_view=dict(spec)\n",
    "vega_view['width']=widget_width\n",
    "vega_view['height']=widget_height\n",
    "Vega(vega_view)"
   ]
  },
  {
   "cell_type": "markdown",
   "id": "0bb886f3",
   "metadata": {},
   "source": [
    "# RW API"
   ]
  },
  {
   "cell_type": "markdown",
   "id": "3f056557",
   "metadata": {},
   "source": [
    "Parameterized widgets created via [widget scripts](https://github.com/resource-watch/data-team-tools/tree/master/advanced_widget_writer).  "
   ]
  },
  {
   "cell_type": "markdown",
   "id": "d71771b4",
   "metadata": {},
   "source": [
    "[foo.061.rw0 Food from the Sea](https://resourcewatch.org/data/explore/foo061rw0-Blue-Food-Supply) ([Admin](https://resourcewatch.org/admin/data/datasets/9e1b3cad-db6f-44b0-b6fb-048df7b6c680/edit))  \n",
    "`9e1b3cad-db6f-44b0-b6fb-048df7b6c680`  \n",
    "[Dataset](https://api.resourcewatch.org/v1/dataset/9e1b3cad-db6f-44b0-b6fb-048df7b6c680/), [Widgets](https://api.resourcewatch.org/v1/dataset/9e1b3cad-db6f-44b0-b6fb-048df7b6c680/widget)"
   ]
  },
  {
   "cell_type": "code",
   "execution_count": 5,
   "id": "0ad985ad",
   "metadata": {},
   "outputs": [],
   "source": [
    "dataset_id = '9e1b3cad-db6f-44b0-b6fb-048df7b6c680'\n",
    "name = 'Production, Export, and Import of Marine Food'\n",
    "description = 'Time series volumes (by weight) of production, export, and import of food originating in the sea, by country'"
   ]
  },
  {
   "cell_type": "markdown",
   "id": "e810d1ca",
   "metadata": {},
   "source": [
    "- [Country](https://api.resourcewatch.org/v1/widget/a9c33b55-494c-4984-8bfd-0f5b008dcf24?env=production) `a9c33b55-494c-4984-8bfd-0f5b008dcf24`  "
   ]
  }
 ],
 "metadata": {
  "kernelspec": {
   "display_name": "rw",
   "language": "python",
   "name": "rw"
  },
  "language_info": {
   "codemirror_mode": {
    "name": "ipython",
    "version": 3
   },
   "file_extension": ".py",
   "mimetype": "text/x-python",
   "name": "python",
   "nbconvert_exporter": "python",
   "pygments_lexer": "ipython3",
   "version": "3.7.10"
  }
 },
 "nbformat": 4,
 "nbformat_minor": 5
}
