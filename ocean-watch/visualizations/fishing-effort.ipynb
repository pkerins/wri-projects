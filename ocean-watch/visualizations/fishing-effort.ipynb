{
 "cells": [
  {
   "cell_type": "markdown",
   "metadata": {},
   "source": [
    "# Fishing Effort\n",
    "Total fishing effort within 'national waters' by year. Most figures represent activity within exclusive economic zones; figures were also calculated for joint regimes and disputed areas, which are both held separate from single-sovereign waters.\n",
    "\n",
    "Note that this is a parameterized widget; the specification passed to the API will not be renderable without the geostore identifier being inserted.  \n",
    "\n",
    "_Author: Peter Kerins_  \n",
    "_Created: 28 Sep 2021_  \n",
    "_Environment: jupyterlab_  "
   ]
  },
  {
   "cell_type": "markdown",
   "metadata": {},
   "source": [
    "## Style\n",
    "- Vega chart\n",
    "- Ocean Watch country page - parameterized chart\n",
    "- Time series\n",
    "- Line chart"
   ]
  },
  {
   "cell_type": "markdown",
   "metadata": {},
   "source": [
    "## Data\n",
    "Underlying dataset: com.030d Fishing Effort by Zone  \n",
    "~Widget data: [ow_widget_territory](https://resourcewatch.carto.com/u/wri-rw/dataset/ow_widget_territory) (master table for all territory-based widgets on Ocean Watch)~  "
   ]
  },
  {
   "cell_type": "markdown",
   "metadata": {},
   "source": [
    "## Preparation"
   ]
  },
  {
   "cell_type": "code",
   "execution_count": 2,
   "metadata": {},
   "outputs": [],
   "source": [
    "import json\n",
    "from vega import Vega\n",
    "from IPython.display import display"
   ]
  },
  {
   "cell_type": "code",
   "execution_count": 3,
   "metadata": {},
   "outputs": [],
   "source": [
    "def Vega(spec):\n",
    "    bundle = {}\n",
    "    bundle['application/vnd.vega.v5+json'] = spec\n",
    "    display(bundle, raw=True)"
   ]
  },
  {
   "cell_type": "code",
   "execution_count": 4,
   "metadata": {
    "tags": []
   },
   "outputs": [],
   "source": [
    "widget_width = 400\n",
    "widget_height = 300"
   ]
  },
  {
   "cell_type": "markdown",
   "metadata": {},
   "source": [
    "# Country Widget\n",
    "For the moment, we will ignore all areas besides uncontested exclusive economic zones"
   ]
  },
  {
   "cell_type": "markdown",
   "metadata": {},
   "source": [
    "## Demo Query\n",
    "`geostore_prod` identifier corresponds to Angola\n",
    "```sql\n",
    "SELECT mrgid, geoname, pol_type, gadm.gid_0, year, value FROM (\n",
    "  SELECT *,\n",
    "    CASE WHEN iso_ter1 IS NULL THEN iso_sov1 ELSE iso_ter1 END AS gid_0\n",
    "  FROM com_030d_fishing_effort_by_zone) AS data\n",
    "LEFT OUTER JOIN gadm36_0 AS gadm ON data.gid_0 = gadm.gid_0\n",
    "WHERE pol_type = '200NM'\n",
    "AND year <= 2020\n",
    "AND gadm.geostore_prod='c0e30c8d35f81d8d19e2c0f5dd7e0798'\n",
    "ORDER BY data.year ASC\n",
    "```"
   ]
  },
  {
   "cell_type": "markdown",
   "metadata": {},
   "source": [
    "## Parameterized Query\n",
    "```sql\n",
    "SELECT pol_type, gadm.gid_0, year, SUM(value::NUMERIC) AS value FROM (\n",
    "  SELECT *,\n",
    "    CASE WHEN iso_ter1 IS NULL THEN iso_sov1 ELSE iso_ter1 END AS gid_0\n",
    "  FROM com_030d_fishing_effort_by_zone) AS data\n",
    "LEFT OUTER JOIN gadm36_0 AS gadm ON data.gid_0 = gadm.gid_0\n",
    "WHERE pol_type = '200NM'\n",
    "AND year <= 2020\n",
    "AND gadm.{{geostore_env}}='{{geostore_id}}'\n",
    "GROUP BY pol_type, gadm.gid_0, year\n",
    "ORDER BY data.year ASC\n",
    "```"
   ]
  },
  {
   "cell_type": "markdown",
   "metadata": {},
   "source": [
    "## Specification\n",
    "Vega code presumes RW-style `config` element present"
   ]
  },
  {
   "cell_type": "code",
   "execution_count": 5,
   "metadata": {},
   "outputs": [
    {
     "data": {
      "application/vnd.vega.v5+json": {
       "autosize": {
        "contains": "padding",
        "type": "fit"
       },
       "axes": [
        {
         "domain": true,
         "grid": false,
         "labelBaseline": "middle",
         "labelFlush": true,
         "labelOverlap": true,
         "labelPadding": 7,
         "orient": "bottom",
         "scale": "datescale",
         "ticks": true,
         "titleFont": "Lato"
        },
        {
         "domain": true,
         "format": "s",
         "grid": false,
         "gridOpacity": 0.2,
         "labelAlign": "right",
         "labelBaseline": "middle",
         "labelPadding": 5,
         "orient": "left",
         "scale": "yscale_left",
         "title": "Annual fishing effort (hours)"
        },
        {
         "domain": true,
         "format": "s",
         "grid": true,
         "gridOpacity": 0.2,
         "labelAlign": "left",
         "labelBaseline": "middle",
         "labelPadding": 5,
         "orient": "right",
         "scale": "yscale_right",
         "title": "Annual capture production (tons)"
        }
       ],
       "data": [
        {
         "format": {
          "parse": {
           "year": "utc:'%Y'"
          },
          "property": "rows",
          "type": "json"
         },
         "name": "effort_table",
         "transform": [],
         "url": "https://wri-rw.carto.com/api/v2/sql?q=SELECT pol_type, gadm.gid_0, year, SUM(value::NUMERIC) AS effort FROM (SELECT *, CASE WHEN iso_ter1 IS NULL THEN iso_sov1 ELSE iso_ter1 END AS gid_0 FROM com_030d_fishing_effort_by_zone) AS data LEFT OUTER JOIN gadm36_0 AS gadm ON data.gid_0 = gadm.gid_0 WHERE pol_type = '200NM' AND year <= 2020 AND gadm.gid_0='BRA' GROUP BY pol_type, gadm.gid_0, year ORDER BY data.year ASC"
        },
        {
         "format": {
          "parse": {
           "year": "utc:'%Y'"
          },
          "property": "rows",
          "type": "json"
         },
         "name": "capture_table",
         "transform": [
          {
           "expr": "datum.year >= date_min",
           "type": "filter"
          }
         ],
         "url": "https://wri-rw.carto.com/api/v2/sql?q=SELECT gid_0, year, SUM(value) AS capture FROM foo_062_rw0_fishery_production_edit INNER JOIN gadm36_0 gadm on gadm.gid_0 = iso3_code WHERE type = 'Capture_quantity' AND measure = 'Q_tlw' AND gid_0 = 'BRA' GROUP BY gid_0, year ORDER BY year ASC"
        }
       ],
       "description": "Fishing effort per year, by zone",
       "height": 300,
       "interaction_config": [
        {
         "config": {
          "fields": [
           {
            "column": "year",
            "format": "%Y",
            "property": "Year",
            "type": "date"
           },
           {
            "column": "effort",
            "format": ",.0f",
            "property": "Fishing effort (hours)",
            "type": "number"
           },
           {
            "column": "capture",
            "format": ",.0f",
            "property": "Capture production (tons)",
            "type": "number"
           }
          ]
         },
         "name": "tooltip"
        }
       ],
       "legends": [
        {
         "direction": "horizontal",
         "fill": "colors",
         "labelFont": "Lato",
         "orient": "bottom",
         "symbolOpacity": 0.7,
         "titleFont": "Lato"
        }
       ],
       "marks": [
        {
         "encode": {
          "enter": {
           "clip": {
            "value": true
           },
           "interpolate": {
            "value": "linear"
           },
           "stroke": {
            "value": "#FF794E"
           },
           "strokeWidth": {
            "value": 2.5
           },
           "x": {
            "field": "year",
            "scale": "datescale"
           },
           "y": {
            "field": "effort",
            "scale": "yscale_left"
           }
          },
          "hover": {
           "strokeOpacity": {
            "value": 0.5
           }
          },
          "update": {
           "strokeOpacity": {
            "value": 1
           }
          }
         },
         "from": {
          "data": "effort_table"
         },
         "interactive": false,
         "name": "effort",
         "type": "line"
        },
        {
         "encode": {
          "enter": {
           "clip": {
            "value": true
           },
           "fillOpacity": {
            "value": 1
           },
           "shape": {
            "value": "circle"
           },
           "size": {
            "signal": "(width*height)/1000"
           },
           "stroke": {
            "value": "white"
           },
           "strokeOpacity": {
            "value": 1
           },
           "strokeWidth": {
            "value": 2
           },
           "x": {
            "field": "year",
            "scale": "datescale"
           },
           "y": {
            "field": "effort",
            "scale": "yscale_left"
           }
          },
          "hover": {
           "fill": {
            "value": "#666666"
           }
          },
          "update": {
           "fill": {
            "value": "#FF794E"
           }
          }
         },
         "from": {
          "data": "effort_table"
         },
         "name": "effort_points",
         "type": "symbol"
        },
        {
         "encode": {
          "enter": {
           "clip": {
            "value": true
           },
           "interpolate": {
            "value": "linear"
           },
           "stroke": {
            "value": "#74D723"
           },
           "strokeWidth": {
            "value": 2.5
           },
           "x": {
            "field": "year",
            "scale": "datescale"
           },
           "y": {
            "field": "capture",
            "scale": "yscale_right"
           }
          },
          "hover": {
           "strokeOpacity": {
            "value": 0.5
           }
          },
          "update": {
           "strokeOpacity": {
            "value": 1
           }
          }
         },
         "from": {
          "data": "capture_table"
         },
         "interactive": false,
         "name": "capture",
         "type": "line"
        },
        {
         "encode": {
          "enter": {
           "clip": {
            "value": true
           },
           "fillOpacity": {
            "value": 1
           },
           "shape": {
            "value": "circle"
           },
           "size": {
            "signal": "(width*height)/1000"
           },
           "stroke": {
            "value": "white"
           },
           "strokeOpacity": {
            "value": 1
           },
           "strokeWidth": {
            "value": 2
           },
           "x": {
            "field": "year",
            "scale": "datescale"
           },
           "y": {
            "field": "capture",
            "scale": "yscale_right"
           }
          },
          "hover": {
           "fill": {
            "value": "#666666"
           }
          },
          "update": {
           "fill": {
            "value": "#74D723"
           }
          }
         },
         "from": {
          "data": "capture_table"
         },
         "type": "symbol"
        }
       ],
       "padding": 0,
       "scales": [
        {
         "domain": {
          "fields": [
           {
            "data": "effort_table",
            "field": "year"
           },
           {
            "data": "capture_table",
            "field": "year"
           }
          ]
         },
         "name": "datescale",
         "range": "width",
         "type": "time"
        },
        {
         "domain": {
          "data": "effort_table",
          "fields": [
           "effort"
          ]
         },
         "name": "yscale_left",
         "padding": 0.1,
         "range": "height",
         "type": "linear"
        },
        {
         "domain": {
          "data": "capture_table",
          "fields": [
           "capture"
          ]
         },
         "name": "yscale_right",
         "padding": 0.1,
         "range": "height",
         "type": "linear"
        },
        {
         "domain": [
          "Fishing effort",
          "Capture production"
         ],
         "name": "colors",
         "range": [
          "#FF794E",
          "#74D723"
         ],
         "type": "ordinal"
        }
       ],
       "schema": "https://vega.github.io/schema/vega/v5.json",
       "signals": [
        {
         "name": "date_min",
         "update": "data('effort_table')[0]['year']"
        }
       ],
       "width": 400
      },
      "image/png": "[encoded data removed]"
     },
     "metadata": {},
     "output_type": "display_data"
    }
   ],
   "source": [
    "spec=json.loads(\"\"\"\n",
    "{\n",
    "  \"schema\": \"https://vega.github.io/schema/vega/v5.json\",\n",
    "  \"description\": \"Fishing effort per year, by zone\",\n",
    "  \"width\": 400,\n",
    "  \"height\": 250,\n",
    "  \"padding\": 0,\n",
    "  \"autosize\": {\"type\": \"fit\", \"contains\": \"padding\"},\n",
    "  \"signals\": [{\"name\": \"date_min\", \"update\": \"data('effort_table')[0]['year']\"}],\n",
    "  \"data\": [\n",
    "    {\n",
    "      \"name\": \"effort_table\",\n",
    "      \"url\": \"https://wri-rw.carto.com/api/v2/sql?q=SELECT pol_type, gadm.gid_0, year, SUM(value::NUMERIC) AS effort FROM (SELECT *, CASE WHEN iso_ter1 IS NULL THEN iso_sov1 ELSE iso_ter1 END AS gid_0 FROM com_030d_fishing_effort_by_zone) AS data LEFT OUTER JOIN gadm36_0 AS gadm ON data.gid_0 = gadm.gid_0 WHERE pol_type = '200NM' AND year <= 2020 AND gadm.gid_0='BRA' GROUP BY pol_type, gadm.gid_0, year ORDER BY data.year ASC\",\n",
    "      \"format\": {\n",
    "        \"type\": \"json\",\n",
    "        \"property\": \"rows\",\n",
    "        \"parse\": {\"year\": \"utc:'%Y'\"}\n",
    "      },\n",
    "      \"transform\": []\n",
    "    },\n",
    "    {\n",
    "      \"name\": \"capture_table\",\n",
    "      \"url\": \"https://wri-rw.carto.com/api/v2/sql?q=SELECT gid_0, year, SUM(value) AS capture FROM foo_062_rw0_fishery_production_edit INNER JOIN gadm36_0 gadm on gadm.gid_0 = iso3_code WHERE type = 'Capture_quantity' AND measure = 'Q_tlw' AND gid_0 = 'BRA' GROUP BY gid_0, year ORDER BY year ASC\",\n",
    "      \"format\": {\n",
    "        \"type\": \"json\",\n",
    "        \"property\": \"rows\",\n",
    "        \"parse\": {\"year\": \"utc:'%Y'\"}\n",
    "      },\n",
    "      \"transform\": [{\"type\": \"filter\", \"expr\": \"datum.year >= date_min\"}]\n",
    "    }\n",
    "  ],\n",
    "  \"scales\": [\n",
    "    {\n",
    "      \"name\": \"datescale\",\n",
    "      \"type\": \"time\",\n",
    "      \"domain\": {\n",
    "        \"fields\": [\n",
    "          {\"data\": \"effort_table\", \"field\": \"year\"},\n",
    "          {\"data\": \"capture_table\", \"field\": \"year\"}\n",
    "        ]\n",
    "      },\n",
    "      \"range\": \"width\"\n",
    "    },\n",
    "    {\n",
    "      \"name\": \"yscale_left\",\n",
    "      \"type\": \"linear\",\n",
    "      \"domain\": {\"data\": \"effort_table\", \"fields\": [\"effort\"]},\n",
    "      \"range\": \"height\",\n",
    "      \"padding\": 0.1\n",
    "    },\n",
    "    {\n",
    "      \"name\": \"yscale_right\",\n",
    "      \"type\": \"linear\",\n",
    "      \"domain\": {\"data\": \"capture_table\", \"fields\": [\"capture\"]},\n",
    "      \"range\": \"height\",\n",
    "      \"padding\": 0.1\n",
    "    },\n",
    "    {\n",
    "      \"name\": \"colors\",\n",
    "      \"type\": \"ordinal\",\n",
    "      \"domain\": [\"Fishing effort\", \"Capture production\"],\n",
    "      \"range\": [\"#E9573F\", \"#8CC152\"]\n",
    "    }\n",
    "  ],\n",
    "  \"axes\": [\n",
    "    {\n",
    "      \"orient\": \"bottom\",\n",
    "      \"scale\": \"datescale\",\n",
    "      \"domain\": true,\n",
    "      \"labelFlush\": true,\n",
    "      \"labelOverlap\": true,\n",
    "      \"labelBaseline\": \"middle\",\n",
    "      \"ticks\": true,\n",
    "      \"grid\": false,\n",
    "      \"titleFont\": \"Lato\",\n",
    "      \"labelPadding\": 7\n",
    "    },\n",
    "    {\n",
    "      \"orient\": \"left\",\n",
    "      \"scale\": \"yscale_left\",\n",
    "      \"domain\": true,\n",
    "      \"labelBaseline\": \"middle\",\n",
    "      \"labelAlign\": \"right\",\n",
    "      \"labelPadding\": 5,\n",
    "      \"grid\": false,\n",
    "      \"gridOpacity\": 0.2,\n",
    "      \"format\": \"s\",\n",
    "      \"title\": \"Annual fishing effort (hours)\"\n",
    "    },\n",
    "    {\n",
    "      \"orient\": \"right\",\n",
    "      \"scale\": \"yscale_right\",\n",
    "      \"domain\": true,\n",
    "      \"labelBaseline\": \"middle\",\n",
    "      \"labelAlign\": \"left\",\n",
    "      \"labelPadding\": 5,\n",
    "      \"grid\": true,\n",
    "      \"gridOpacity\": 0.2,\n",
    "      \"format\": \"s\",\n",
    "      \"title\": \"Annual capture production (tons)\"\n",
    "    }\n",
    "  ],\n",
    "  \"marks\": [\n",
    "    {\n",
    "      \"name\": \"effort\",\n",
    "      \"type\": \"line\",\n",
    "      \"from\": {\"data\": \"effort_table\"},\n",
    "      \"interactive\": false,\n",
    "      \"encode\": {\n",
    "        \"enter\": {\n",
    "          \"x\": {\"scale\": \"datescale\", \"field\": \"year\"},\n",
    "          \"y\": {\"scale\": \"yscale_left\", \"field\": \"effort\"},\n",
    "          \"stroke\": {\"value\": \"#E9573F\"},\n",
    "          \"strokeWidth\": {\"value\": 2.5},\n",
    "          \"clip\": {\"value\": true},\n",
    "          \"interpolate\": {\"value\": \"linear\"}\n",
    "        },\n",
    "        \"update\": {\"strokeOpacity\": {\"value\": 1}},\n",
    "        \"hover\": {\"strokeOpacity\": {\"value\": 0.5}}\n",
    "      }\n",
    "    },\n",
    "    {\n",
    "      \"name\": \"effort_points\",\n",
    "      \"type\": \"symbol\",\n",
    "      \"from\": {\"data\": \"effort_table\"},\n",
    "      \"encode\": {\n",
    "        \"enter\": {\n",
    "          \"x\": {\"scale\": \"datescale\", \"field\": \"year\"},\n",
    "          \"y\": {\"scale\": \"yscale_left\", \"field\": \"effort\"},\n",
    "          \"size\": {\"signal\": \"(width*height)/1000\"},\n",
    "          \"stroke\": {\"value\": \"white\"},\n",
    "          \"strokeOpacity\": {\"value\": 1},\n",
    "          \"fillOpacity\": {\"value\": 1},\n",
    "          \"strokeWidth\": {\"value\": 2},\n",
    "          \"clip\": {\"value\": true},\n",
    "          \"shape\": {\"value\": \"circle\"}\n",
    "        },\n",
    "        \"update\": {\"fill\": {\"value\": \"#E9573F\"}},\n",
    "        \"hover\": {\"fill\": {\"value\": \"#666666\"}}\n",
    "      }\n",
    "    },\n",
    "    {\n",
    "      \"name\": \"capture\",\n",
    "      \"type\": \"line\",\n",
    "      \"from\": {\"data\": \"capture_table\"},\n",
    "      \"interactive\": false,\n",
    "      \"encode\": {\n",
    "        \"enter\": {\n",
    "          \"x\": {\"scale\": \"datescale\", \"field\": \"year\"},\n",
    "          \"y\": {\"scale\": \"yscale_right\", \"field\": \"capture\"},\n",
    "          \"stroke\": {\"value\": \"#8CC152\"},\n",
    "          \"strokeWidth\": {\"value\": 2.5},\n",
    "          \"clip\": {\"value\": true},\n",
    "          \"interpolate\": {\"value\": \"linear\"}\n",
    "        },\n",
    "        \"update\": {\"strokeOpacity\": {\"value\": 1}},\n",
    "        \"hover\": {\"strokeOpacity\": {\"value\": 0.5}}\n",
    "      }\n",
    "    },\n",
    "    {\n",
    "      \"type\": \"symbol\",\n",
    "      \"from\": {\"data\": \"capture_table\"},\n",
    "      \"encode\": {\n",
    "        \"enter\": {\n",
    "          \"x\": {\"scale\": \"datescale\", \"field\": \"year\"},\n",
    "          \"y\": {\"scale\": \"yscale_right\", \"field\": \"capture\"},\n",
    "          \"size\": {\"signal\": \"(width*height)/1000\"},\n",
    "          \"stroke\": {\"value\": \"white\"},\n",
    "          \"strokeOpacity\": {\"value\": 1},\n",
    "          \"fillOpacity\": {\"value\": 1},\n",
    "          \"strokeWidth\": {\"value\": 2},\n",
    "          \"clip\": {\"value\": true},\n",
    "          \"shape\": {\"value\": \"circle\"}\n",
    "        },\n",
    "        \"update\": {\"fill\": {\"value\": \"#8CC152\"}},\n",
    "        \"hover\": {\"fill\": {\"value\": \"#666666\"}}\n",
    "      }\n",
    "    }\n",
    "  ],\n",
    "  \"legends\": [\n",
    "    {\n",
    "      \"titleFont\": \"Lato\",\n",
    "      \"labelFont\": \"Lato\",\n",
    "      \"fill\": \"colors\",\n",
    "      \"symbolOpacity\": 0.7,\n",
    "      \"direction\": \"horizontal\",\n",
    "      \"orient\": \"bottom\"\n",
    "    }\n",
    "  ],\n",
    "  \"interaction_config\": [\n",
    "    {\n",
    "      \"name\": \"tooltip\",\n",
    "      \"config\": {\n",
    "        \"fields\": [\n",
    "        {\n",
    "            \"column\": \"year\",\n",
    "            \"property\": \"Year\",\n",
    "            \"type\": \"date\",\n",
    "            \"format\": \"%Y\"\n",
    "          },\n",
    "          {\n",
    "            \"column\": \"effort\",\n",
    "            \"property\": \"Fishing effort (hours)\",\n",
    "            \"type\": \"number\",\n",
    "            \"format\": \",.0f\"\n",
    "          },\n",
    "          {\n",
    "            \"column\": \"capture\",\n",
    "            \"property\": \"Capture production (tons)\",\n",
    "            \"type\": \"number\",\n",
    "            \"format\": \",.0f\"\n",
    "          }\n",
    "        ]\n",
    "      }\n",
    "    }\n",
    "  ]\n",
    "}\n",
    "\"\"\")\n",
    "vega_view=dict(spec)\n",
    "vega_view['width']=widget_width\n",
    "vega_view['height']=widget_height\n",
    "Vega(vega_view)"
   ]
  },
  {
   "cell_type": "markdown",
   "metadata": {},
   "source": [
    "# Global Widget"
   ]
  },
  {
   "cell_type": "markdown",
   "metadata": {},
   "source": [
    "## Queries\n",
    "Includes all zones (with collected data), but not international waters\n",
    "```sql\n",
    "SELECT year, SUM(value::NUMERIC) AS total_value \n",
    "FROM com_030d_fishing_effort_by_zone AS data\n",
    "WHERE year <= 2020\n",
    "GROUP BY year\n",
    "ORDER BY year ASC\n",
    "```"
   ]
  },
  {
   "cell_type": "markdown",
   "metadata": {},
   "source": [
    "## Specification\n",
    "Vega code presumes RW-style `config` element present"
   ]
  },
  {
   "cell_type": "code",
   "execution_count": 6,
   "metadata": {},
   "outputs": [
    {
     "data": {
      "application/vnd.vega.v5+json": {
       "autosize": {
        "contains": "padding",
        "type": "fit"
       },
       "axes": [
        {
         "domain": true,
         "grid": false,
         "labelBaseline": "middle",
         "labelFlush": true,
         "labelOverlap": true,
         "labelPadding": 7,
         "orient": "bottom",
         "scale": "datescale",
         "ticks": true,
         "titleFont": "Lato"
        },
        {
         "domain": true,
         "format": "s",
         "grid": false,
         "gridOpacity": 0.2,
         "labelAlign": "right",
         "labelBaseline": "middle",
         "labelPadding": 5,
         "orient": "left",
         "scale": "yscale_left",
         "title": "Annual fishing effort (hours)"
        },
        {
         "domain": true,
         "format": "s",
         "grid": true,
         "gridOpacity": 0.2,
         "labelAlign": "left",
         "labelBaseline": "middle",
         "labelPadding": 5,
         "orient": "right",
         "scale": "yscale_right",
         "title": "Annual capture production (tons)"
        }
       ],
       "data": [
        {
         "format": {
          "parse": {
           "year": "utc:'%Y'"
          },
          "property": "rows",
          "type": "json"
         },
         "name": "effort_table",
         "transform": [],
         "url": "https://wri-rw.carto.com/api/v2/sql?q=SELECT year, SUM(value::NUMERIC) AS effort FROM com_030d_fishing_effort_by_zone AS data WHERE year <= 2020 GROUP BY year ORDER BY year ASC"
        },
        {
         "format": {
          "parse": {
           "year": "utc:'%Y'"
          },
          "property": "rows",
          "type": "json"
         },
         "name": "capture_table",
         "transform": [
          {
           "expr": "datum.year >= date_min",
           "type": "filter"
          }
         ],
         "url": "https://wri-rw.carto.com/api/v2/sql?q=SELECT year, SUM(value) AS capture FROM foo_062_rw0_fishery_production_edit INNER JOIN gadm36_0 gadm on gadm.gid_0 = iso3_code WHERE type = 'Capture_quantity' AND measure = 'Q_tlw' GROUP BY year ORDER BY year ASC"
        }
       ],
       "description": "Fishing effort per year, by zone",
       "height": 300,
       "interaction_config": [
        {
         "config": {
          "fields": [
           {
            "column": "year",
            "format": "%Y",
            "property": "Year",
            "type": "date"
           },
           {
            "column": "effort",
            "format": ",.0f",
            "property": "Fishing effort (hours)",
            "type": "number"
           },
           {
            "column": "capture",
            "format": ",.0f",
            "property": "Capture production (tons)",
            "type": "number"
           }
          ]
         },
         "name": "tooltip"
        }
       ],
       "legends": [
        {
         "direction": "horizontal",
         "fill": "colors",
         "labelFont": "Lato",
         "orient": "bottom",
         "symbolOpacity": 0.7,
         "titleFont": "Lato"
        }
       ],
       "marks": [
        {
         "encode": {
          "enter": {
           "clip": {
            "value": true
           },
           "interpolate": {
            "value": "linear"
           },
           "stroke": {
            "value": "#E9573F"
           },
           "strokeWidth": {
            "value": 2.5
           },
           "x": {
            "field": "year",
            "scale": "datescale"
           },
           "y": {
            "field": "effort",
            "scale": "yscale_left"
           }
          },
          "hover": {
           "strokeOpacity": {
            "value": 0.5
           }
          },
          "update": {
           "strokeOpacity": {
            "value": 1
           }
          }
         },
         "from": {
          "data": "effort_table"
         },
         "interactive": false,
         "name": "effort",
         "type": "line"
        },
        {
         "encode": {
          "enter": {
           "clip": {
            "value": true
           },
           "fillOpacity": {
            "value": 1
           },
           "shape": {
            "value": "circle"
           },
           "size": {
            "signal": "(width*height)/1000"
           },
           "stroke": {
            "value": "white"
           },
           "strokeOpacity": {
            "value": 1
           },
           "strokeWidth": {
            "value": 2
           },
           "x": {
            "field": "year",
            "scale": "datescale"
           },
           "y": {
            "field": "effort",
            "scale": "yscale_left"
           }
          },
          "hover": {
           "fill": {
            "value": "#666666"
           }
          },
          "update": {
           "fill": {
            "value": "#E9573F"
           }
          }
         },
         "from": {
          "data": "effort_table"
         },
         "name": "effort_points",
         "type": "symbol"
        },
        {
         "encode": {
          "enter": {
           "clip": {
            "value": true
           },
           "interpolate": {
            "value": "linear"
           },
           "stroke": {
            "value": "#8CC152"
           },
           "strokeWidth": {
            "value": 2.5
           },
           "x": {
            "field": "year",
            "scale": "datescale"
           },
           "y": {
            "field": "capture",
            "scale": "yscale_right"
           }
          },
          "hover": {
           "strokeOpacity": {
            "value": 0.5
           }
          },
          "update": {
           "strokeOpacity": {
            "value": 1
           }
          }
         },
         "from": {
          "data": "capture_table"
         },
         "interactive": false,
         "name": "capture",
         "type": "line"
        },
        {
         "encode": {
          "enter": {
           "clip": {
            "value": true
           },
           "fillOpacity": {
            "value": 1
           },
           "shape": {
            "value": "circle"
           },
           "size": {
            "signal": "(width*height)/1000"
           },
           "stroke": {
            "value": "white"
           },
           "strokeOpacity": {
            "value": 1
           },
           "strokeWidth": {
            "value": 2
           },
           "x": {
            "field": "year",
            "scale": "datescale"
           },
           "y": {
            "field": "capture",
            "scale": "yscale_right"
           }
          },
          "hover": {
           "fill": {
            "value": "#666666"
           }
          },
          "update": {
           "fill": {
            "value": "#8CC152"
           }
          }
         },
         "from": {
          "data": "capture_table"
         },
         "type": "symbol"
        }
       ],
       "padding": 0,
       "scales": [
        {
         "domain": {
          "fields": [
           {
            "data": "effort_table",
            "field": "year"
           },
           {
            "data": "capture_table",
            "field": "year"
           }
          ]
         },
         "name": "datescale",
         "range": "width",
         "type": "time"
        },
        {
         "domain": {
          "data": "effort_table",
          "fields": [
           "effort"
          ]
         },
         "name": "yscale_left",
         "padding": 0.1,
         "range": "height",
         "type": "linear"
        },
        {
         "domain": {
          "data": "capture_table",
          "fields": [
           "capture"
          ]
         },
         "name": "yscale_right",
         "padding": 0.1,
         "range": "height",
         "type": "linear"
        },
        {
         "domain": [
          "Fishing effort",
          "Capture production"
         ],
         "name": "colors",
         "range": [
          "#E9573F",
          "#8CC152"
         ],
         "type": "ordinal"
        }
       ],
       "schema": "https://vega.github.io/schema/vega/v5.json",
       "signals": [
        {
         "name": "date_min",
         "update": "data('effort_table')[0]['year']"
        }
       ],
       "width": 400
      },
      "image/png": "[encoded data removed]"
     },
     "metadata": {},
     "output_type": "display_data"
    }
   ],
   "source": [
    "spec=json.loads(\"\"\"\n",
    "{\n",
    "  \"schema\": \"https://vega.github.io/schema/vega/v5.json\",\n",
    "  \"description\": \"Fishing effort per year, by zone\",\n",
    "  \"width\": 400,\n",
    "  \"height\": 250,\n",
    "  \"padding\": 0,\n",
    "  \"autosize\": {\"type\": \"fit\", \"contains\": \"padding\"},\n",
    "  \"signals\": [{\"name\": \"date_min\", \"update\": \"data('effort_table')[0]['year']\"}],\n",
    "  \"data\": [\n",
    "    {\n",
    "      \"name\": \"effort_table\",\n",
    "      \"url\": \"https://wri-rw.carto.com/api/v2/sql?q=SELECT year, SUM(value::NUMERIC) AS effort FROM com_030d_fishing_effort_by_zone AS data WHERE year <= 2020 GROUP BY year ORDER BY year ASC\",\n",
    "      \"format\": {\n",
    "        \"type\": \"json\",\n",
    "        \"property\": \"rows\",\n",
    "        \"parse\": {\n",
    "          \"year\": \"utc:'%Y'\"\n",
    "        }\n",
    "      },\n",
    "      \"transform\": []\n",
    "    },\n",
    "    {\n",
    "      \"name\": \"capture_table\",\n",
    "      \"url\": \"https://wri-rw.carto.com/api/v2/sql?q=SELECT year, SUM(value) AS capture FROM foo_062_rw0_fishery_production_edit INNER JOIN gadm36_0 gadm on gadm.gid_0 = iso3_code WHERE type = 'Capture_quantity' AND measure = 'Q_tlw' GROUP BY year ORDER BY year ASC\",\n",
    "      \"format\": {\n",
    "        \"type\": \"json\",\n",
    "        \"property\": \"rows\",\n",
    "        \"parse\": {\"year\": \"utc:'%Y'\"}\n",
    "      },\n",
    "      \"transform\": [{\"type\": \"filter\", \"expr\": \"datum.year >= date_min\"}]\n",
    "    }\n",
    "  ],\n",
    "  \"scales\": [\n",
    "    {\n",
    "      \"name\": \"datescale\",\n",
    "      \"type\": \"time\",\n",
    "      \"domain\": {\n",
    "        \"fields\": [\n",
    "          {\"data\": \"effort_table\", \"field\": \"year\"},\n",
    "          {\"data\": \"capture_table\", \"field\": \"year\"}\n",
    "        ]\n",
    "      },\n",
    "      \"range\": \"width\"\n",
    "    },\n",
    "    {\n",
    "      \"name\": \"yscale_left\",\n",
    "      \"type\": \"linear\",\n",
    "      \"domain\": {\"data\": \"effort_table\", \"fields\": [\"effort\"]},\n",
    "      \"range\": \"height\",\n",
    "      \"padding\": 0.1\n",
    "    },\n",
    "    {\n",
    "      \"name\": \"yscale_right\",\n",
    "      \"type\": \"linear\",\n",
    "      \"domain\": {\"data\": \"capture_table\", \"fields\": [\"capture\"]},\n",
    "      \"range\": \"height\",\n",
    "      \"padding\": 0.1\n",
    "    },\n",
    "    {\n",
    "      \"name\": \"colors\",\n",
    "      \"type\": \"ordinal\",\n",
    "      \"domain\": [\"Fishing effort\", \"Capture production\"],\n",
    "      \"range\": [\"#E9573F\", \"#8CC152\"]\n",
    "    }\n",
    "  ],\n",
    "  \"axes\": [\n",
    "    {\n",
    "      \"orient\": \"bottom\",\n",
    "      \"scale\": \"datescale\",\n",
    "      \"domain\": true,\n",
    "      \"labelFlush\": true,\n",
    "      \"labelOverlap\": true,\n",
    "      \"labelBaseline\": \"middle\",\n",
    "      \"ticks\": true,\n",
    "      \"grid\": false,\n",
    "      \"titleFont\": \"Lato\",\n",
    "      \"labelPadding\": 7\n",
    "    },\n",
    "    {\n",
    "      \"orient\": \"left\",\n",
    "      \"scale\": \"yscale_left\",\n",
    "      \"domain\": true,\n",
    "      \"labelBaseline\": \"middle\",\n",
    "      \"labelAlign\": \"right\",\n",
    "      \"labelPadding\": 5,\n",
    "      \"grid\": false,\n",
    "      \"gridOpacity\": 0.2,\n",
    "      \"format\": \"s\",\n",
    "      \"title\": \"Annual fishing effort (hours)\"\n",
    "    },\n",
    "    {\n",
    "      \"orient\": \"right\",\n",
    "      \"scale\": \"yscale_right\",\n",
    "      \"domain\": true,\n",
    "      \"labelBaseline\": \"middle\",\n",
    "      \"labelAlign\": \"left\",\n",
    "      \"labelPadding\": 5,\n",
    "      \"grid\": true,\n",
    "      \"gridOpacity\": 0.2,\n",
    "      \"format\": \"s\",\n",
    "      \"title\": \"Annual capture production (tons)\"\n",
    "    }\n",
    "  ],\n",
    "  \"marks\": [\n",
    "    {\n",
    "      \"name\": \"effort\",\n",
    "      \"type\": \"line\",\n",
    "      \"from\": {\"data\": \"effort_table\"},\n",
    "      \"interactive\": false,\n",
    "      \"encode\": {\n",
    "        \"enter\": {\n",
    "          \"x\": {\"scale\": \"datescale\", \"field\": \"year\"},\n",
    "          \"y\": {\"scale\": \"yscale_left\", \"field\": \"effort\"},\n",
    "          \"stroke\": {\"value\": \"#E9573F\"},\n",
    "          \"strokeWidth\": {\"value\": 2.5},\n",
    "          \"clip\": {\"value\": true},\n",
    "          \"interpolate\": {\"value\": \"linear\"}\n",
    "        },\n",
    "        \"update\": {\"strokeOpacity\": {\"value\": 1}},\n",
    "        \"hover\": {\"strokeOpacity\": {\"value\": 0.5}}\n",
    "      }\n",
    "    },\n",
    "    {\n",
    "      \"name\": \"effort_points\",\n",
    "      \"type\": \"symbol\",\n",
    "      \"from\": {\"data\": \"effort_table\"},\n",
    "      \"encode\": {\n",
    "        \"enter\": {\n",
    "          \"x\": {\"scale\": \"datescale\", \"field\": \"year\"},\n",
    "          \"y\": {\"scale\": \"yscale_left\", \"field\": \"effort\"},\n",
    "          \"size\": {\"signal\": \"(width*height)/1000\"},\n",
    "          \"stroke\": {\"value\": \"white\"},\n",
    "          \"strokeOpacity\": {\"value\": 1},\n",
    "          \"fillOpacity\": {\"value\": 1},\n",
    "          \"strokeWidth\": {\"value\": 2},\n",
    "          \"clip\": {\"value\": true},\n",
    "          \"shape\": {\"value\": \"circle\"}\n",
    "        },\n",
    "        \"update\": {\"fill\": {\"value\": \"#E9573F\"}},\n",
    "        \"hover\": {\"fill\": {\"value\": \"#666666\"}}\n",
    "      }\n",
    "    },\n",
    "    {\n",
    "      \"name\": \"capture\",\n",
    "      \"type\": \"line\",\n",
    "      \"from\": {\"data\": \"capture_table\"},\n",
    "      \"interactive\": false,\n",
    "      \"encode\": {\n",
    "        \"enter\": {\n",
    "          \"x\": {\"scale\": \"datescale\", \"field\": \"year\"},\n",
    "          \"y\": {\"scale\": \"yscale_right\", \"field\": \"capture\"},\n",
    "          \"stroke\": {\"value\": \"#8CC152\"},\n",
    "          \"strokeWidth\": {\"value\": 2.5},\n",
    "          \"clip\": {\"value\": true},\n",
    "          \"interpolate\": {\"value\": \"linear\"}\n",
    "        },\n",
    "        \"update\": {\"strokeOpacity\": {\"value\": 1}},\n",
    "        \"hover\": {\"strokeOpacity\": {\"value\": 0.5}}\n",
    "      }\n",
    "    },\n",
    "    {\n",
    "      \"type\": \"symbol\",\n",
    "      \"from\": {\"data\": \"capture_table\"},\n",
    "      \"encode\": {\n",
    "        \"enter\": {\n",
    "          \"x\": {\"scale\": \"datescale\", \"field\": \"year\"},\n",
    "          \"y\": {\"scale\": \"yscale_right\", \"field\": \"capture\"},\n",
    "          \"size\": {\"signal\": \"(width*height)/1000\"},\n",
    "          \"stroke\": {\"value\": \"white\"},\n",
    "          \"strokeOpacity\": {\"value\": 1},\n",
    "          \"fillOpacity\": {\"value\": 1},\n",
    "          \"strokeWidth\": {\"value\": 2},\n",
    "          \"clip\": {\"value\": true},\n",
    "          \"shape\": {\"value\": \"circle\"}\n",
    "        },\n",
    "        \"update\": {\"fill\": {\"value\": \"#8CC152\"}},\n",
    "        \"hover\": {\"fill\": {\"value\": \"#666666\"}}\n",
    "      }\n",
    "    }\n",
    "  ],\n",
    "  \"legends\": [\n",
    "    {\n",
    "      \"titleFont\": \"Lato\",\n",
    "      \"labelFont\": \"Lato\",\n",
    "      \"fill\": \"colors\",\n",
    "      \"symbolOpacity\": 0.7,\n",
    "      \"direction\": \"horizontal\",\n",
    "      \"orient\": \"bottom\"\n",
    "    }\n",
    "  ],\n",
    "  \"interaction_config\": [\n",
    "    {\n",
    "      \"name\": \"tooltip\",\n",
    "      \"config\": {\n",
    "        \"fields\": [\n",
    "        {\n",
    "            \"column\": \"year\",\n",
    "            \"property\": \"Year\",\n",
    "            \"type\": \"date\",\n",
    "            \"format\": \"%Y\"\n",
    "          },\n",
    "          {\n",
    "            \"column\": \"effort\",\n",
    "            \"property\": \"Fishing effort (hours)\",\n",
    "            \"type\": \"number\",\n",
    "            \"format\": \",.0f\"\n",
    "          },\n",
    "          {\n",
    "            \"column\": \"capture\",\n",
    "            \"property\": \"Capture production (tons)\",\n",
    "            \"type\": \"number\",\n",
    "            \"format\": \",.0f\"\n",
    "          }\n",
    "        ]\n",
    "      }\n",
    "    }\n",
    "  ]\n",
    "}\n",
    "\"\"\")\n",
    "vega_view=dict(spec)\n",
    "vega_view['width']=widget_width\n",
    "vega_view['height']=widget_height\n",
    "Vega(vega_view)"
   ]
  },
  {
   "cell_type": "markdown",
   "metadata": {},
   "source": [
    "# RW API"
   ]
  },
  {
   "cell_type": "markdown",
   "metadata": {},
   "source": [
    "Parameterized widgets created via [widget scripts](https://github.com/resource-watch/data-team-tools/tree/master/advanced_widget_writer).  "
   ]
  },
  {
   "cell_type": "markdown",
   "metadata": {},
   "source": [
    "[com.030d.rw0 Fishing Effort by Zone](https://resourcewatch.org/data/explore/49b76e0f-3aad-4138-b272-87a10748f2df) ([Admin](https://resourcewatch.org/admin/data/datasets/49b76e0f-3aad-4138-b272-87a10748f2dfedit))  \n",
    "`49b76e0f-3aad-4138-b272-87a10748f2df`  \n",
    "[Dataset](https://api.resourcewatch.org/v1/dataset/49b76e0f-3aad-4138-b272-87a10748f2df/), [Widgets](https://api.resourcewatch.org/v1/dataset/49b76e0f-3aad-4138-b272-87a10748f2df/widget)"
   ]
  },
  {
   "cell_type": "code",
   "execution_count": 7,
   "metadata": {},
   "outputs": [],
   "source": [
    "dataset_id = '49b76e0f-3aad-4138-b272-87a10748f2df'\n",
    "name = 'Annual Fishing Effort'\n",
    "description = 'Fishing effort per year, by zone'"
   ]
  },
  {
   "cell_type": "markdown",
   "metadata": {},
   "source": [
    "- [Country](https://api.resourcewatch.org/v1/widget/6f974b0f-66cf-416b-a5a9-d1012856e4c8?env=production) `6f974b0f-66cf-416b-a5a9-d1012856e4c8`  "
   ]
  },
  {
   "cell_type": "markdown",
   "metadata": {},
   "source": [
    "dataset_id = '49b76e0f-3aad-4138-b272-87a10748f2df'\n",
    "name = 'Annual Fishing Effort Excluding International Waters'\n",
    "description = 'Fishing effort per year, across all nationally administered waters'"
   ]
  },
  {
   "cell_type": "markdown",
   "metadata": {},
   "source": [
    "- [Global](https://api.resourcewatch.org/v1/widget/c029173d-a568-4f1c-abb5-3835458a91bb?env=production) `c029173d-a568-4f1c-abb5-3835458a91bb`  "
   ]
  }
 ],
 "metadata": {
  "kernelspec": {
   "display_name": "Python 3",
   "language": "python",
   "name": "python3"
  },
  "language_info": {
   "codemirror_mode": {
    "name": "ipython",
    "version": 3
   },
   "file_extension": ".py",
   "mimetype": "text/x-python",
   "name": "python",
   "nbconvert_exporter": "python",
   "pygments_lexer": "ipython3",
   "version": "3.7.7"
  }
 },
 "nbformat": 4,
 "nbformat_minor": 5
}
