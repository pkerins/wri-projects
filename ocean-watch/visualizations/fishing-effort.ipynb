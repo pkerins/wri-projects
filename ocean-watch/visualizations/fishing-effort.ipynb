{
 "cells": [
  {
   "cell_type": "markdown",
   "id": "209ab047",
   "metadata": {},
   "source": [
    "# Fishing Effort\n",
    "Total fishing effort within 'national waters' by year. Most figures represent activity within exclusive economic zones; figures were also calculated for joint regimes and disputed areas, which are both held separate from single-sovereign waters.\n",
    "\n",
    "Note that this is a parameterized widget; the specification passed to the API will not be renderable without the geostore identifier being inserted.  \n",
    "\n",
    "_Author: Peter Kerins_  \n",
    "_Created: 28 Sep 2021_  \n",
    "_Environment: jupyterlab_  "
   ]
  },
  {
   "cell_type": "markdown",
   "id": "5789be22",
   "metadata": {},
   "source": [
    "## Style\n",
    "- Vega chart\n",
    "- Ocean Watch country page - parameterized chart\n",
    "- Time series\n",
    "- Line chart"
   ]
  },
  {
   "cell_type": "markdown",
   "id": "acbfd2d5",
   "metadata": {},
   "source": [
    "## Data\n",
    "Underlying dataset: com.030d Fishing Effort by Zone  \n",
    "~Widget data: [ow_widget_territory](https://resourcewatch.carto.com/u/wri-rw/dataset/ow_widget_territory) (master table for all territory-based widgets on Ocean Watch)~  "
   ]
  },
  {
   "cell_type": "markdown",
   "id": "4e4a8ad4",
   "metadata": {},
   "source": [
    "## Preparation"
   ]
  },
  {
   "cell_type": "code",
   "execution_count": 1,
   "id": "a97ff7eb",
   "metadata": {
    "jupyter": {
     "source_hidden": true
    }
   },
   "outputs": [],
   "source": [
    "import json\n",
    "from vega import Vega\n",
    "from IPython.display import display"
   ]
  },
  {
   "cell_type": "code",
   "execution_count": 2,
   "id": "4040afec",
   "metadata": {
    "jupyter": {
     "source_hidden": true
    }
   },
   "outputs": [],
   "source": [
    "def Vega(spec):\n",
    "    bundle = {}\n",
    "    bundle['application/vnd.vega.v5+json'] = spec\n",
    "    display(bundle, raw=True)"
   ]
  },
  {
   "cell_type": "code",
   "execution_count": 3,
   "id": "2ab5ced8",
   "metadata": {
    "jupyter": {
     "source_hidden": true
    },
    "tags": []
   },
   "outputs": [],
   "source": [
    "widget_width = 400\n",
    "widget_height = 300"
   ]
  },
  {
   "cell_type": "markdown",
   "id": "96b012bd",
   "metadata": {},
   "source": [
    "# Country Widget\n",
    "For the moment, we will ignore all areas besides uncontested exclusive economic zones"
   ]
  },
  {
   "cell_type": "markdown",
   "id": "80d4c6f2",
   "metadata": {},
   "source": [
    "## Demo Query\n",
    "`geostore_prod` identifier corresponds to Angola\n",
    "```sql\n",
    "SELECT mrgid, geoname, pol_type, gadm.gid_0, year, value FROM (\n",
    "  SELECT *,\n",
    "    CASE WHEN iso_ter1 IS NULL THEN iso_sov1 ELSE iso_ter1 END AS gid_0\n",
    "  FROM com_030d_fishing_effort_by_zone) AS data\n",
    "LEFT OUTER JOIN gadm36_0 AS gadm ON data.gid_0 = gadm.gid_0\n",
    "WHERE pol_type = '200NM'\n",
    "AND year <= 2020\n",
    "AND gadm.geostore_prod='c0e30c8d35f81d8d19e2c0f5dd7e0798'\n",
    "ORDER BY data.year ASC\n",
    "```"
   ]
  },
  {
   "cell_type": "markdown",
   "id": "026b6523",
   "metadata": {},
   "source": [
    "## Parameterized Query\n",
    "```sql\n",
    "SELECT pol_type, gadm.gid_0, year, SUM(value::NUMERIC) AS value FROM (\n",
    "  SELECT *,\n",
    "    CASE WHEN iso_ter1 IS NULL THEN iso_sov1 ELSE iso_ter1 END AS gid_0\n",
    "  FROM com_030d_fishing_effort_by_zone) AS data\n",
    "LEFT OUTER JOIN gadm36_0 AS gadm ON data.gid_0 = gadm.gid_0\n",
    "WHERE pol_type = '200NM'\n",
    "AND year <= 2020\n",
    "AND gadm.{{geostore_env}}='{{geostore_id}}'\n",
    "GROUP BY pol_type, gadm.gid_0, year\n",
    "ORDER BY data.year ASC\n",
    "```"
   ]
  },
  {
   "cell_type": "markdown",
   "id": "5a2e5369",
   "metadata": {},
   "source": [
    "## Specification\n",
    "Vega code presumes RW-style `config` element present"
   ]
  },
  {
   "cell_type": "code",
   "execution_count": 5,
   "id": "83fc5326",
   "metadata": {},
   "outputs": [
    {
     "data": {
      "application/vnd.vega.v5+json": {
       "autosize": {
        "contains": "padding",
        "type": "fit"
       },
       "axes": [
        {
         "domain": true,
         "grid": false,
         "labelBaseline": "middle",
         "labelFlush": true,
         "labelOverlap": true,
         "labelPadding": 7,
         "orient": "bottom",
         "scale": "datescale",
         "ticks": true,
         "titleFont": "Lato"
        },
        {
         "domain": true,
         "format": "s",
         "grid": true,
         "gridOpacity": 0.2,
         "labelAlign": "right",
         "labelBaseline": "middle",
         "labelPadding": 5,
         "orient": "left",
         "scale": "yscale",
         "title": "Annual fishing effort (hours)"
        }
       ],
       "data": [
        {
         "format": {
          "parse": {
           "year": "utc:'%Y'"
          },
          "property": "rows",
          "type": "json"
         },
         "name": "table",
         "transform": [],
         "url": "https://wri-rw.carto.com/api/v2/sql?q=SELECT mrgid, geoname, pol_type, gadm.gid_0, year, value FROM (SELECT *, CASE WHEN iso_ter1 IS NULL THEN iso_sov1 ELSE iso_ter1 END AS gid_0 FROM com_030d_fishing_effort_by_zone) AS data LEFT OUTER JOIN gadm36_0 AS gadm ON data.gid_0 = gadm.gid_0 WHERE pol_type = '200NM' AND year <= 2020 AND gadm.geostore_prod='c0e30c8d35f81d8d19e2c0f5dd7e0798' ORDER BY data.year ASC"
        }
       ],
       "description": "Fishing effort per year, by zone",
       "height": 300,
       "legends": [],
       "marks": [
        {
         "encode": {
          "enter": {
           "clip": {
            "value": true
           },
           "interpolate": {
            "value": "linear"
           },
           "stroke": {
            "value": "#fc8d59"
           },
           "strokeWidth": {
            "value": 2.5
           },
           "x": {
            "field": "year",
            "scale": "datescale"
           },
           "y": {
            "field": "value",
            "scale": "yscale"
           }
          },
          "hover": {
           "strokeOpacity": {
            "value": 0.5
           }
          },
          "update": {
           "strokeOpacity": {
            "value": 1
           }
          }
         },
         "from": {
          "data": "table"
         },
         "type": "line"
        },
        {
         "encode": {
          "enter": {
           "clip": {
            "value": true
           },
           "fillOpacity": {
            "value": 1
           },
           "shape": {
            "value": "circle"
           },
           "size": {
            "signal": "(width*height)/1000"
           },
           "stroke": {
            "value": "white"
           },
           "strokeOpacity": {
            "value": 1
           },
           "strokeWidth": {
            "value": 2
           },
           "tooltip": {
            "signal": "{'Year':utcFormat(datum.year,'%Y'), 'Fishing effort':format(datum.value,',.0f')+' hours'}"
           },
           "x": {
            "field": "year",
            "scale": "datescale"
           },
           "y": {
            "field": "value",
            "scale": "yscale"
           }
          },
          "hover": {
           "fill": {
            "value": "#666666"
           }
          },
          "update": {
           "fill": {
            "value": "#fc8d59"
           }
          }
         },
         "from": {
          "data": "table"
         },
         "type": "symbol"
        }
       ],
       "padding": 0,
       "scales": [
        {
         "domain": {
          "data": "table",
          "field": "year"
         },
         "name": "datescale",
         "range": "width",
         "type": "time"
        },
        {
         "domain": {
          "data": "table",
          "fields": [
           "value"
          ]
         },
         "name": "yscale",
         "padding": 0.1,
         "range": "height",
         "type": "linear"
        }
       ],
       "schema": "https://vega.github.io/schema/vega/v5.json",
       "signals": [],
       "width": 400
      },
      "image/png": "[encoded data removed]"
     },
     "metadata": {},
     "output_type": "display_data"
    }
   ],
   "source": [
    "spec=json.loads(\"\"\"\n",
    "{\n",
    "  \"schema\": \"https://vega.github.io/schema/vega/v5.json\",\n",
    "  \"description\": \"Fishing effort per year, by zone\",\n",
    "  \"width\": 400,\n",
    "  \"height\": 250,\n",
    "  \"padding\": 0,\n",
    "  \"autosize\": {\"type\": \"fit\", \"contains\": \"padding\"},\n",
    "  \"signals\": [],\n",
    "  \"data\": [\n",
    "    {\n",
    "      \"name\": \"table\",\n",
    "      \"url\": \"https://wri-rw.carto.com/api/v2/sql?q=SELECT mrgid, geoname, pol_type, gadm.gid_0, year, value FROM (SELECT *, CASE WHEN iso_ter1 IS NULL THEN iso_sov1 ELSE iso_ter1 END AS gid_0 FROM com_030d_fishing_effort_by_zone) AS data LEFT OUTER JOIN gadm36_0 AS gadm ON data.gid_0 = gadm.gid_0 WHERE pol_type = '200NM' AND year <= 2020 AND gadm.geostore_prod='c0e30c8d35f81d8d19e2c0f5dd7e0798' ORDER BY data.year ASC\",\n",
    "      \"format\": {\n",
    "        \"type\": \"json\",\n",
    "        \"property\": \"rows\",\n",
    "        \"parse\": {\"year\": \"utc:'%Y'\"}\n",
    "      },\n",
    "      \"transform\": []\n",
    "    }\n",
    "  ],\n",
    "  \"scales\": [\n",
    "    {\n",
    "      \"name\": \"datescale\",\n",
    "      \"type\": \"time\",\n",
    "      \"domain\": {\"data\": \"table\", \"field\": \"year\"},\n",
    "      \"range\": \"width\"\n",
    "    },\n",
    "    {\n",
    "      \"name\": \"yscale\",\n",
    "      \"type\": \"linear\",\n",
    "      \"domain\": {\n",
    "        \"data\": \"table\", \n",
    "        \"fields\": [\"value\"]\n",
    "      },\n",
    "      \"range\": \"height\",\n",
    "      \"padding\": 0.1\n",
    "    }\n",
    "  ],\n",
    "  \"axes\": [\n",
    "    {\n",
    "      \"orient\": \"bottom\",\n",
    "      \"scale\": \"datescale\",\n",
    "      \"domain\": true,\n",
    "      \"labelFlush\": true,\n",
    "      \"labelOverlap\": true,\n",
    "      \"labelBaseline\": \"middle\",\n",
    "      \"ticks\": true,\n",
    "      \"grid\": false,\n",
    "      \"titleFont\": \"Lato\",\n",
    "      \"labelPadding\": 7\n",
    "    },\n",
    "    {\n",
    "      \"orient\": \"left\",\n",
    "      \"scale\": \"yscale\",\n",
    "      \"domain\": true,\n",
    "      \"labelBaseline\": \"middle\",\n",
    "      \"labelAlign\": \"right\",\n",
    "      \"labelPadding\": 5,\n",
    "      \"grid\": true,\n",
    "      \"gridOpacity\": 0.2,\n",
    "      \"format\": \"s\",\n",
    "      \"title\": \"Annual fishing effort (hours)\"\n",
    "    }\n",
    "  ],\n",
    "  \"marks\": [\n",
    "    {\n",
    "      \"type\": \"line\",\n",
    "      \"from\": {\"data\": \"table\"},\n",
    "      \"encode\": {\n",
    "        \"enter\": {\n",
    "          \"x\": {\"scale\": \"datescale\", \"field\": \"year\"},\n",
    "          \"y\": {\"scale\": \"yscale\", \"field\": \"value\"},\n",
    "          \"stroke\": {\"value\": \"#fc8d59\"},\n",
    "          \"strokeWidth\": {\"value\": 2.5},\n",
    "          \"clip\": {\"value\": true},\n",
    "          \"interpolate\": {\"value\": \"linear\"}\n",
    "        },\n",
    "        \"update\": {\n",
    "          \"strokeOpacity\": {\"value\": 1}\n",
    "        },\n",
    "        \"hover\": {\n",
    "          \"strokeOpacity\": {\"value\": 0.5}\n",
    "        }\n",
    "      }\n",
    "    },\n",
    "    {\n",
    "      \"type\": \"symbol\",\n",
    "      \"from\": {\"data\": \"table\"},\n",
    "      \"encode\": {\n",
    "        \"enter\": {\n",
    "          \"x\": {\"scale\": \"datescale\", \"field\": \"year\"},\n",
    "          \"y\": {\"scale\": \"yscale\", \"field\": \"value\"},\n",
    "          \"size\": {\"signal\": \"(width*height)/1000\"},\n",
    "          \"stroke\": {\"value\": \"white\"},\n",
    "          \"strokeOpacity\": {\"value\": 1},\n",
    "          \"fillOpacity\": {\"value\": 1},\n",
    "          \"strokeWidth\": {\"value\": 2},\n",
    "          \"clip\": {\"value\": true},\n",
    "          \"shape\": {\"value\": \"circle\"},\n",
    "          \"tooltip\": {\n",
    "            \"signal\": \"{'Year':utcFormat(datum.year,'%Y'), 'Fishing effort':format(datum.value,',.0f')+' hours'}\"\n",
    "          }\n",
    "        },\n",
    "        \"update\": {\n",
    "          \"fill\": {\"value\": \"#fc8d59\"}\n",
    "        },\n",
    "        \"hover\": {\n",
    "          \"fill\": {\"value\": \"#666666\"}\n",
    "        }\n",
    "      }\n",
    "    }\n",
    "  ],\n",
    "  \"legends\": [\n",
    "  ]\n",
    "}\n",
    "\"\"\")\n",
    "vega_view=dict(spec)\n",
    "vega_view['width']=widget_width\n",
    "vega_view['height']=widget_height\n",
    "Vega(vega_view)"
   ]
  },
  {
   "cell_type": "markdown",
   "id": "9334534a",
   "metadata": {},
   "source": [
    "# Global Widget"
   ]
  },
  {
   "cell_type": "markdown",
   "id": "0b84d9ad",
   "metadata": {},
   "source": [
    "## Queries\n",
    "Includes all zones (with collected data), but not international waters\n",
    "```sql\n",
    "SELECT year, SUM(value::NUMERIC) AS total_value \n",
    "FROM com_030d_fishing_effort_by_zone AS data\n",
    "WHERE year <= 2020\n",
    "GROUP BY year\n",
    "ORDER BY year ASC\n",
    "```"
   ]
  },
  {
   "cell_type": "markdown",
   "id": "8afaca2a",
   "metadata": {},
   "source": [
    "## Specification\n",
    "Vega code presumes RW-style `config` element present"
   ]
  },
  {
   "cell_type": "code",
   "execution_count": 6,
   "id": "23cfa5a1",
   "metadata": {},
   "outputs": [
    {
     "data": {
      "application/vnd.vega.v5+json": {
       "autosize": {
        "contains": "padding",
        "type": "fit"
       },
       "axes": [
        {
         "domain": true,
         "grid": false,
         "labelBaseline": "middle",
         "labelFlush": true,
         "labelOverlap": true,
         "labelPadding": 7,
         "orient": "bottom",
         "scale": "datescale",
         "ticks": true,
         "titleFont": "Lato"
        },
        {
         "domain": true,
         "format": "s",
         "grid": true,
         "gridOpacity": 0.2,
         "labelAlign": "right",
         "labelBaseline": "middle",
         "labelPadding": 5,
         "orient": "left",
         "scale": "yscale",
         "title": "Annual fishing effort (hours)"
        }
       ],
       "data": [
        {
         "format": {
          "parse": {
           "year": "utc:'%Y'"
          },
          "property": "rows",
          "type": "json"
         },
         "name": "table",
         "transform": [],
         "url": "https://wri-rw.carto.com/api/v2/sql?q=SELECT year, SUM(value::NUMERIC) AS value FROM com_030d_fishing_effort_by_zone AS data WHERE year <= 2020 GROUP BY year ORDER BY year ASC"
        }
       ],
       "description": "Fishing effort per year, by zone",
       "height": 300,
       "legends": [],
       "marks": [
        {
         "encode": {
          "enter": {
           "clip": {
            "value": true
           },
           "interpolate": {
            "value": "linear"
           },
           "stroke": {
            "value": "#fc8d59"
           },
           "strokeWidth": {
            "value": 2.5
           },
           "x": {
            "field": "year",
            "scale": "datescale"
           },
           "y": {
            "field": "value",
            "scale": "yscale"
           }
          },
          "hover": {
           "strokeOpacity": {
            "value": 0.5
           }
          },
          "update": {
           "strokeOpacity": {
            "value": 1
           }
          }
         },
         "from": {
          "data": "table"
         },
         "type": "line"
        },
        {
         "encode": {
          "enter": {
           "clip": {
            "value": true
           },
           "fillOpacity": {
            "value": 1
           },
           "shape": {
            "value": "circle"
           },
           "size": {
            "signal": "(width*height)/1000"
           },
           "stroke": {
            "value": "white"
           },
           "strokeOpacity": {
            "value": 1
           },
           "strokeWidth": {
            "value": 2
           },
           "tooltip": {
            "signal": "{'Year':utcFormat(datum.year,'%Y'), 'Fishing effort':format(datum.value,',.0f')+' hours'}"
           },
           "x": {
            "field": "year",
            "scale": "datescale"
           },
           "y": {
            "field": "value",
            "scale": "yscale"
           }
          },
          "hover": {
           "fill": {
            "value": "#666666"
           }
          },
          "update": {
           "fill": {
            "value": "#fc8d59"
           }
          }
         },
         "from": {
          "data": "table"
         },
         "type": "symbol"
        }
       ],
       "padding": 0,
       "scales": [
        {
         "domain": {
          "data": "table",
          "field": "year"
         },
         "name": "datescale",
         "range": "width",
         "type": "time"
        },
        {
         "domain": {
          "data": "table",
          "fields": [
           "value"
          ]
         },
         "name": "yscale",
         "padding": 0.1,
         "range": "height",
         "type": "linear"
        }
       ],
       "schema": "https://vega.github.io/schema/vega/v5.json",
       "signals": [],
       "width": 400
      },
      "image/png": "[encoded data removed]"
     },
     "metadata": {},
     "output_type": "display_data"
    }
   ],
   "source": [
    "spec=json.loads(\"\"\"\n",
    "{\n",
    "  \"schema\": \"https://vega.github.io/schema/vega/v5.json\",\n",
    "  \"description\": \"Fishing effort per year, by zone\",\n",
    "  \"width\": 400,\n",
    "  \"height\": 250,\n",
    "  \"padding\": 0,\n",
    "  \"autosize\": {\"type\": \"fit\", \"contains\": \"padding\"},\n",
    "  \"signals\": [],\n",
    "  \"data\": [\n",
    "    {\n",
    "      \"name\": \"table\",\n",
    "      \"url\": \"https://wri-rw.carto.com/api/v2/sql?q=SELECT pol_type, gadm.gid_0, year, SUM(value::NUMERIC) AS value FROM (SELECT *, CASE WHEN iso_ter1 IS NULL THEN iso_sov1 ELSE iso_ter1 END AS gid_0 FROM com_030d_fishing_effort_by_zone) AS data LEFT OUTER JOIN gadm36_0 AS gadm ON data.gid_0 = gadm.gid_0 WHERE pol_type = '200NM' AND year <= 2020 AND gadm.geostore_prod='f653d0a434168104f4bdcdf8c712d079' GROUP BY pol_type, gadm.gid_0, year ORDER BY data.year ASC\",\n",
    "      \"format\": {\n",
    "        \"type\": \"json\",\n",
    "        \"property\": \"rows\",\n",
    "        \"parse\": {\"year\": \"utc:'%Y'\"}\n",
    "      },\n",
    "      \"transform\": []\n",
    "    }\n",
    "  ],\n",
    "  \"scales\": [\n",
    "    {\n",
    "      \"name\": \"datescale\",\n",
    "      \"type\": \"time\",\n",
    "      \"domain\": {\"data\": \"table\", \"field\": \"year\"},\n",
    "      \"range\": \"width\"\n",
    "    },\n",
    "    {\n",
    "      \"name\": \"yscale\",\n",
    "      \"type\": \"linear\",\n",
    "      \"domain\": {\n",
    "        \"data\": \"table\", \n",
    "        \"fields\": [\"value\"]\n",
    "      },\n",
    "      \"range\": \"height\",\n",
    "      \"padding\": 0.1\n",
    "    }\n",
    "  ],\n",
    "  \"axes\": [\n",
    "    {\n",
    "      \"orient\": \"bottom\",\n",
    "      \"scale\": \"datescale\",\n",
    "      \"domain\": true,\n",
    "      \"labelFlush\": true,\n",
    "      \"labelOverlap\": true,\n",
    "      \"labelBaseline\": \"middle\",\n",
    "      \"ticks\": true,\n",
    "      \"grid\": false,\n",
    "      \"titleFont\": \"Lato\",\n",
    "      \"labelPadding\": 7\n",
    "    },\n",
    "    {\n",
    "      \"orient\": \"left\",\n",
    "      \"scale\": \"yscale\",\n",
    "      \"domain\": true,\n",
    "      \"labelBaseline\": \"middle\",\n",
    "      \"labelAlign\": \"right\",\n",
    "      \"labelPadding\": 5,\n",
    "      \"grid\": true,\n",
    "      \"gridOpacity\": 0.2,\n",
    "      \"format\": \"s\",\n",
    "      \"title\": \"Annual fishing effort (hours)\"\n",
    "    }\n",
    "  ],\n",
    "  \"marks\": [\n",
    "    {\n",
    "      \"type\": \"line\",\n",
    "      \"from\": {\"data\": \"table\"},\n",
    "      \"encode\": {\n",
    "        \"enter\": {\n",
    "          \"x\": {\"scale\": \"datescale\", \"field\": \"year\"},\n",
    "          \"y\": {\"scale\": \"yscale\", \"field\": \"value\"},\n",
    "          \"stroke\": {\"value\": \"#fc8d59\"},\n",
    "          \"strokeWidth\": {\"value\": 2.5},\n",
    "          \"clip\": {\"value\": true},\n",
    "          \"interpolate\": {\"value\": \"linear\"}\n",
    "        },\n",
    "        \"update\": {\n",
    "          \"strokeOpacity\": {\"value\": 1}\n",
    "        },\n",
    "        \"hover\": {\n",
    "          \"strokeOpacity\": {\"value\": 0.5}\n",
    "        }\n",
    "      }\n",
    "    },\n",
    "    {\n",
    "      \"type\": \"symbol\",\n",
    "      \"from\": {\"data\": \"table\"},\n",
    "      \"encode\": {\n",
    "        \"enter\": {\n",
    "          \"x\": {\"scale\": \"datescale\", \"field\": \"year\"},\n",
    "          \"y\": {\"scale\": \"yscale\", \"field\": \"value\"},\n",
    "          \"size\": {\"signal\": \"(width*height)/1000\"},\n",
    "          \"stroke\": {\"value\": \"white\"},\n",
    "          \"strokeOpacity\": {\"value\": 1},\n",
    "          \"fillOpacity\": {\"value\": 1},\n",
    "          \"strokeWidth\": {\"value\": 2},\n",
    "          \"clip\": {\"value\": true},\n",
    "          \"shape\": {\"value\": \"circle\"},\n",
    "          \"tooltip\": {\n",
    "            \"signal\": \"{'Year':utcFormat(datum.year,'%Y'), 'Fishing effort':format(datum.value,',.0f')+' hours'}\"\n",
    "          }\n",
    "        },\n",
    "        \"update\": {\n",
    "          \"fill\": {\"value\": \"#fc8d59\"}\n",
    "        },\n",
    "        \"hover\": {\n",
    "          \"fill\": {\"value\": \"#666666\"}\n",
    "        }\n",
    "      }\n",
    "    }\n",
    "  ],\n",
    "  \"legends\": [\n",
    "  ]\n",
    "}\n",
    "\"\"\")\n",
    "vega_view=dict(spec)\n",
    "vega_view['width']=widget_width\n",
    "vega_view['height']=widget_height\n",
    "Vega(vega_view)"
   ]
  },
  {
   "cell_type": "markdown",
   "id": "3dbc4e1d",
   "metadata": {},
   "source": [
    "# RW API"
   ]
  },
  {
   "cell_type": "markdown",
   "id": "6ba99545",
   "metadata": {},
   "source": [
    "Parameterized widgets created via [widget scripts](https://github.com/resource-watch/data-team-tools/tree/master/advanced_widget_writer).  "
   ]
  },
  {
   "cell_type": "markdown",
   "id": "94264b35",
   "metadata": {},
   "source": [
    "[com.030d.rw0 Fishing Effort by Zone](https://resourcewatch.org/data/explore/49b76e0f-3aad-4138-b272-87a10748f2df) ([Admin](https://resourcewatch.org/admin/data/datasets/49b76e0f-3aad-4138-b272-87a10748f2dfedit))  \n",
    "`49b76e0f-3aad-4138-b272-87a10748f2df`  \n",
    "[Dataset](https://api.resourcewatch.org/v1/dataset/49b76e0f-3aad-4138-b272-87a10748f2df/), [Widgets](https://api.resourcewatch.org/v1/dataset/49b76e0f-3aad-4138-b272-87a10748f2df/widget)"
   ]
  },
  {
   "cell_type": "code",
   "execution_count": 7,
   "id": "e7698fe1",
   "metadata": {},
   "outputs": [],
   "source": [
    "dataset_id = '49b76e0f-3aad-4138-b272-87a10748f2df'\n",
    "name = 'Annual Fishing Effort'\n",
    "description = 'Fishing effort per year, by zone'"
   ]
  },
  {
   "cell_type": "markdown",
   "id": "b4251f29",
   "metadata": {},
   "source": [
    "- [Country](https://api.resourcewatch.org/v1/widget/6f974b0f-66cf-416b-a5a9-d1012856e4c8?env=production) `6f974b0f-66cf-416b-a5a9-d1012856e4c8`  "
   ]
  },
  {
   "cell_type": "markdown",
   "id": "b4f06865",
   "metadata": {},
   "source": [
    "dataset_id = '49b76e0f-3aad-4138-b272-87a10748f2df'\n",
    "name = 'Annual Fishing Effort Excluding International Waters'\n",
    "description = 'Fishing effort per year, across all nationally administered waters'"
   ]
  },
  {
   "cell_type": "markdown",
   "id": "7fe6d60e",
   "metadata": {},
   "source": [
    "- [Global](https://api.resourcewatch.org/v1/widget/c029173d-a568-4f1c-abb5-3835458a91bb?env=production) `c029173d-a568-4f1c-abb5-3835458a91bb`  "
   ]
  }
 ],
 "metadata": {
  "kernelspec": {
   "display_name": "rw",
   "language": "python",
   "name": "rw"
  },
  "language_info": {
   "codemirror_mode": {
    "name": "ipython",
    "version": 3
   },
   "file_extension": ".py",
   "mimetype": "text/x-python",
   "name": "python",
   "nbconvert_exporter": "python",
   "pygments_lexer": "ipython3",
   "version": "3.7.10"
  }
 },
 "nbformat": 4,
 "nbformat_minor": 5
}
