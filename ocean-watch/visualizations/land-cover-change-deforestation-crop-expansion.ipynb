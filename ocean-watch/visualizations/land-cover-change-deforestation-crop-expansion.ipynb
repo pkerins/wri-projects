{
 "cells": [
  {
   "cell_type": "markdown",
   "id": "4608df19",
   "metadata": {},
   "source": [
    "# Land Cover Change - Deforestation and Crop Expansion\n",
    "Change in land cover class (as defined by [Copernicus Global Land Cover](https://lcviewer.vito.be/about)): forest changing into cropland, and the reverse. Forest subtypes not disaggregated.  \n",
    "\n",
    "Note that this is a parameterized widget; the specification passed to the API will not be renderable without the geostore identifier being inserted.\n",
    "\n",
    "_Author: Peter Kerins_  \n",
    "_Created: 15 Jun 2021_  \n",
    "_Environment: jupyterlab_  "
   ]
  },
  {
   "cell_type": "markdown",
   "id": "6d9f253e",
   "metadata": {},
   "source": [
    "## Style\n",
    "- Vega chart\n",
    "- Ocean Watch country page - parameterized chart\n",
    "- Time series\n",
    "- Vertical bar\n",
    "- Line for net change"
   ]
  },
  {
   "cell_type": "markdown",
   "id": "34fe4e98",
   "metadata": {},
   "source": [
    "## Data\n",
    "Surface areas [calculated on Google Earth Engine](https://code.earthengine.google.com/1a106a75689826e6bf7283b7d7c7f6f5); outputs combined and restructured via [Python script](../analysis/land-cover-change-structuring.py).  \n",
    "Carto: [ow_widget_territory](https://resourcewatch.carto.com/u/wri-rw/dataset/ow_widget_territory) (master table for all country widgets on Ocean Watch)    "
   ]
  },
  {
   "cell_type": "markdown",
   "id": "b17e9415",
   "metadata": {},
   "source": [
    "## Preparation"
   ]
  },
  {
   "cell_type": "code",
   "execution_count": 1,
   "id": "e01091ef",
   "metadata": {
    "jupyter": {
     "source_hidden": true
    }
   },
   "outputs": [],
   "source": [
    "import json\n",
    "from vega import Vega\n",
    "from IPython.display import display"
   ]
  },
  {
   "cell_type": "code",
   "execution_count": 2,
   "id": "571f801a",
   "metadata": {
    "jupyter": {
     "source_hidden": true
    }
   },
   "outputs": [],
   "source": [
    "def Vega(spec):\n",
    "    bundle = {}\n",
    "    bundle['application/vnd.vega.v5+json'] = spec\n",
    "    display(bundle, raw=True)"
   ]
  },
  {
   "cell_type": "code",
   "execution_count": 3,
   "id": "1d4898a4",
   "metadata": {
    "jupyter": {
     "source_hidden": true
    },
    "tags": []
   },
   "outputs": [],
   "source": [
    "widget_width = 400\n",
    "widget_height = 300"
   ]
  },
  {
   "cell_type": "markdown",
   "id": "2f9b9352",
   "metadata": {},
   "source": [
    "# Widget  "
   ]
  },
  {
   "cell_type": "markdown",
   "id": "12d10a83",
   "metadata": {},
   "source": [
    "## Demo Query\n",
    "`gid_0 = <territory>` used as stand-in for parameterization\n",
    "```sql\n",
    "SELECT gid_0, name_0, variable, date, \n",
    "  CASE WHEN variable ILIKE 'cropForest' THEN value\n",
    "  ELSE value * -1\n",
    "  END AS value\n",
    "FROM ow_widget_territory\n",
    "WHERE widget ILIKE 'land cover change: deforestation and crop expansion'\n",
    "AND gid_0 ILIKE 'BRA'\n",
    "ORDER BY gid_0 ASC, date ASC, variable DESC\n",
    "```"
   ]
  },
  {
   "cell_type": "markdown",
   "id": "984956db",
   "metadata": {},
   "source": [
    "Second query for net forest gain/loss (simply wraps prior query)\n",
    "```sql\n",
    "SELECT gid_0, date, SUM(value) AS net_value\n",
    "FROM (\n",
    "  SELECT gid_0, name_0, variable, date, \n",
    "    CASE WHEN variable ILIKE 'cropForest' THEN value\n",
    "    ELSE value * -1\n",
    "    END AS value\n",
    "  FROM ow_widget_territory\n",
    "  WHERE widget ILIKE 'land cover change: deforestation and crop expansion'\n",
    "  AND gid_0 ILIKE 'BRA'\n",
    "  ORDER BY gid_0 ASC, date ASC, variable DESC\n",
    "  ) AS query_inner\n",
    "GROUP BY gid_0, date\n",
    "ORDER BY gid_0 ASC\n",
    "```"
   ]
  },
  {
   "cell_type": "markdown",
   "id": "d7fb605b",
   "metadata": {},
   "source": [
    "## Parameterized Query\n",
    "```sql\n",
    "SELECT territory.gid_0, territory.name_0, territory.variable, territory.date, \n",
    "  CASE WHEN territory.variable ILIKE 'cropForest' THEN territory.value\n",
    "  ELSE territory.value * -1\n",
    "  END AS value\n",
    "FROM ow_widget_territory territory\n",
    "LEFT OUTER JOIN gadm36_0 gadm ON territory.gid_0 = gadm.gid_0\n",
    "WHERE territory.widget ILIKE 'land cover change: deforestation and crop expansion'\n",
    "AND gadm.geostore_prod ILIKE '{{geostore_id}}'\n",
    "ORDER BY territory.gid_0 ASC, territory.date ASC, territory.variable DESC\n",
    "```"
   ]
  },
  {
   "cell_type": "markdown",
   "id": "1e681935",
   "metadata": {},
   "source": [
    "Second query for net forest gain/loss (simply wraps prior query)\n",
    "```sql\n",
    "SELECT q1.gid_0, q1.date, SUM(q1.value) AS net_value\n",
    "FROM (\n",
    "  SELECT territory.gid_0, territory.name_0, territory.variable, territory.date, \n",
    "    CASE WHEN territory.variable ILIKE 'cropForest' THEN territory.value\n",
    "    ELSE territory.value * -1\n",
    "    END AS value\n",
    "  FROM ow_widget_territory territory\n",
    "  LEFT OUTER JOIN gadm36_0 gadm ON territory.gid_0 = gadm.gid_0\n",
    "  WHERE territory.widget ILIKE 'land cover change: deforestation and crop expansion'\n",
    "  AND gadm.geostore_prod ILIKE '{{geostore_id}}'\n",
    "  ORDER BY territory.gid_0 ASC, territory.date ASC, territory.variable DESC\n",
    "  ) AS q1\n",
    "GROUP BY q1.gid_0, q1.date\n",
    "ORDER BY q1.gid_0 ASC\n",
    "```"
   ]
  },
  {
   "cell_type": "markdown",
   "id": "e0bd2e18",
   "metadata": {},
   "source": [
    "## Specification\n",
    "Code presented in notebook is already written for RW (rather than standard Vega). This does not extent to parameterization."
   ]
  },
  {
   "cell_type": "code",
   "execution_count": 7,
   "id": "68b90613",
   "metadata": {},
   "outputs": [
    {
     "data": {
      "application/vnd.vega.v5+json": {
       "autosize": {
        "contains": "padding",
        "resize": true,
        "type": "pad"
       },
       "axes": [
        {
         "encode": {
          "labels": {
           "enter": {},
           "hover": {
            "fill": {
             "value": "firebrick"
            }
           },
           "interactive": true,
           "update": {
            "align": {
             "value": "right"
            },
            "baseline": {
             "value": "middle"
            },
            "dx": {
             "value": 4
            },
            "fill": {
             "value": "#717171"
            }
           }
          }
         },
         "orient": "left",
         "scale": "yscale",
         "title": "Area (sq. km)"
        },
        {
         "encode": {
          "labels": {
           "enter": {},
           "hover": {
            "fill": {
             "value": "black"
            }
           },
           "interactive": true,
           "update": {
            "fill": {
             "value": "#717171"
            }
           }
          }
         },
         "labelPadding": 4,
         "orient": "bottom",
         "scale": "xscale",
         "tickSize": 0,
         "zindex": 1
        }
       ],
       "data": [
        {
         "format": {
          "property": "rows",
          "type": "json"
         },
         "name": "table",
         "transform": [
          {
           "as": "abs_value",
           "expr": "abs(datum.value)",
           "type": "formula"
          },
          {
           "as": "alias",
           "expr": "(datum.variable=='cropForest' ? 'Cropland to forest' : 'Forest to cropland')",
           "type": "formula"
          }
         ],
         "url": "https://wri-rw.carto.com/api/v2/sql?q=SELECT gid_0, name_0, variable, date, CASE WHEN variable ILIKE 'cropForest' THEN value ELSE value * -1 END AS value FROM ow_widget_territory WHERE widget ILIKE 'land cover change: deforestation and crop expansion' AND gid_0 ILIKE 'BRA' ORDER BY gid_0 ASC, date ASC, variable DESC"
        },
        {
         "format": {
          "property": "rows",
          "type": "json"
         },
         "name": "net",
         "url": "https://wri-rw.carto.com/api/v2/sql?q=SELECT gid_0, date, SUM(value) AS net_value FROM ( SELECT gid_0, name_0, variable, date, CASE WHEN variable ILIKE 'cropForest' THEN value ELSE value * -1 END AS value FROM ow_widget_territory WHERE widget ILIKE 'land cover change: deforestation and crop expansion' AND gid_0 ILIKE 'BRA' ORDER BY gid_0 ASC, date ASC, variable DESC ) AS query_inner GROUP BY gid_0, date ORDER BY gid_0 ASC"
        }
       ],
       "height": 300,
       "interaction_config": [
        {
         "config": {
          "fields": [
           {
            "column": "abs_value",
            "format": ",.1f",
            "property": "Area (sq. km)",
            "type": "number"
           }
          ]
         },
         "name": "tooltip"
        }
       ],
       "legends": [
        {
         "fill": "color",
         "orient": "right"
        },
        {
         "encode": {
          "symbols": {
           "update": {
            "shape": {
             "value": "stroke"
            },
            "size": {
             "value": 80
            },
            "stroke": {
             "value": "black"
            }
           }
          }
         },
         "fill": "line-color",
         "orient": "right"
        }
       ],
       "marks": [
        {
         "encode": {
          "enter": {
           "fill": {
            "field": "alias",
            "scale": "color"
           },
           "width": {
            "band": 1,
            "scale": "xscale"
           },
           "x": {
            "field": "date",
            "scale": "xscale"
           },
           "y": {
            "scale": "yscale",
            "value": 0
           },
           "y2": {
            "field": "value",
            "scale": "yscale"
           }
          },
          "hover": {
           "fillOpacity": {
            "value": 0.5
           }
          },
          "update": {
           "fillOpacity": {
            "value": 1
           }
          }
         },
         "from": {
          "data": "table"
         },
         "name": "bars",
         "type": "rect"
        },
        {
         "encode": {
          "enter": {
           "stroke": {
            "value": "black"
           },
           "x": {
            "signal": "scale('xscale',datum.date)+bandwidth('xscale')/2"
           },
           "y": {
            "field": "net_value",
            "scale": "yscale"
           }
          }
         },
         "from": {
          "data": "net"
         },
         "name": "line",
         "type": "line"
        }
       ],
       "scales": [
        {
         "domain": {
          "data": "table",
          "field": "date"
         },
         "name": "xscale",
         "paddingInner": 0.2,
         "paddingOuter": 0.2,
         "range": "width",
         "type": "band"
        },
        {
         "domain": {
          "data": "table",
          "field": "value"
         },
         "name": "yscale",
         "nice": true,
         "range": "height",
         "round": true,
         "type": "linear",
         "zero": true
        },
        {
         "domain": [
          "Cropland to forest",
          "Forest to cropland"
         ],
         "name": "color",
         "range": [
          "#0F870F",
          "#965596"
         ],
         "type": "ordinal"
        },
        {
         "domain": [
          "Net forest gain"
         ],
         "name": "line-color",
         "range": [
          "black"
         ],
         "type": "ordinal"
        }
       ],
       "signals": [
        {
         "name": "hover",
         "on": [
          {
           "events": "@cell:mouseover",
           "update": "datum"
          },
          {
           "events": "@cell:mouseout",
           "update": "null"
          }
         ],
         "value": null
        }
       ],
       "width": 400
      },
      "image/png": "[encoded data removed]"
     },
     "metadata": {},
     "output_type": "display_data"
    }
   ],
   "source": [
    "spec=json.loads(\"\"\"\n",
    "{\n",
    "  \"width\": 300,\n",
    "  \"height\": 300,\n",
    "  \"autosize\": {\"type\": \"pad\", \"resize\": true, \"contains\": \"padding\"},\n",
    "  \"signals\": [\n",
    "    {\n",
    "      \"name\": \"hover\",\n",
    "      \"value\": null,\n",
    "      \"on\": [\n",
    "        {\"events\": \"@cell:mouseover\", \"update\": \"datum\"},\n",
    "        {\"events\": \"@cell:mouseout\", \"update\": \"null\"}\n",
    "      ]\n",
    "    }\n",
    "  ],\n",
    "  \"data\": [\n",
    "    {\n",
    "      \"name\": \"table\",\n",
    "      \"url\": \"https://wri-rw.carto.com/api/v2/sql?q=SELECT gid_0, name_0, variable, date, CASE WHEN variable ILIKE 'cropForest' THEN value ELSE value * -1 END AS value FROM ow_widget_territory WHERE widget ILIKE 'land cover change: deforestation and crop expansion' AND gid_0 ILIKE 'BRA' ORDER BY gid_0 ASC, date ASC, variable DESC\",\n",
    "      \"format\": {\n",
    "        \"type\": \"json\", \"property\": \"rows\"\n",
    "      },\n",
    "      \"transform\": [\n",
    "        {\n",
    "          \"type\": \"formula\",\n",
    "          \"expr\": \"abs(datum.value)\",\n",
    "          \"as\": \"abs_value\"\n",
    "        },\n",
    "        {\n",
    "          \"type\": \"formula\",\n",
    "          \"expr\": \"(datum.variable=='cropForest' ? 'Cropland to forest' : 'Forest to cropland')\",\n",
    "          \"as\": \"alias\"\n",
    "        }\n",
    "      ]\n",
    "    },\n",
    "    {\n",
    "      \"name\": \"net\",\n",
    "      \"url\": \"https://wri-rw.carto.com/api/v2/sql?q=SELECT gid_0, date, SUM(value) AS net_value FROM ( SELECT gid_0, name_0, variable, date, CASE WHEN variable ILIKE 'cropForest' THEN value ELSE value * -1 END AS value FROM ow_widget_territory WHERE widget ILIKE 'land cover change: deforestation and crop expansion' AND gid_0 ILIKE 'BRA' ORDER BY gid_0 ASC, date ASC, variable DESC ) AS query_inner GROUP BY gid_0, date ORDER BY gid_0 ASC\",\n",
    "      \"format\": {\n",
    "        \"type\": \"json\", \"property\": \"rows\"\n",
    "      }\n",
    "    }\n",
    "  ],\n",
    "  \"scales\": [\n",
    "    {\n",
    "      \"name\": \"xscale\",\n",
    "      \"type\": \"band\",\n",
    "      \"domain\": {\"data\": \"table\", \"field\": \"date\"},\n",
    "      \"range\": \"width\",\n",
    "      \"paddingInner\": 0.2,\n",
    "      \"paddingOuter\": 0.2\n",
    "    },\n",
    "    {\n",
    "      \"name\": \"yscale\",\n",
    "      \"type\": \"linear\",\n",
    "      \"domain\": {\"data\": \"table\", \"field\": \"value\"},\n",
    "      \"range\": \"height\",\n",
    "      \"round\": true,\n",
    "      \"zero\": true,\n",
    "      \"nice\": true\n",
    "    },\n",
    "    {\n",
    "      \"name\": \"color\",\n",
    "      \"type\": \"ordinal\",\n",
    "      \"domain\": [\n",
    "        \"Cropland to forest\",\n",
    "        \"Forest to cropland\"\n",
    "      ],\n",
    "      \"range\": [\n",
    "        \"#0F870F\",\n",
    "        \"#965596\"\n",
    "      ]\n",
    "    },\n",
    "    {\n",
    "      \"name\": \"line-color\",\n",
    "      \"type\": \"ordinal\",\n",
    "      \"domain\": [\n",
    "        \"Net forest gain\"\n",
    "      ],\n",
    "      \"range\": [\n",
    "        \"black\"\n",
    "      ]\n",
    "    }\n",
    "  ],\n",
    "  \"axes\": [\n",
    "    {\n",
    "      \"orient\": \"left\",\n",
    "      \"scale\": \"yscale\",\n",
    "      \"title\": \"Area (sq. km)\",\n",
    "      \"encode\": {\n",
    "        \"labels\": {\n",
    "          \"interactive\": true,\n",
    "          \"enter\": {\n",
    "          },\n",
    "          \"update\": {\n",
    "            \"align\": {\"value\": \"right\"},\n",
    "            \"baseline\": {\"value\": \"middle\"},\n",
    "            \"dx\": {\"value\": 4},\n",
    "            \"fill\": {\"value\": \"#717171\"}\n",
    "          },\n",
    "          \"hover\": {\n",
    "            \"fill\": {\"value\": \"firebrick\"}\n",
    "          }\n",
    "        }\n",
    "      }\n",
    "    },\n",
    "    {\n",
    "      \"orient\": \"bottom\",\n",
    "      \"scale\": \"xscale\",\n",
    "      \"tickSize\": 0,\n",
    "      \"labelPadding\": 4,\n",
    "      \"zindex\": 1,\n",
    "      \"encode\": {\n",
    "        \"labels\": {\n",
    "          \"interactive\": true,\n",
    "          \"enter\": {\n",
    "          },\n",
    "          \"update\": {\n",
    "            \"fill\": {\"value\": \"#717171\"}\n",
    "          },\n",
    "          \"hover\": {\n",
    "            \"fill\": {\n",
    "              \"value\": \"black\"\n",
    "            }\n",
    "          }\n",
    "        }\n",
    "      }\n",
    "    }\n",
    "  ],\n",
    "  \"marks\": [\n",
    "    {\n",
    "      \"name\": \"bars\",\n",
    "      \"from\": {\"data\": \"table\"},\n",
    "      \"type\": \"rect\",\n",
    "      \"encode\": {\n",
    "        \"enter\": {\n",
    "          \"x\": {\"scale\": \"xscale\", \"field\": \"date\"},\n",
    "          \"width\": {\"scale\": \"xscale\", \"band\": 1.0},\n",
    "          \"y\": {\"scale\": \"yscale\", \"value\": 0},\n",
    "          \"y2\": {\"scale\": \"yscale\", \"field\": \"value\"},\n",
    "          \"fill\": {\"scale\": \"color\", \"field\": \"alias\"}\n",
    "        },\n",
    "        \"hover\": {\"fillOpacity\": {\"value\": 0.5}},\n",
    "        \"update\": {\"fillOpacity\": {\"value\": 1}}\n",
    "      }\n",
    "    },\n",
    "    {\n",
    "      \"name\": \"line\",\n",
    "      \"from\": {\"data\": \"net\"},\n",
    "      \"type\": \"line\",\n",
    "      \"encode\": {\n",
    "        \"enter\": {\n",
    "          \"x\": {\n",
    "            \"signal\": \"scale('xscale',datum.date)+bandwidth('xscale')/2\"\n",
    "          },\n",
    "          \"y\": {\"scale\": \"yscale\", \"field\": \"net_value\"},\n",
    "          \"stroke\": {\"value\": \"black\"}\n",
    "        }\n",
    "      }\n",
    "    }\n",
    "  ],\n",
    "  \"legends\": [\n",
    "    {\n",
    "      \"fill\": \"color\",\n",
    "      \"orient\": \"right\"\n",
    "    },\n",
    "    {\n",
    "      \"fill\": \"line-color\",\n",
    "      \"orient\": \"right\",\n",
    "      \"encode\": {\n",
    "        \"symbols\": {\n",
    "          \"update\": {\n",
    "            \"size\": {\"value\": 80},\n",
    "            \"stroke\": {\"value\": \"black\"},\n",
    "            \"shape\": {\n",
    "              \"value\": \"stroke\"\n",
    "            }\n",
    "          }\n",
    "        }\n",
    "      }\n",
    "    }\n",
    "  ],\n",
    "  \"interaction_config\": [\n",
    "    {\n",
    "      \"name\": \"tooltip\",\n",
    "      \"config\": {\n",
    "        \"fields\": [\n",
    "          {\n",
    "            \"column\": \"abs_value\",\n",
    "            \"property\": \"Area (sq. km)\",\n",
    "            \"type\": \"number\",\n",
    "            \"format\": \",.1f\"\n",
    "          }\n",
    "        ]\n",
    "      }\n",
    "    }\n",
    "  ]\n",
    "}\n",
    "\"\"\")\n",
    "vega_view=dict(spec)\n",
    "vega_view['width']=widget_width\n",
    "vega_view['height']=widget_height\n",
    "Vega(vega_view)"
   ]
  },
  {
   "cell_type": "markdown",
   "id": "788ad404",
   "metadata": {},
   "source": [
    "# RW API\n",
    "Parent dataset [soc.104.rw0 Global Land Cover](https://resourcewatch.org/data/explore/Global-Land-Cover-UN-FAO-LCCS-Classification) ([Admin](https://resourcewatch.org/admin/data/datasets/b2f00f99-46ed-43e6-a7a1-a5809d9369d4/edit))    \n",
    "[API ID](https://api.resourcewatch.org/v1/dataset/b2f00f99-46ed-43e6-a7a1-a5809d9369d4/) `b2f00f99-46ed-43e6-a7a1-a5809d9369d4`  \n",
    "[Widgets](https://api.resourcewatch.org/v1/dataset/b2f00f99-46ed-43e6-a7a1-a5809d9369d4/widget)"
   ]
  },
  {
   "cell_type": "markdown",
   "id": "6a814ba8",
   "metadata": {},
   "source": [
    "Widgets created via [widget scripts](https://github.com/resource-watch/data-team-tools/tree/master/advanced_widget_writer).  "
   ]
  },
  {
   "cell_type": "markdown",
   "id": "39b359c7",
   "metadata": {},
   "source": [
    "## Demo: Brazil"
   ]
  },
  {
   "cell_type": "code",
   "execution_count": 2,
   "id": "e052733e",
   "metadata": {},
   "outputs": [],
   "source": [
    "dataset_id = 'b2f00f99-46ed-43e6-a7a1-a5809d9369d4'\n",
    "name = 'Land Cover Change in Brazil, 2015–2019: Deforestation and Crop Expansion'\n",
    "description = 'Area of land that changed from forest to cropland or vice versa, year on year'"
   ]
  },
  {
   "cell_type": "markdown",
   "id": "9fdc98e3",
   "metadata": {},
   "source": [
    "- [Brazil](https://api.resourcewatch.org/v1/widget/0e8df4ea-d191-4c46-a626-268a4f23d18a?env=production) `0e8df4ea-d191-4c46-a626-268a4f23d18a`  "
   ]
  },
  {
   "cell_type": "markdown",
   "id": "586da836",
   "metadata": {},
   "source": [
    "## Parameterized Version"
   ]
  },
  {
   "cell_type": "code",
   "execution_count": 6,
   "id": "138ec1a4",
   "metadata": {},
   "outputs": [],
   "source": [
    "dataset_id = 'b2f00f99-46ed-43e6-a7a1-a5809d9369d4'\n",
    "name = 'Deforestation and Crop Expansion, 2015–2019'\n",
    "description = 'Area of land that changed from forest to cropland or vice versa, year on year'"
   ]
  },
  {
   "cell_type": "markdown",
   "id": "c3640c1b",
   "metadata": {},
   "source": [
    "- [Country Page](https://api.resourcewatch.org/v1/widget/15b5ec89-0ea6-4cd4-beac-7caceb80e42c?env=production) `15b5ec89-0ea6-4cd4-beac-7caceb80e42c`  "
   ]
  }
 ],
 "metadata": {
  "kernelspec": {
   "display_name": "rw",
   "language": "python",
   "name": "rw"
  },
  "language_info": {
   "codemirror_mode": {
    "name": "ipython",
    "version": 3
   },
   "file_extension": ".py",
   "mimetype": "text/x-python",
   "name": "python",
   "nbconvert_exporter": "python",
   "pygments_lexer": "ipython3",
   "version": "3.7.10"
  }
 },
 "nbformat": 4,
 "nbformat_minor": 5
}
