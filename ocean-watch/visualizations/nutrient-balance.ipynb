{
 "cells": [
  {
   "cell_type": "markdown",
   "id": "a0ac5b4c",
   "metadata": {},
   "source": [
    "# Nutrient Balance - Phosphorus and Nitrogen\n",
    "Phosphorus and nitrogen balance (surfeit +, deficit -) time series by country/territory.  \n",
    "\n",
    "Note that this is a parameterized widget; the specification passed to the API will not be renderable without the geostore identifier being inserted.  \n",
    "\n",
    "_Author: Peter Kerins_  \n",
    "_Created: 23 Aug 2021_  \n",
    "_Environment: jupyterlab_  "
   ]
  },
  {
   "cell_type": "markdown",
   "id": "e1618df9",
   "metadata": {},
   "source": [
    "## Style\n",
    "- Vega chart\n",
    "- Ocean Watch country page - parameterized chart\n",
    "- Line chart\n",
    "- Multiline"
   ]
  },
  {
   "cell_type": "markdown",
   "id": "654d6c9f",
   "metadata": {},
   "source": [
    "## Data\n",
    "Underlying dataset: [foo.063.rw0 Nutrient Balance](https://resourcewatch.carto.com/u/wri-rw/dataset/foo_063_rw0_nutrient_balance_edit)  \n",
    "Widget data: [ow_widget_territory](https://resourcewatch.carto.com/u/wri-rw/dataset/ow_widget_territory) (master table for all territory-based widgets on Ocean Watch)  "
   ]
  },
  {
   "cell_type": "markdown",
   "id": "c507b92f",
   "metadata": {},
   "source": [
    "## Preparation"
   ]
  },
  {
   "cell_type": "code",
   "execution_count": 1,
   "id": "a56b5ca9",
   "metadata": {
    "jupyter": {
     "source_hidden": true
    },
    "tags": []
   },
   "outputs": [],
   "source": [
    "import json\n",
    "from vega import Vega\n",
    "from IPython.display import display"
   ]
  },
  {
   "cell_type": "code",
   "execution_count": 2,
   "id": "20c355f5",
   "metadata": {
    "jupyter": {
     "source_hidden": true
    }
   },
   "outputs": [],
   "source": [
    "def Vega(spec):\n",
    "    bundle = {}\n",
    "    bundle['application/vnd.vega.v5+json'] = spec\n",
    "    display(bundle, raw=True)"
   ]
  },
  {
   "cell_type": "code",
   "execution_count": 3,
   "id": "6a72a969",
   "metadata": {
    "jupyter": {
     "source_hidden": true
    },
    "tags": []
   },
   "outputs": [],
   "source": [
    "widget_width = 400\n",
    "widget_height = 300"
   ]
  },
  {
   "cell_type": "markdown",
   "id": "2a0a7224",
   "metadata": {},
   "source": [
    "# Widget"
   ]
  },
  {
   "cell_type": "markdown",
   "id": "3d064692",
   "metadata": {},
   "source": [
    "## Demo Query\n",
    "`gid_0 = <territory>` used as stand-in for parameterization\n",
    "```sql\n",
    "SELECT gid_0, name_0, variable, date, value \n",
    "FROM ow_widget_territory\n",
    "WHERE widget ILIKE 'nutrient_balance'\n",
    "AND gid_0 = 'BRA' \n",
    "ORDER BY gid_0 ASC, variable ASC, date ASC\n",
    "```"
   ]
  },
  {
   "cell_type": "markdown",
   "id": "4640d6ab",
   "metadata": {},
   "source": [
    "## Parameterized Query\n",
    "```sql\n",
    "SELECT territory.gid_0, territory.name_0, variable, date, value\n",
    "FROM ow_widget_territory AS territory\n",
    "LEFT OUTER JOIN gadm36_0 AS gadm ON territory.gid_0 = gadm.gid_0\n",
    "WHERE territory.widget ILIKE 'nutrient_balance'\n",
    "AND gadm.{{geostore_env}}='{{geostore_id}}'\n",
    "ORDER BY territory.gid_0 ASC, territory.variable ASC, territory.date ASC\n",
    "```"
   ]
  },
  {
   "cell_type": "markdown",
   "id": "e37cae40",
   "metadata": {},
   "source": [
    "## Specification\n",
    "Vega code presumes RW-style `config` element present"
   ]
  },
  {
   "cell_type": "code",
   "execution_count": 5,
   "id": "18e7d221",
   "metadata": {},
   "outputs": [
    {
     "data": {
      "application/vnd.vega.v5+json": {
       "autosize": {
        "contains": "padding",
        "type": "fit"
       },
       "axes": [
        {
         "domain": true,
         "format": "%Y",
         "grid": false,
         "labelBaseline": "middle",
         "labelFlush": true,
         "labelFont": "Arial",
         "labelFontSize": 10,
         "labelOverlap": true,
         "orient": "bottom",
         "scale": "xscale",
         "tickSize": 5,
         "ticks": true
        },
        {
         "domain": false,
         "encode": {
          "labels": {
           "hover": {
            "fill": {
             "value": "firebrick"
            }
           },
           "interactive": true,
           "update": {
            "fill": {
             "value": "grey"
            }
           }
          },
          "ticks": {
           "update": {
            "stroke": {
             "value": "steelblue"
            }
           }
          }
         },
         "grid": true,
         "gridOpacity": 0.2,
         "labelAlign": "right",
         "labelBaseline": "middle",
         "labelFont": "Arial",
         "labelFontSize": 10,
         "labelPadding": 5,
         "offset": 3,
         "orient": "left",
         "scale": "yscale",
         "ticks": false,
         "title": "Nutrient balance (kg/ha)"
        }
       ],
       "data": [
        {
         "format": {
          "parse": {
           "date": "utc:'%Y'"
          },
          "property": "rows",
          "type": "json"
         },
         "name": "table",
         "transform": [
          {
           "as": "nutrient",
           "expr": "slice(datum.variable,0,indexof(datum.variable,' '))",
           "type": "formula"
          }
         ],
         "url": "https://wri-rw.carto.com/api/v2/sql?q=SELECT gid_0, name_0, variable, date, value FROM ow_widget_territory WHERE widget ILIKE 'nutrient_balance' AND gid_0 = 'ARG' ORDER BY gid_0 ASC, variable ASC, date ASC"
        }
       ],
       "description": "Nutrient balance of phosphorus and nitrogen time series, by country",
       "height": 300,
       "marks": [
        {
         "from": {
          "facet": {
           "data": "table",
           "groupby": "nutrient",
           "name": "series"
          }
         },
         "marks": [
          {
           "encode": {
            "enter": {
             "interpolate": {
              "value": "linear"
             },
             "stroke": {
              "field": "nutrient",
              "scale": "colorscale"
             },
             "strokeDash": {
              "value": "2,1"
             },
             "strokeWidth": {
              "value": 1.5
             },
             "x": {
              "field": "date",
              "scale": "xscale"
             },
             "y": {
              "field": "value",
              "scale": "yscale"
             }
            }
           },
           "from": {
            "data": "series"
           },
           "type": "line"
          },
          {
           "encode": {
            "enter": {
             "fillOpacity": {
              "value": 1
             },
             "interpolate": {
              "value": "monotone"
             },
             "shape": {
              "field": "nutrient",
              "scale": "shapescale"
             },
             "size": {
              "signal": "width/4"
             },
             "stroke": {
              "field": "nutrient",
              "scale": "colorscale"
             },
             "strokeOpacity": {
              "value": 1
             },
             "strokeWidth": {
              "value": 1.5
             },
             "tooltip": {
              "signal": "{'Year':timeFormat(datum.date,'%Y'),'Nutrient':datum.nutrient,'Balance':(datum.value >= 0 ? '+' : '')+format(datum.value,'')+' kg/ha'}"
             },
             "x": {
              "field": "date",
              "scale": "xscale"
             },
             "y": {
              "field": "value",
              "scale": "yscale"
             }
            },
            "hover": {
             "fill": {
              "field": "nutrient",
              "scale": "colorscale"
             }
            },
            "update": {
             "fill": {
              "value": "white"
             }
            }
           },
           "from": {
            "data": "series"
           },
           "type": "symbol"
          }
         ],
         "type": "group"
        }
       ],
       "padding": 0,
       "scales": [
        {
         "domain": {
          "data": "table",
          "fields": [
           "date"
          ]
         },
         "name": "xscale",
         "padding": 0,
         "range": "width",
         "type": "time"
        },
        {
         "domain": {
          "data": "table",
          "field": "value"
         },
         "name": "yscale",
         "padding": 0,
         "range": "height",
         "type": "linear"
        },
        {
         "domain": [
          "Nitrogen",
          "Phosphorus"
         ],
         "name": "colorscale",
         "range": [
          "blue",
          "purple"
         ],
         "type": "ordinal"
        },
        {
         "domain": [
          "Nitrogen",
          "Phosphorus"
         ],
         "name": "shapescale",
         "range": [
          "circle",
          "diamond"
         ],
         "type": "ordinal"
        }
       ],
       "schema": "https://vega.github.io/schema/vega/v5.json",
       "signals": [],
       "width": 400
      }
     },
     "metadata": {},
     "output_type": "display_data"
    }
   ],
   "source": [
    "spec=json.loads(\"\"\"\n",
    "{\n",
    "  \"schema\": \"https://vega.github.io/schema/vega/v5.json\",\n",
    "  \"description\": \"Nutrient balance of phosphorus and nitrogen time series, by country\",\n",
    "  \"width\": 400,\n",
    "  \"height\": 250,\n",
    "  \"padding\": 0,\n",
    "  \"autosize\": {\"type\": \"fit\", \"contains\": \"padding\"},\n",
    "  \"signals\": [],\n",
    "  \"data\": [\n",
    "    {\n",
    "      \"name\": \"table\",\n",
    "      \"url\": \"https://wri-rw.carto.com/api/v2/sql?q=SELECT gid_0, name_0, variable, date, value FROM ow_widget_territory WHERE widget ILIKE 'nutrient_balance' AND gid_0 = 'ARG' ORDER BY gid_0 ASC, variable ASC, date ASC\",\n",
    "      \"format\": {\n",
    "        \"type\": \"json\",\n",
    "        \"property\": \"rows\",\n",
    "        \"parse\": {\"date\": \"utc:'%Y'\"}\n",
    "      },\n",
    "      \"transform\": [\n",
    "        {\n",
    "          \"type\": \"formula\",\n",
    "          \"expr\": \"slice(datum.variable,0,indexof(datum.variable,' '))\",\n",
    "          \"as\": \"nutrient\"\n",
    "        }\n",
    "      ]\n",
    "    }\n",
    "  ],\n",
    "  \"scales\": [\n",
    "    {\n",
    "      \"name\": \"xscale\",\n",
    "      \"type\": \"time\",\n",
    "      \"domain\": {\"data\": \"table\", \"fields\": [\"date\"]},\n",
    "      \"range\": \"width\",\n",
    "      \"padding\": 0\n",
    "    },\n",
    "    {\n",
    "      \"name\": \"yscale\",\n",
    "      \"type\": \"linear\",\n",
    "      \"domain\": {\"data\": \"table\", \"field\": \"value\"},\n",
    "      \"range\": \"height\",\n",
    "      \"padding\": 0\n",
    "    },\n",
    "    {\n",
    "      \"name\": \"colorscale\",\n",
    "      \"type\": \"ordinal\",\n",
    "      \"domain\": [\n",
    "        \"Nitrogen\",\n",
    "        \"Phosphorus\"\n",
    "      ],\n",
    "      \"range\": [\n",
    "        \"blue\",\n",
    "        \"purple\"\n",
    "      ]\n",
    "    },\n",
    "    {\n",
    "      \"name\": \"shapescale\",\n",
    "      \"type\": \"ordinal\",\n",
    "      \"domain\": [\n",
    "        \"Nitrogen\",\n",
    "        \"Phosphorus\"\n",
    "      ],\n",
    "      \"range\": [\n",
    "        \"circle\",\n",
    "        \"diamond\"\n",
    "      ]\n",
    "    }\n",
    "  ],\n",
    "  \"axes\": [\n",
    "    {\n",
    "      \"orient\": \"bottom\",\n",
    "      \"scale\": \"xscale\",\n",
    "      \"labelFlush\": true,\n",
    "      \"labelOverlap\": true,\n",
    "      \"labelBaseline\": \"middle\",\n",
    "      \"domain\": true,\n",
    "      \"ticks\": true,\n",
    "      \"tickSize\": 5,\n",
    "      \"grid\": false,\n",
    "      \"labelFontSize\": 10,\n",
    "      \"labelFont\": \"Arial\",\n",
    "      \"format\": \"%Y\"\n",
    "    },\n",
    "    {\n",
    "      \"orient\": \"left\",\n",
    "      \"scale\": \"yscale\",\n",
    "      \"title\": \"Nutrient balance (kg/ha)\",\n",
    "      \"labelBaseline\": \"middle\",\n",
    "      \"labelAlign\": \"right\",\n",
    "      \"labelPadding\": 5,\n",
    "      \"domain\": false,\n",
    "      \"grid\": true,\n",
    "      \"gridOpacity\": 0.2,\n",
    "      \"labelFontSize\": 10,\n",
    "      \"offset\": 3,\n",
    "      \"ticks\": false,\n",
    "      \"labelFont\": \"Arial\",\n",
    "      \"encode\": {\n",
    "        \"ticks\": {\n",
    "          \"update\": {\n",
    "            \"stroke\": {\"value\": \"steelblue\"}\n",
    "          }\n",
    "        },\n",
    "        \"labels\": {\n",
    "          \"interactive\": true,\n",
    "          \"update\": {\n",
    "            \"fill\": {\"value\": \"grey\"}\n",
    "          },\n",
    "          \"hover\": {\n",
    "            \"fill\": {\"value\": \"firebrick\"}\n",
    "          }\n",
    "        }\n",
    "      }\n",
    "    }\n",
    "  ],\n",
    "  \"marks\": [\n",
    "    {\n",
    "      \"type\": \"group\",\n",
    "      \"from\": {\n",
    "        \"facet\": {\n",
    "          \"name\": \"series\",\n",
    "          \"data\": \"table\",\n",
    "          \"groupby\": \"nutrient\"\n",
    "        }\n",
    "      },\n",
    "      \"marks\": [\n",
    "        {\n",
    "          \"type\": \"line\",\n",
    "          \"from\": {\"data\": \"series\"},\n",
    "          \"encode\": {\n",
    "            \"enter\": {\n",
    "              \"x\": {\"scale\": \"xscale\", \"field\": \"date\"},\n",
    "              \"y\": {\"scale\": \"yscale\", \"field\": \"value\"},\n",
    "              \"stroke\": {\"scale\": \"colorscale\", \"field\": \"nutrient\"},\n",
    "              \"strokeWidth\": {\"value\": 1.5},\n",
    "              \"strokeDash\": {\"value\": \"2,1\"},\n",
    "              \"interpolate\": {\"value\": \"linear\"}\n",
    "            }\n",
    "          }\n",
    "        },\n",
    "        {\n",
    "          \"type\": \"symbol\",\n",
    "          \"from\": {\"data\": \"series\"},\n",
    "          \"encode\": {\n",
    "            \"enter\": {\n",
    "              \"x\": {\"scale\": \"xscale\", \"field\": \"date\"},\n",
    "              \"y\": {\"scale\": \"yscale\", \"field\": \"value\"},\n",
    "              \"stroke\": {\"scale\": \"colorscale\", \"field\": \"nutrient\"},\n",
    "              \"shape\": {\"scale\": \"shapescale\", \"field\": \"nutrient\"},\n",
    "              \"strokeWidth\": {\"value\": 1.5},\n",
    "              \"size\": {\"signal\": \"width/4\"},\n",
    "              \"tooltip\": {\n",
    "                \"signal\": \"{'Year':timeFormat(datum.date,'%Y'),'Nutrient':datum.nutrient,'Balance':(datum.value >= 0 ? '+' : '')+format(datum.value,'')+' kg/ha'}\"\n",
    "              },\n",
    "              \"interpolate\": {\"value\": \"monotone\"},\n",
    "              \"fillOpacity\": {\"value\": 1.0},\n",
    "              \"strokeOpacity\": {\"value\": 1.0}\n",
    "            },\n",
    "            \"update\": {\n",
    "              \"fill\": {\"value\": \"white\"}\n",
    "            },\n",
    "            \"hover\": {\n",
    "              \"fill\": {\"scale\": \"colorscale\", \"field\": \"nutrient\"}\n",
    "            }\n",
    "          }\n",
    "        }\n",
    "      ]\n",
    "    }\n",
    "  ]\n",
    "}\n",
    "\"\"\")\n",
    "vega_view=dict(spec)\n",
    "vega_view['width']=widget_width\n",
    "vega_view['height']=widget_height\n",
    "Vega(vega_view)"
   ]
  },
  {
   "cell_type": "markdown",
   "id": "4f3e36d5",
   "metadata": {},
   "source": [
    "# RW API"
   ]
  },
  {
   "cell_type": "markdown",
   "id": "bf2ee85f",
   "metadata": {},
   "source": [
    "Parameterized widgets created via [widget scripts](https://github.com/resource-watch/data-team-tools/tree/master/advanced_widget_writer).  "
   ]
  },
  {
   "cell_type": "markdown",
   "id": "a26ef2d0",
   "metadata": {},
   "source": [
    "[foo.063.rw0 Nutrient Balance]() ([Admin](https://resourcewatch.org/admin/data/datasets/adba3cb5-7f18-491f-b31a-1b8b8c03fa67/edit))  \n",
    "`adba3cb5-7f18-491f-b31a-1b8b8c03fa67`  \n",
    "[Dataset](https://api.resourcewatch.org/v1/dataset/adba3cb5-7f18-491f-b31a-1b8b8c03fa67/), [Widgets](https://api.resourcewatch.org/v1/dataset/adba3cb5-7f18-491f-b31a-1b8b8c03fa67/widget)"
   ]
  },
  {
   "cell_type": "code",
   "execution_count": 5,
   "id": "e4e04216",
   "metadata": {},
   "outputs": [],
   "source": [
    "dataset_id = 'adba3cb5-7f18-491f-b31a-1b8b8c03fa67'\n",
    "name = 'Nutrient Balance'\n",
    "description = 'Time series of nutrient balance for phosphorus and nitrogen, by country'"
   ]
  },
  {
   "cell_type": "markdown",
   "id": "da4777c2",
   "metadata": {},
   "source": [
    "- [Country](https://api.resourcewatch.org/v1/widget/4e8f077f-bed7-44f7-8d52-d793b485f301?env=production) `4e8f077f-bed7-44f7-8d52-d793b485f301`  "
   ]
  }
 ],
 "metadata": {
  "kernelspec": {
   "display_name": "rw",
   "language": "python",
   "name": "rw"
  },
  "language_info": {
   "codemirror_mode": {
    "name": "ipython",
    "version": 3
   },
   "file_extension": ".py",
   "mimetype": "text/x-python",
   "name": "python",
   "nbconvert_exporter": "python",
   "pygments_lexer": "ipython3",
   "version": "3.7.10"
  }
 },
 "nbformat": 4,
 "nbformat_minor": 5
}
