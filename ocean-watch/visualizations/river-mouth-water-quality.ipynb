{
 "cells": [
  {
   "cell_type": "markdown",
   "id": "889ab015",
   "metadata": {},
   "source": [
    "# Chemical Concentrations at River Mouths\n",
    "Longitudinal concentrations of various chemicals at a range of depths, for all locations where (large) rivers meet the ocean.  \n",
    "\n",
    "Note that this is a parameterized widget; the specification passed to the API will not be renderable without the geostore identifier being inserted.  \n",
    "\n",
    "_Author: Peter Kerins_  \n",
    "_Created: 4 Aug 2021_  \n",
    "_Environment: jupyterlab_  "
   ]
  },
  {
   "cell_type": "markdown",
   "id": "215331d4",
   "metadata": {},
   "source": [
    "## Style\n",
    "- Vega chart\n",
    "- Ocean Watch country page - parameterized chart\n",
    "- Time series\n",
    "- Line or multiline"
   ]
  },
  {
   "cell_type": "markdown",
   "id": "93f949db",
   "metadata": {},
   "source": [
    "## Data\n",
    "See [explanatory notebook](../cmems-wms-data-retrieval.ipynb).   \n",
    "Carto: [ow_widget_basin](https://resourcewatch.carto.com/u/wri-rw/dataset/ow_widget_basin) (master table for all basin widgets on Ocean Watch)  "
   ]
  },
  {
   "cell_type": "markdown",
   "id": "687f571d",
   "metadata": {},
   "source": [
    "## Preparation"
   ]
  },
  {
   "cell_type": "code",
   "execution_count": 1,
   "id": "f24d899e",
   "metadata": {
    "jupyter": {
     "source_hidden": true
    }
   },
   "outputs": [],
   "source": [
    "import json\n",
    "from vega import Vega\n",
    "from IPython.display import display"
   ]
  },
  {
   "cell_type": "code",
   "execution_count": 2,
   "id": "ae077fc8",
   "metadata": {
    "jupyter": {
     "source_hidden": true
    }
   },
   "outputs": [],
   "source": [
    "def Vega(spec):\n",
    "    bundle = {}\n",
    "    bundle['application/vnd.vega.v5+json'] = spec\n",
    "    display(bundle, raw=True)"
   ]
  },
  {
   "cell_type": "code",
   "execution_count": 3,
   "id": "528ac11d",
   "metadata": {
    "jupyter": {
     "source_hidden": true
    },
    "tags": []
   },
   "outputs": [],
   "source": [
    "widget_width = 400\n",
    "widget_height = 300"
   ]
  },
  {
   "cell_type": "markdown",
   "id": "f0dce594",
   "metadata": {},
   "source": [
    "# Widget"
   ]
  },
  {
   "cell_type": "markdown",
   "id": "b5b34a7b",
   "metadata": {},
   "source": [
    "## Demo Query\n",
    "`hybas_id = <basin>` used as stand-in for parameterization\n",
    "\n",
    "```sql\n",
    "SELECT subq.*, rivers.ord_flow FROM (\n",
    "  SELECT identifier AS hyriv_id, hybas_id, variable_a AS variable, date, AVG(value) AS avg_value\n",
    "  FROM ow_widget_basin_demo\n",
    "  WHERE variable_a = 'no3'\n",
    "  AND hybas_id = '1060031090'\n",
    "  GROUP BY identifier, hybas_id, variable_a, date) AS subq\n",
    "LEFT OUTER JOIN ocn_calcs_010_target_river_mouths AS rivers ON rivers.hyriv_id = subq.hyriv_id\n",
    "```"
   ]
  },
  {
   "cell_type": "markdown",
   "id": "26b820a5",
   "metadata": {},
   "source": [
    "## Parameterized Query\n",
    "```sql\n",
    "SELECT subq.*, rivers.ord_flow FROM (\n",
    "  SELECT identifier AS hyriv_id, hybas_id, variable_a AS variable, date, AVG(value) AS avg_value\n",
    "  FROM ow_widget_basin_demo\n",
    "  WHERE widget ILIKE 'river mouth water: %'\n",
    "  GROUP BY identifier, hybas_id, variable_a, date) AS subq\n",
    "LEFT OUTER JOIN ocn_calcs_010_target_river_mouths AS rivers ON rivers.hyriv_id = subq.hyriv_id\n",
    "LEFT OUTER JOIN wat_068_rw0_watersheds_edit AS basins ON basins.hybas_id = subq.hybas_id::INTEGER\n",
    "WHERE basins.{{geostore_env}}='{{geostore_id}}'\n",
    "```"
   ]
  },
  {
   "cell_type": "markdown",
   "id": "9b4fdd95",
   "metadata": {},
   "source": [
    "## Specification\n",
    "Vega code presumes RW-style `config` element present"
   ]
  },
  {
   "cell_type": "code",
   "execution_count": 10,
   "id": "1bf881c0",
   "metadata": {},
   "outputs": [
    {
     "data": {
      "application/vnd.vega.v5+json": {
       "autosize": {
        "contains": "padding",
        "type": "fit"
       },
       "axes": [
        {
         "format": "%b %Y",
         "labelBaseline": "middle",
         "labelFlush": true,
         "labelFont": "Arial",
         "labelFontSize": 10,
         "labelOverlap": true,
         "orient": "bottom",
         "scale": "xscale",
         "ticks": false
        },
        {
         "grid": true,
         "gridOpacity": 0.2,
         "labelAlign": "right",
         "labelBaseline": "middle",
         "labelFont": "Arial",
         "labelFontSize": 10,
         "labelPadding": 3,
         "orient": "left",
         "scale": "yscale",
         "title": "Concentration (millimole per cubic meter)"
        }
       ],
       "data": [
        {
         "format": {
          "parse": {
           "date": "utc:'%Y-%m-%d %H:%M:%S'"
          },
          "property": "rows",
          "type": "json"
         },
         "name": "table",
         "transform": [
          {
           "expr": "datum.variable==variable",
           "type": "filter"
          }
         ],
         "url": "https://wri-rw.carto.com/api/v2/sql?q=SELECT subq.*, rivers.ord_flow FROM (SELECT identifier AS hyriv_id, hybas_id, variable_a AS variable, date, AVG(value) AS avg_value FROM ow_widget_basin_demo WHERE hybas_id = '1030029810' GROUP BY identifier, hybas_id, variable_a, date) AS subq LEFT OUTER JOIN ocn_calcs_010_target_river_mouths AS rivers ON rivers.hyriv_id = subq.hyriv_id"
        }
       ],
       "description": "Chemical concentration of various nutrient-type molecules at river mouths in corresponding basin",
       "height": 300,
       "marks": [
        {
         "from": {
          "facet": {
           "data": "table",
           "groupby": "hyriv_id",
           "name": "series"
          }
         },
         "marks": [
          {
           "encode": {
            "enter": {
             "stroke": {
              "field": "hyriv_id",
              "scale": "colorscale"
             },
             "strokeWidth": {
              "field": "ord_flow",
              "scale": "lineweight"
             },
             "tooltip": {
              "signal": "{'River ID':datum.hyriv_id, 'Date':timeFormat(datum.date, '%B %Y'), 'Concentration':format(datum.avg_value, '.3f')+' mmol/m^3'}"
             },
             "x": {
              "field": "date",
              "scale": "xscale"
             },
             "y": {
              "field": "avg_value",
              "scale": "yscale"
             }
            },
            "hover": {
             "strokeOpacity": {
              "value": 0.5
             }
            },
            "update": {
             "strokeOpacity": {
              "value": 1
             }
            }
           },
           "from": {
            "data": "series"
           },
           "type": "line"
          }
         ],
         "type": "group"
        }
       ],
       "padding": 0,
       "scales": [
        {
         "domain": {
          "data": "table",
          "field": "date"
         },
         "name": "xscale",
         "padding": 0,
         "range": "width",
         "type": "time"
        },
        {
         "domain": {
          "data": "table",
          "field": "avg_value"
         },
         "name": "yscale",
         "nice": true,
         "range": "height",
         "type": "linear"
        },
        {
         "domain": {
          "data": "table",
          "field": "hyriv_id"
         },
         "name": "colorscale",
         "range": "category",
         "type": "ordinal"
        },
        {
         "domain": [
          1,
          2,
          3,
          4,
          5
         ],
         "name": "lineweight",
         "range": [
          4,
          3.5,
          3,
          2.5,
          2
         ],
         "type": "ordinal"
        }
       ],
       "schema": "https://vega.github.io/schema/vega/v5.json",
       "signals": [
        {
         "description": "Chemical/product of interest",
         "name": "variable",
         "value": "no3"
        }
       ],
       "width": 400
      },
      "image/png": "[encoded data removed]"
     },
     "metadata": {},
     "output_type": "display_data"
    }
   ],
   "source": [
    "spec=json.loads(\"\"\"\n",
    "{\n",
    "  \"schema\": \"https://vega.github.io/schema/vega/v5.json\",\n",
    "  \"description\": \"Chemical concentration of various nutrient-type molecules at river mouths in corresponding basin\",\n",
    "  \"width\": 400,\n",
    "  \"height\": 250,\n",
    "  \"padding\": 0,\n",
    "  \"autosize\": {\"type\": \"fit\", \"contains\": \"padding\"},\n",
    "  \"signals\": [\n",
    "    {\n",
    "      \"name\": \"variable\",\n",
    "      \"description\": \"Chemical/product of interest\",\n",
    "      \"value\": \"no3\"\n",
    "    }\n",
    "  ],\n",
    "  \"data\": [\n",
    "    {\n",
    "      \"name\": \"table\",\n",
    "      \"url\": \"https://wri-rw.carto.com/api/v2/sql?q=SELECT subq.*, rivers.ord_flow FROM (SELECT identifier AS hyriv_id, hybas_id, variable_a AS variable, date, AVG(value) AS avg_value FROM ow_widget_basin_demo WHERE hybas_id = '1030029810' GROUP BY identifier, hybas_id, variable_a, date) AS subq LEFT OUTER JOIN ocn_calcs_010_target_river_mouths AS rivers ON rivers.hyriv_id = subq.hyriv_id\",\n",
    "      \"format\": {\n",
    "        \"type\": \"json\",\n",
    "        \"property\": \"rows\",\n",
    "        \"parse\": {\"date\": \"utc:'%Y-%m-%d %H:%M:%S'\"}\n",
    "      },\n",
    "      \"transform\": [\n",
    "        {\n",
    "          \"type\": \"filter\",\n",
    "          \"expr\": \"datum.variable==variable\"\n",
    "        }\n",
    "      ]\n",
    "    }\n",
    "  ],\n",
    "  \"scales\": [\n",
    "    {\n",
    "      \"name\": \"xscale\",\n",
    "      \"type\": \"time\",\n",
    "      \"domain\": {\"data\": \"table\", \"field\": \"date\"},\n",
    "      \"range\": \"width\",\n",
    "      \"padding\": 0\n",
    "    },\n",
    "    {\n",
    "      \"name\": \"yscale\", \n",
    "      \"type\": \"linear\",\n",
    "      \"domain\": {\"data\": \"table\", \"field\": \"avg_value\"}, \n",
    "      \"nice\": true, \n",
    "      \"range\": \"height\"\n",
    "    },\n",
    "    {\n",
    "      \"name\": \"colorscale\",\n",
    "      \"type\": \"ordinal\",\n",
    "      \"range\": \"category\",\n",
    "      \"domain\": {\"data\": \"table\", \"field\": \"hyriv_id\"}\n",
    "    },\n",
    "    {\n",
    "      \"name\": \"lineweight\",\n",
    "      \"type\": \"ordinal\",\n",
    "      \"domain\": [1,2,3,4,5],\n",
    "      \"range\": [4,3.5,3,2.5,2]\n",
    "    }\n",
    "  ],\n",
    "  \"axes\": [\n",
    "    {\n",
    "      \"orient\": \"bottom\",\n",
    "      \"scale\": \"xscale\",\n",
    "      \"labelFlush\": true,\n",
    "      \"labelOverlap\": true,\n",
    "      \"labelBaseline\": \"middle\",\n",
    "      \"ticks\": false,\n",
    "      \"labelFontSize\": 10,\n",
    "      \"labelFont\": \"Arial\",\n",
    "      \"format\": \"%b %Y\"\n",
    "    },\n",
    "    {\n",
    "      \"orient\": \"left\",\n",
    "      \"scale\": \"yscale\",\n",
    "      \"title\": \"Concentration (millimole per cubic meter)\",\n",
    "      \"labelBaseline\": \"middle\",\n",
    "      \"labelAlign\": \"right\",\n",
    "      \"labelPadding\": 3,\n",
    "      \"grid\": true,\n",
    "      \"gridOpacity\": 0.2,\n",
    "      \"labelFontSize\": 10,\n",
    "      \"labelFont\": \"Arial\"\n",
    "    }\n",
    "  ],\n",
    "  \"marks\": [\n",
    "    {\n",
    "      \"type\": \"group\",\n",
    "      \"from\": {\n",
    "        \"facet\": {\n",
    "          \"name\": \"series\",\n",
    "          \"data\": \"table\",\n",
    "          \"groupby\": \"hyriv_id\"\n",
    "        }\n",
    "      },\n",
    "      \"marks\": [\n",
    "        {\n",
    "          \"type\": \"line\",\n",
    "          \"from\": {\"data\": \"series\"},\n",
    "          \"encode\": {\n",
    "            \"enter\": {\n",
    "              \"x\": {\"scale\": \"xscale\", \"field\": \"date\"},\n",
    "              \"y\": {\"scale\": \"yscale\", \"field\": \"avg_value\"},\n",
    "              \"stroke\": {\"scale\": \"colorscale\", \"field\": \"hyriv_id\"},\n",
    "              \"strokeWidth\": {\"scale\": \"lineweight\", \"field\": \"ord_flow\"},\n",
    "              \"tooltip\": {\n",
    "                \"signal\": \"{'River ID':datum.hyriv_id, 'Date':timeFormat(datum.date, '%B %Y'), 'Concentration':format(datum.avg_value, '.3f')+' mmol/m^3'}\"\n",
    "              }\n",
    "            },\n",
    "            \"update\": {\n",
    "              \"strokeOpacity\": {\"value\": 1}\n",
    "            },\n",
    "            \"hover\": {\n",
    "              \"strokeOpacity\": {\"value\": 0.5}\n",
    "            }\n",
    "          }\n",
    "        }\n",
    "      ]\n",
    "    }\n",
    "  ]\n",
    "}\n",
    "\"\"\")\n",
    "vega_view=dict(spec)\n",
    "vega_view['width']=widget_width\n",
    "vega_view['height']=widget_height\n",
    "Vega(vega_view)"
   ]
  },
  {
   "cell_type": "markdown",
   "id": "3087d806",
   "metadata": {},
   "source": [
    "# RW API"
   ]
  },
  {
   "cell_type": "markdown",
   "id": "3817a2ac",
   "metadata": {},
   "source": [
    "Parameterized widgets created via [widget scripts](https://github.com/resource-watch/data-team-tools/tree/master/advanced_widget_writer).  "
   ]
  },
  {
   "cell_type": "markdown",
   "id": "d30cbe2c",
   "metadata": {},
   "source": [
    "## Nitrate\n",
    "[ocn.020a.rw0 Ocean Nitrate Concentration](https://resourcewatch.org/data/explore/ocn020a-Nitrate-Concentration) ([Admin](https://resourcewatch.org/admin/data/datasets/92327c78-a473-402b-8edf-409869823216/edit))  \n",
    "`92327c78-a473-402b-8edf-409869823216`  \n",
    "[Dataset](https://api.resourcewatch.org/v1/dataset/92327c78-a473-402b-8edf-409869823216/), [Widgets](https://api.resourcewatch.org/v1/dataset/92327c78-a473-402b-8edf-409869823216/widget)"
   ]
  },
  {
   "cell_type": "code",
   "execution_count": 2,
   "id": "1e2a122c",
   "metadata": {},
   "outputs": [],
   "source": [
    "dataset_id = '92327c78-a473-402b-8edf-409869823216'\n",
    "name = 'Nitrate Concentration at River Mouths in Basin'\n",
    "description = 'Time series data of nitrate concentrations at river mouths within the basin'"
   ]
  },
  {
   "cell_type": "markdown",
   "id": "cef8d4c3",
   "metadata": {},
   "source": [
    "- [Nitrate](https://api.resourcewatch.org/v1/widget/80b7addc-f6ea-4d38-808c-359e49a8b84e?env=production) `80b7addc-f6ea-4d38-808c-359e49a8b84e`  "
   ]
  },
  {
   "cell_type": "markdown",
   "id": "4ceba6ce",
   "metadata": {},
   "source": [
    "## Phosphate\n",
    "[ocn.020b.rw0 Ocean Phosphate Concentration](https://resourcewatch.org/data/explore/ocn020b-Mole-Concentration-of-Nitrate) ([Admin](https://resourcewatch.org/admin/data/datasets/f1aa9ec7-c3b6-441c-b395-96fc796b7612/edit))  \n",
    "`f1aa9ec7-c3b6-441c-b395-96fc796b7612`  \n",
    "[Dataset](https://api.resourcewatch.org/v1/dataset/f1aa9ec7-c3b6-441c-b395-96fc796b7612/), [Widgets](https://api.resourcewatch.org/v1/dataset/f1aa9ec7-c3b6-441c-b395-96fc796b7612/widget)"
   ]
  },
  {
   "cell_type": "code",
   "execution_count": 2,
   "id": "20f44430",
   "metadata": {},
   "outputs": [],
   "source": [
    "dataset_id = 'f1aa9ec7-c3b6-441c-b395-96fc796b7612'\n",
    "name = 'Phosphate Concentration at River Mouths in Basin'\n",
    "description = 'Time series data of phosphate concentrations at river mouths within the basin'"
   ]
  },
  {
   "cell_type": "markdown",
   "id": "65f6370b",
   "metadata": {},
   "source": [
    "- [Phosphate](https://api.resourcewatch.org/v1/widget/d0b57543-e771-41e1-a9b6-a9487d5c3d5b?env=production) `d0b57543-e771-41e1-a9b6-a9487d5c3d5b`  "
   ]
  },
  {
   "cell_type": "markdown",
   "id": "eb1f7e75",
   "metadata": {},
   "source": [
    "## Oxygen\n",
    "[ocn.020c.rw0 Ocean Dissolved Oxygen Concentration](https://resourcewatch.org/data/explore/ocn020c-Dissolved-Oxygen-Concentration) ([Admin](https://resourcewatch.org/admin/data/datasets/877cdf39-5536-409c-bcba-2220e1b72796/edit))  \n",
    "`877cdf39-5536-409c-bcba-2220e1b72796`  \n",
    "[Dataset](https://api.resourcewatch.org/v1/dataset/877cdf39-5536-409c-bcba-2220e1b72796/), [Widgets](https://api.resourcewatch.org/v1/dataset/877cdf39-5536-409c-bcba-2220e1b72796/widget)"
   ]
  },
  {
   "cell_type": "code",
   "execution_count": 11,
   "id": "32def3ba",
   "metadata": {},
   "outputs": [],
   "source": [
    "dataset_id = '877cdf39-5536-409c-bcba-2220e1b72796'\n",
    "name = 'Dissolved Oxygen Concentration at River Mouths in Basin'\n",
    "description = 'Time series data of dissolved oxygen concentrations at river mouths within the basin'"
   ]
  },
  {
   "cell_type": "markdown",
   "id": "0d000d1b",
   "metadata": {},
   "source": [
    "- [Oxygen](https://api.resourcewatch.org/v1/widget/3f531725-9d1f-436f-85f8-b1494b0262c1?env=production) `3f531725-9d1f-436f-85f8-b1494b0262c1`  "
   ]
  }
 ],
 "metadata": {
  "kernelspec": {
   "display_name": "rw",
   "language": "python",
   "name": "rw"
  },
  "language_info": {
   "codemirror_mode": {
    "name": "ipython",
    "version": 3
   },
   "file_extension": ".py",
   "mimetype": "text/x-python",
   "name": "python",
   "nbconvert_exporter": "python",
   "pygments_lexer": "ipython3",
   "version": "3.7.10"
  }
 },
 "nbformat": 4,
 "nbformat_minor": 5
}
