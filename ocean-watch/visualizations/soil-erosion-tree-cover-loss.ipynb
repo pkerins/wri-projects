{
 "cells": [
  {
   "cell_type": "markdown",
   "id": "732c6d60",
   "metadata": {},
   "source": [
    "# Soil Erosion Prevalence and Tree Cover Loss\n",
    "Surface area of land experiencing high soil erosion prevalence; surface area of tree cover loss. Both presented by country/territory.\n",
    "\n",
    "Note that this is a parameterized widget; the specification passed to the API will not be renderable without the geostore identifier being inserted.\n",
    "\n",
    "**Note: widget incomplete - suspended from Ocean Watch minimum viable product**\n",
    "\n",
    "_Author: Peter Kerins_  \n",
    "_Created: 28 Jul 2021_  \n",
    "_Environment: jupyterlab_  "
   ]
  },
  {
   "cell_type": "markdown",
   "id": "68084f05",
   "metadata": {},
   "source": [
    "## Style\n",
    "- Vega chart\n",
    "- Ocean Watch country page - parameterized chart\n",
    "- Time series\n",
    "- Hybrid chart: line, bar, area"
   ]
  },
  {
   "cell_type": "markdown",
   "id": "d4fc1f8a",
   "metadata": {},
   "source": [
    "## Data\n",
    "Surface areas calculated on Google Earth Engine ([high soil erosion prevalence](https://code.earthengine.google.com/78c04b071939eeddfcdc40f3dae2153c), [tree cover loss](https://code.earthengine.google.com/9d7e32d1409dfee9d1d0f81f30688cdb)); outputs combined and restructured via Python scripts ([high soil erosion prevalence](../analysis/high-soil-erosion-structuring.py), [tree cover loss](../analysis/tree-cover-loss-structuring.py)).  \n",
    "Carto: [ow_widget_territory](https://resourcewatch.carto.com/u/wri-rw/dataset/ow_widget_territory) (master table for all country widgets on Ocean Watch)    "
   ]
  },
  {
   "cell_type": "markdown",
   "id": "2d311c00",
   "metadata": {},
   "source": [
    "## Preparation"
   ]
  },
  {
   "cell_type": "code",
   "execution_count": 1,
   "id": "0f4e79bb",
   "metadata": {
    "jupyter": {
     "source_hidden": true
    }
   },
   "outputs": [],
   "source": [
    "import json\n",
    "from vega import Vega\n",
    "from IPython.display import display"
   ]
  },
  {
   "cell_type": "code",
   "execution_count": 2,
   "id": "e81e8265",
   "metadata": {
    "jupyter": {
     "source_hidden": true
    }
   },
   "outputs": [],
   "source": [
    "def Vega(spec):\n",
    "    bundle = {}\n",
    "    bundle['application/vnd.vega.v5+json'] = spec\n",
    "    display(bundle, raw=True)"
   ]
  },
  {
   "cell_type": "code",
   "execution_count": 3,
   "id": "567b1108",
   "metadata": {
    "jupyter": {
     "source_hidden": true
    },
    "tags": []
   },
   "outputs": [],
   "source": [
    "widget_width = 400\n",
    "widget_height = 300"
   ]
  },
  {
   "cell_type": "markdown",
   "id": "5afb5a16",
   "metadata": {},
   "source": [
    "# Widget"
   ]
  },
  {
   "cell_type": "markdown",
   "id": "86a21b28",
   "metadata": {},
   "source": [
    "## Demo Queries\n",
    "`gid_0 ILIKE <iso3>` used as stand-in for parameterized `geostore_id={{geostore_id}}` in production version  \n",
    "\n",
    "Three queries for three separate time series  \n",
    "\n",
    "### Yearly Loss\n",
    "```sql\n",
    "SELECT gid_0, name_0, variable, date, value \n",
    "FROM ow_widget_territory\n",
    "WHERE widget ILIKE 'soil erosion and forest loss'\n",
    "AND gid_0 ILIKE 'BRA'\n",
    "AND variable ILIKE 'year_loss'\n",
    "ORDER BY gid_0 ASC, date ASC\n",
    "```\n",
    "\n",
    "### Cumulative Loss\n",
    "```sql\n",
    "SELECT gid_0, name_0, variable, date, value \n",
    "FROM ow_widget_territory\n",
    "WHERE widget ILIKE 'soil erosion and forest loss'\n",
    "AND gid_0 ILIKE 'BRA'\n",
    "AND variable ILIKE 'cumulative_loss'\n",
    "ORDER BY gid_0 ASC, date ASC\n",
    "```\n",
    "\n",
    "### High Soil Erosion Prevalence\n",
    "```sql\n",
    "SELECT gid_0, name_0, variable, date, value \n",
    "FROM ow_widget_territory\n",
    "WHERE widget ILIKE 'soil erosion and forest loss'\n",
    "AND gid_0 ILIKE 'BRA'\n",
    "AND variable ILIKE 'highsep'\n",
    "ORDER BY gid_0 ASC, date ASC\n",
    "```"
   ]
  },
  {
   "cell_type": "markdown",
   "id": "5d36797f",
   "metadata": {},
   "source": [
    "## Parameterized Query\n",
    "```sql\n",
    "SELECT territory.gid_0, territory.name_0, territory.variable, territory.date, territory.value \n",
    "FROM ow_widget_territory territory\n",
    "LEFT OUTER JOIN gadm36_0 gadm ON territory.gid_0 = gadm.gid_0\n",
    "WHERE territory.widget ILIKE 'land cover change: urbanization'\n",
    "AND gadm.geostore_prod ILIKE '{{geostore_id}}'\n",
    "ORDER BY territory.gid_0 ASC, territory.date ASC, territory.variable DESC\n",
    "```"
   ]
  },
  {
   "cell_type": "markdown",
   "id": "650db757",
   "metadata": {},
   "source": [
    "## Demo Specification\n",
    "_Code in RW style, not vanilla Vega_\n",
    "- [Select Territory](https://api.resourcewatch.org/v1/widget/fd292bc0-be35-4fc9-8dc1-8485ea0360b8?env=production) `fd292bc0-be35-4fc9-8dc1-8485ea0360b8`  "
   ]
  },
  {
   "cell_type": "code",
   "execution_count": 4,
   "id": "a7185382",
   "metadata": {},
   "outputs": [
    {
     "data": {
      "application/vnd.vega.v5+json": {
       "autosize": {
        "contains": "padding",
        "resize": true,
        "type": "pad"
       },
       "axes": [
        {
         "encode": {
          "labels": {
           "enter": {},
           "hover": {
            "fill": {
             "value": "firebrick"
            }
           },
           "interactive": true,
           "update": {
            "align": {
             "value": "right"
            },
            "baseline": {
             "value": "middle"
            },
            "dx": {
             "value": 4
            },
            "fill": {
             "value": "#717171"
            }
           }
          }
         },
         "orient": "left",
         "scale": "yscale",
         "title": "Area (sq. km)"
        },
        {
         "encode": {
          "labels": {
           "enter": {},
           "hover": {
            "fill": {
             "value": "black"
            }
           },
           "interactive": true,
           "update": {
            "fill": {
             "value": "#717171"
            }
           }
          }
         },
         "labelOverlap": true,
         "labelPadding": 4,
         "orient": "bottom",
         "scale": "xband",
         "tickSize": 0,
         "zindex": 1
        }
       ],
       "data": [
        {
         "format": {
          "parse": {
           "date": "number"
          },
          "property": "rows",
          "type": "json"
         },
         "name": "year_loss",
         "transform": [],
         "url": {
          "signal": "'https://wri-rw.carto.com/api/v2/sql?q=SELECT gid_0, name_0, variable, date, value FROM ow_widget_territory WHERE widget ILIKE %27soil erosion and forest loss%27 AND name_0 ILIKE %27'+territory_name+'%27 AND variable ILIKE %27year_loss%27 ORDER BY gid_0 ASC, date ASC'"
         }
        },
        {
         "format": {
          "parse": {
           "date": "number"
          },
          "property": "rows",
          "type": "json"
         },
         "name": "cum_loss",
         "transform": [],
         "url": {
          "signal": "'https://wri-rw.carto.com/api/v2/sql?q=SELECT gid_0, name_0, variable, date, value FROM ow_widget_territory WHERE widget ILIKE %27soil erosion and forest loss%27 AND name_0 ILIKE %27'+territory_name+'%27 AND variable ILIKE %27cumulative_loss%27 ORDER BY gid_0 ASC, date ASC'"
         }
        },
        {
         "format": {
          "parse": {
           "date": "number"
          },
          "property": "rows",
          "type": "json"
         },
         "name": "sep",
         "transform": [],
         "url": {
          "signal": "'https://wri-rw.carto.com/api/v2/sql?q=SELECT gid_0, name_0, variable, date, value FROM ow_widget_territory WHERE widget ILIKE %27soil erosion and forest loss%27 AND name_0 ILIKE %27'+territory_name+'%27 AND variable ILIKE %27highsep%27 ORDER BY gid_0 ASC, date ASC'"
         }
        }
       ],
       "height": 300,
       "interaction_config": [
        {
         "config": {
          "fields": [
           {
            "column": "value",
            "format": ",.1f",
            "property": "Area (sq. km)",
            "type": "number"
           }
          ]
         },
         "name": "tooltip"
        }
       ],
       "legends": [],
       "marks": [
        {
         "encode": {
          "enter": {
           "fill": {
            "value": "lightgreen"
           },
           "width": {
            "band": 1,
            "scale": "xband"
           },
           "x": {
            "field": "date",
            "scale": "xband"
           },
           "y": {
            "scale": "yscale",
            "value": 0
           },
           "y2": {
            "field": "value",
            "scale": "yscale"
           }
          },
          "hover": {
           "fillOpacity": {
            "value": 0.5
           }
          },
          "update": {
           "fillOpacity": {
            "value": 1
           }
          }
         },
         "from": {
          "data": "cum_loss"
         },
         "name": "area_cum",
         "type": "area"
        },
        {
         "encode": {
          "enter": {
           "fill": {
            "value": "red"
           },
           "width": {
            "band": 1,
            "scale": "xband"
           },
           "xc": {
            "field": "date",
            "scale": "xband"
           },
           "y": {
            "scale": "yscale",
            "value": 0
           },
           "y2": {
            "field": "value",
            "scale": "yscale"
           }
          },
          "hover": {
           "fillOpacity": {
            "value": 0.5
           }
          },
          "update": {
           "fillOpacity": {
            "value": 1
           }
          }
         },
         "from": {
          "data": "year_loss"
         },
         "name": "bars_year",
         "type": "rect"
        },
        {
         "encode": {
          "enter": {
           "stroke": {
            "value": "brown"
           },
           "x": {
            "field": "date",
            "scale": "xband"
           },
           "y": {
            "field": "value",
            "scale": "yscale"
           }
          },
          "hover": {
           "fillOpacity": {
            "value": 0.5
           }
          },
          "update": {
           "fillOpacity": {
            "value": 1
           }
          }
         },
         "from": {
          "data": "sep"
         },
         "name": "line_sep",
         "type": "line"
        }
       ],
       "scales": [
        {
         "domain": {
          "data": "year_loss",
          "field": "date"
         },
         "name": "xband",
         "padding": 0.2,
         "range": "width",
         "type": "band"
        },
        {
         "domain": {
          "data": "year_loss",
          "field": "date"
         },
         "name": "xline",
         "range": "width",
         "type": "linear"
        },
        {
         "domain": {
          "fields": [
           {
            "data": "year_loss",
            "field": "value"
           },
           {
            "data": "cum_loss",
            "field": "value"
           },
           {
            "data": "sep",
            "field": "value"
           }
          ]
         },
         "name": "yscale",
         "nice": true,
         "range": "height",
         "round": true,
         "type": "linear",
         "zero": true
        }
       ],
       "signals": [
        {
         "name": "hover",
         "on": [
          {
           "events": "@cell:mouseover",
           "update": "datum"
          },
          {
           "events": "@cell:mouseout",
           "update": "null"
          }
         ],
         "value": null
        },
        {
         "bind": {
          "input": "select",
          "name": "GCRMN Region ",
          "options": [
           "Aruba",
           "Afghanistan",
           "Angola",
           "Anguilla",
           "Åland",
           "Albania",
           "Andorra",
           "United Arab Emirates",
           "Argentina",
           "Armenia",
           "American Samoa",
           "French Southern Territories",
           "Antigua and Barbuda",
           "Australia",
           "Austria",
           "Azerbaijan",
           "Burundi",
           "Belgium",
           "Benin",
           "Bonaire, Sint Eustatius and Saba",
           "Burkina Faso",
           "Bangladesh",
           "Bulgaria",
           "Bahrain",
           "Bahamas",
           "Bosnia and Herzegovina",
           "Saint-Barthélemy",
           "Belarus",
           "Belize",
           "Bermuda",
           "Bolivia",
           "Brazil",
           "Barbados",
           "Brunei",
           "Bhutan",
           "Bouvet Island",
           "Botswana",
           "Central African Republic",
           "Canada",
           "Cocos Islands",
           "Switzerland",
           "Chile",
           "China",
           "Côte d'Ivoire",
           "Cameroon",
           "Democratic Republic of the Congo",
           "Republic of Congo",
           "Cook Islands",
           "Colombia",
           "Comoros",
           "Cape Verde",
           "Costa Rica",
           "Cuba",
           "Curaçao",
           "Christmas Island",
           "Cayman Islands",
           "Cyprus",
           "Czech Republic",
           "Germany",
           "Djibouti",
           "Dominica",
           "Denmark",
           "Dominican Republic",
           "Algeria",
           "Ecuador",
           "Egypt",
           "Eritrea",
           "Western Sahara",
           "Spain",
           "Estonia",
           "Ethiopia",
           "Finland",
           "Fiji",
           "Falkland Islands",
           "France",
           "Faroe Islands",
           "Micronesia",
           "Gabon",
           "United Kingdom",
           "Georgia",
           "Guernsey",
           "Ghana",
           "Gibraltar",
           "Guinea",
           "Guadeloupe",
           "Gambia",
           "Guinea-Bissau",
           "Equatorial Guinea",
           "Greece",
           "Grenada",
           "Greenland",
           "Guatemala",
           "French Guiana",
           "Guam",
           "Guyana",
           "Hong Kong",
           "Heard Island and McDonald Islands",
           "Honduras",
           "Croatia",
           "Haiti",
           "Hungary",
           "Indonesia",
           "Isle of Man",
           "India",
           "British Indian Ocean Territory",
           "Ireland",
           "Iran",
           "Iraq",
           "Iceland",
           "Israel",
           "Italy",
           "Jamaica",
           "Jersey",
           "Jordan",
           "Japan",
           "Kazakhstan",
           "Kenya",
           "Kyrgyzstan",
           "Cambodia",
           "Kiribati",
           "Saint Kitts and Nevis",
           "South Korea",
           "Kuwait",
           "Laos",
           "Lebanon",
           "Liberia",
           "Libya",
           "Saint Lucia",
           "Liechtenstein",
           "Sri Lanka",
           "Lesotho",
           "Lithuania",
           "Luxembourg",
           "Latvia",
           "Macao",
           "Saint-Martin",
           "Morocco",
           "Monaco",
           "Moldova",
           "Madagascar",
           "Maldives",
           "Mexico",
           "Marshall Islands",
           "Macedonia",
           "Mali",
           "Malta",
           "Myanmar",
           "Montenegro",
           "Mongolia",
           "Northern Mariana Islands",
           "Mozambique",
           "Mauritania",
           "Montserrat",
           "Martinique",
           "Mauritius",
           "Malawi",
           "Malaysia",
           "Mayotte",
           "Namibia",
           "New Caledonia",
           "Niger",
           "Norfolk Island",
           "Nigeria",
           "Nicaragua",
           "Niue",
           "Netherlands",
           "Norway",
           "Nepal",
           "Nauru",
           "New Zealand",
           "Oman",
           "Pakistan",
           "Panama",
           "Pitcairn Islands",
           "Peru",
           "Philippines",
           "Palau",
           "Papua New Guinea",
           "Poland",
           "Puerto Rico",
           "North Korea",
           "Portugal",
           "Paraguay",
           "Palestina",
           "French Polynesia",
           "Qatar",
           "Reunion",
           "Romania",
           "Russia",
           "Rwanda",
           "Saudi Arabia",
           "Sudan",
           "Senegal",
           "Singapore",
           "South Georgia and the South Sandwich Islands",
           "Saint Helena",
           "Svalbard and Jan Mayen",
           "Solomon Islands",
           "Sierra Leone",
           "El Salvador",
           "San Marino",
           "Somalia",
           "Saint Pierre and Miquelon",
           "Serbia",
           "South Sudan",
           "São Tomé and Príncipe",
           "Suriname",
           "Slovakia",
           "Slovenia",
           "Sweden",
           "Swaziland",
           "Sint Maarten",
           "Seychelles",
           "Syria",
           "Turks and Caicos Islands",
           "Chad",
           "Togo",
           "Thailand",
           "Tajikistan",
           "Tokelau",
           "Turkmenistan",
           "Timor-Leste",
           "Tonga",
           "Trinidad and Tobago",
           "Tunisia",
           "Turkey",
           "Tuvalu",
           "Taiwan",
           "Tanzania",
           "Uganda",
           "Ukraine",
           "United States Minor Outlying Islands",
           "Uruguay",
           "United States",
           "Uzbekistan",
           "Vatican City",
           "Saint Vincent and the Grenadines",
           "Venezuela",
           "British Virgin Islands",
           "Virgin Islands, U.S.",
           "Vietnam",
           "Vanuatu",
           "Wallis and Futuna",
           "Samoa",
           "Akrotiri and Dhekelia",
           "Caspian Sea",
           "Clipperton Island",
           "Kosovo",
           "Northern Cyprus",
           "Paracel Islands",
           "Spratly Islands",
           "Yemen",
           "South Africa",
           "Zambia",
           "Zimbabwe"
          ]
         },
         "description": "Name of country/territory",
         "name": "territory_name",
         "value": "Brazil"
        }
       ],
       "width": 400
      },
      "image/png": "[encoded data removed]"
     },
     "metadata": {},
     "output_type": "display_data"
    }
   ],
   "source": [
    "spec=json.loads(\"\"\"\n",
    "{\n",
    "  \"width\": 300,\n",
    "  \"height\": 300,\n",
    "  \"autosize\": {\"type\": \"pad\", \"resize\": true, \"contains\": \"padding\"},\n",
    "  \"signals\": [\n",
    "    {\n",
    "      \"name\": \"hover\",\n",
    "      \"value\": null,\n",
    "      \"on\": [\n",
    "        {\"events\": \"@cell:mouseover\", \"update\": \"datum\"},\n",
    "        {\"events\": \"@cell:mouseout\", \"update\": \"null\"}\n",
    "      ]\n",
    "    }\n",
    "  ],\n",
    "  \"data\": [\n",
    "    {\n",
    "      \"name\": \"year_loss\",\n",
    "      \"url\": \"https://wri-rw.carto.com/api/v2/sql?q=SELECT gid_0, name_0, variable, date, value FROM ow_widget_territory WHERE widget ILIKE 'soil erosion and forest loss' AND gid_0 ILIKE 'BRA' AND variable ILIKE 'year_loss' ORDER BY gid_0 ASC, date ASC\",\n",
    "      \"format\": {\n",
    "        \"type\": \"json\",\n",
    "        \"property\": \"rows\",\n",
    "        \"parse\": {\n",
    "          \"date\": \"number\"\n",
    "        }\n",
    "      },\n",
    "\n",
    "      \"transform\": [\n",
    "      ]\n",
    "    },\n",
    "    {\n",
    "      \"name\": \"cum_loss\",\n",
    "      \"url\": \"https://wri-rw.carto.com/api/v2/sql?q=SELECT gid_0, name_0, variable, date, value FROM ow_widget_territory WHERE widget ILIKE 'soil erosion and forest loss' AND gid_0 ILIKE 'BRA' AND variable ILIKE 'cumulative_loss' ORDER BY gid_0 ASC, date ASC\",\n",
    "      \"format\": {\n",
    "        \"type\": \"json\",\n",
    "        \"property\": \"rows\",\n",
    "        \"parse\": {\n",
    "          \"date\": \"number\"\n",
    "        }\n",
    "      },\n",
    "      \"transform\": [\n",
    "      ]\n",
    "    },\n",
    "    {\n",
    "      \"name\": \"sep\",\n",
    "      \"url\": \"https://wri-rw.carto.com/api/v2/sql?q=SELECT gid_0, name_0, variable, date, value FROM ow_widget_territory WHERE widget ILIKE 'soil erosion and forest loss' AND gid_0 ILIKE 'BRA' AND variable ILIKE 'highsep' ORDER BY gid_0 ASC, date ASC\",\n",
    "      \"format\": {\n",
    "        \"type\": \"json\", \n",
    "        \"property\": \"rows\",\n",
    "        \"parse\": {\n",
    "          \"date\": \"number\"\n",
    "        }\n",
    "      },\n",
    "      \"transform\": [\n",
    "      ]\n",
    "    }\n",
    "  ],\n",
    "  \"scales\": [\n",
    "    {\n",
    "      \"name\": \"xband\",\n",
    "      \"type\": \"band\",\n",
    "      \"domain\": {\"data\": \"year_loss\", \"field\": \"date\"},\n",
    "      \"range\": \"width\",\n",
    "      \"padding\": 0.2\n",
    "    },\n",
    "    {\n",
    "      \"name\": \"xline\",\n",
    "      \"type\": \"linear\",\n",
    "      \"domain\": {\"data\": \"year_loss\", \"field\": \"date\"},\n",
    "      \"range\": \"width\"\n",
    "    },\n",
    "    {\n",
    "      \"name\": \"yscale\",\n",
    "      \"type\": \"linear\",\n",
    "      \"domain\": {\"data\": \"sep\", \"field\": \"value\"},\n",
    "      \"range\": \"height\",\n",
    "      \"round\": true,\n",
    "      \"zero\": true,\n",
    "      \"nice\": true\n",
    "    }\n",
    "  ],\n",
    "  \"axes\": [\n",
    "    {\n",
    "      \"orient\": \"left\",\n",
    "      \"scale\": \"yscale\",\n",
    "      \"title\": \"Area (sq. km)\",\n",
    "      \"encode\": {\n",
    "        \"labels\": {\n",
    "          \"interactive\": true,\n",
    "          \"enter\": {\n",
    "          },\n",
    "          \"update\": {\n",
    "            \"align\": {\"value\": \"right\"},\n",
    "            \"baseline\": {\"value\": \"middle\"},\n",
    "            \"dx\": {\"value\": 4},\n",
    "            \"fill\": {\"value\": \"#717171\"}\n",
    "          },\n",
    "          \"hover\": {\"fill\": {\"value\": \"firebrick\"}}\n",
    "        }\n",
    "      }\n",
    "    },\n",
    "    {\n",
    "      \"orient\": \"bottom\",\n",
    "      \"scale\": \"xband\",\n",
    "      \"tickSize\": 0,\n",
    "      \"labelPadding\": 4,\n",
    "      \"labelOverlap\": true,\n",
    "      \"zindex\": 1,\n",
    "      \"encode\": {\n",
    "        \"labels\": {\n",
    "          \"interactive\": true,\n",
    "          \"enter\": {\n",
    "          },\n",
    "          \"update\": {\n",
    "            \"fill\": {\"value\": \"#717171\"}\n",
    "          },\n",
    "          \"hover\": {\n",
    "            \"fill\": {\n",
    "              \"value\": \"black\"\n",
    "            }\n",
    "          }\n",
    "        }\n",
    "      }\n",
    "    }\n",
    "  ],\n",
    "  \"marks\": [\n",
    "    {\n",
    "      \"name\": \"area_cum\",\n",
    "      \"from\": {\"data\": \"cum_loss\"},\n",
    "      \"type\": \"area\",\n",
    "      \"encode\": {\n",
    "        \"enter\": {\n",
    "          \"x\": {\"scale\": \"xband\", \"field\": \"date\"},\n",
    "          \"width\": {\"scale\": \"xband\", \"band\": 1},\n",
    "          \"y\": {\"scale\": \"yscale\", \"value\": 0},\n",
    "          \"y2\": {\"scale\": \"yscale\", \"field\": \"value\"},\n",
    "          \"fill\": {\"value\": \"green\"}\n",
    "        },\n",
    "        \"hover\": {\"fillOpacity\": {\"value\": 0.5}},\n",
    "        \"update\": {\"fillOpacity\": {\"value\": 1}}\n",
    "      }\n",
    "    },\n",
    "    {\n",
    "      \"name\": \"bars_year\",\n",
    "      \"from\": {\"data\": \"year_loss\"},\n",
    "      \"type\": \"rect\",\n",
    "      \"encode\": {\n",
    "        \"enter\": {\n",
    "          \"x\": {\"scale\": \"xband\", \"field\": \"date\"},\n",
    "          \"width\": {\"scale\": \"xband\", \"band\": 1},\n",
    "          \"y\": {\"scale\": \"yscale\", \"value\": 0},\n",
    "          \"y2\": {\"scale\": \"yscale\", \"field\": \"value\"},\n",
    "          \"fill\": {\"value\": \"#E70000\"}\n",
    "        },\n",
    "        \"hover\": {\"fillOpacity\": {\"value\": 0.5}},\n",
    "        \"update\": {\"fillOpacity\": {\"value\": 1}}\n",
    "      }\n",
    "    },\n",
    "    {\n",
    "      \"name\": \"line_sep\",\n",
    "      \"from\": {\"data\": \"sep\"},\n",
    "      \"type\": \"line\",\n",
    "      \"encode\": {\n",
    "        \"enter\": {\n",
    "          \"x\": {\"scale\": \"xband\", \"field\": \"date\"},\n",
    "          \"y\": {\"scale\": \"yscale\", \"field\": \"value\"},\n",
    "          \"stroke\": {\"value\": \"brown\"}\n",
    "        },\n",
    "        \"hover\": {\"fillOpacity\": {\"value\": 0.5}},\n",
    "        \"update\": {\"fillOpacity\": {\"value\": 1}}\n",
    "      }\n",
    "    }\n",
    "  ],\n",
    "  \"legends\": [\n",
    "  ],\n",
    "  \"interaction_config\": [\n",
    "    {\n",
    "      \"name\": \"tooltip\",\n",
    "      \"config\": {\n",
    "        \"fields\": [\n",
    "          {\n",
    "            \"column\": \"value\",\n",
    "            \"property\": \"Area (sq. km)\",\n",
    "            \"type\": \"number\",\n",
    "            \"format\": \",.1f\"\n",
    "          }\n",
    "        ]\n",
    "      }\n",
    "    }\n",
    "  ]\n",
    "}\n",
    "\"\"\")\n",
    "vega_view=dict(spec)\n",
    "vega_view['width']=widget_width\n",
    "vega_view['height']=widget_height\n",
    "Vega(vega_view)"
   ]
  },
  {
   "cell_type": "markdown",
   "id": "00dd5711",
   "metadata": {},
   "source": [
    "# RW API\n",
    "Parent dataset [soc.104.rw0 Global Land Cover](https://resourcewatch.org/data/explore/Global-Land-Cover-UN-FAO-LCCS-Classification) ([Admin](https://resourcewatch.org/admin/data/datasets/b2f00f99-46ed-43e6-a7a1-a5809d9369d4/edit))    \n",
    "[API ID](https://api.resourcewatch.org/v1/dataset/b2f00f99-46ed-43e6-a7a1-a5809d9369d4/) `b2f00f99-46ed-43e6-a7a1-a5809d9369d4`  \n",
    "[Widgets](https://api.resourcewatch.org/v1/dataset/b2f00f99-46ed-43e6-a7a1-a5809d9369d4/widget)"
   ]
  },
  {
   "cell_type": "markdown",
   "id": "327ff599",
   "metadata": {},
   "source": [
    "Widgets created via [widget scripts](https://github.com/resource-watch/data-team-tools/tree/master/advanced_widget_writer).  "
   ]
  }
 ],
 "metadata": {
  "kernelspec": {
   "display_name": "rw",
   "language": "python",
   "name": "rw"
  },
  "language_info": {
   "codemirror_mode": {
    "name": "ipython",
    "version": 3
   },
   "file_extension": ".py",
   "mimetype": "text/x-python",
   "name": "python",
   "nbconvert_exporter": "python",
   "pygments_lexer": "ipython3",
   "version": "3.7.10"
  }
 },
 "nbformat": 4,
 "nbformat_minor": 5
}
